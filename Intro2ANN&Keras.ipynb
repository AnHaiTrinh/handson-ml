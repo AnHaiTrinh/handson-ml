{
  "nbformat": 4,
  "nbformat_minor": 0,
  "metadata": {
    "colab": {
      "provenance": [],
      "authorship_tag": "ABX9TyPF9UfeVFItENKeA0bOGsqF",
      "include_colab_link": true
    },
    "kernelspec": {
      "name": "python3",
      "display_name": "Python 3"
    },
    "language_info": {
      "name": "python"
    },
    "accelerator": "GPU"
  },
  "cells": [
    {
      "cell_type": "markdown",
      "metadata": {
        "id": "view-in-github",
        "colab_type": "text"
      },
      "source": [
        "<a href=\"https://colab.research.google.com/github/AnHaiTrinh/handson-ml/blob/main/Intro2ANN%26Keras.ipynb\" target=\"_parent\"><img src=\"https://colab.research.google.com/assets/colab-badge.svg\" alt=\"Open In Colab\"/></a>"
      ]
    },
    {
      "cell_type": "code",
      "execution_count": null,
      "metadata": {
        "id": "esvrGAP5j5ga"
      },
      "outputs": [],
      "source": [
        "import numpy as np\n",
        "\n",
        "import time, os\n",
        "\n",
        "import sklearn\n",
        "\n",
        "import tensorflow as tf\n",
        "from tensorflow import keras\n",
        "\n",
        "%matplotlib inline\n",
        "import matplotlib as mpl\n",
        "import matplotlib.pyplot as plt\n",
        "mpl.rc('axes', labelsize=14)\n",
        "mpl.rc('xtick', labelsize=12)\n",
        "mpl.rc('ytick', labelsize=12)"
      ]
    },
    {
      "cell_type": "code",
      "source": [
        "tf.__version__"
      ],
      "metadata": {
        "colab": {
          "base_uri": "https://localhost:8080/",
          "height": 36
        },
        "id": "74vxDAKLlKUJ",
        "outputId": "5d553c00-9298-4fb9-bfbc-7b7c14f180de"
      },
      "execution_count": null,
      "outputs": [
        {
          "output_type": "execute_result",
          "data": {
            "text/plain": [
              "'2.8.0'"
            ],
            "application/vnd.google.colaboratory.intrinsic+json": {
              "type": "string"
            }
          },
          "metadata": {},
          "execution_count": 2
        }
      ]
    },
    {
      "cell_type": "code",
      "source": [
        "keras.__version__"
      ],
      "metadata": {
        "colab": {
          "base_uri": "https://localhost:8080/",
          "height": 36
        },
        "id": "XpnLL1SklUSc",
        "outputId": "073c8836-cf77-4799-a106-74ae565c40b9"
      },
      "execution_count": null,
      "outputs": [
        {
          "output_type": "execute_result",
          "data": {
            "text/plain": [
              "'2.8.0'"
            ],
            "application/vnd.google.colaboratory.intrinsic+json": {
              "type": "string"
            }
          },
          "metadata": {},
          "execution_count": 3
        }
      ]
    },
    {
      "cell_type": "code",
      "source": [
        "fashion_mnist = keras.datasets.fashion_mnist\n",
        "(X_train_full, y_train_full), (X_test, y_test) = fashion_mnist.load_data()"
      ],
      "metadata": {
        "colab": {
          "base_uri": "https://localhost:8080/"
        },
        "id": "kdyRdFdjleeN",
        "outputId": "625adb1b-f991-4a9b-867b-743557682931"
      },
      "execution_count": null,
      "outputs": [
        {
          "output_type": "stream",
          "name": "stdout",
          "text": [
            "Downloading data from https://storage.googleapis.com/tensorflow/tf-keras-datasets/train-labels-idx1-ubyte.gz\n",
            "32768/29515 [=================================] - 0s 0us/step\n",
            "40960/29515 [=========================================] - 0s 0us/step\n",
            "Downloading data from https://storage.googleapis.com/tensorflow/tf-keras-datasets/train-images-idx3-ubyte.gz\n",
            "26427392/26421880 [==============================] - 0s 0us/step\n",
            "26435584/26421880 [==============================] - 0s 0us/step\n",
            "Downloading data from https://storage.googleapis.com/tensorflow/tf-keras-datasets/t10k-labels-idx1-ubyte.gz\n",
            "16384/5148 [===============================================================================================] - 0s 0us/step\n",
            "Downloading data from https://storage.googleapis.com/tensorflow/tf-keras-datasets/t10k-images-idx3-ubyte.gz\n",
            "4423680/4422102 [==============================] - 0s 0us/step\n",
            "4431872/4422102 [==============================] - 0s 0us/step\n"
          ]
        }
      ]
    },
    {
      "cell_type": "code",
      "source": [
        "X_train_full.shape"
      ],
      "metadata": {
        "colab": {
          "base_uri": "https://localhost:8080/"
        },
        "id": "Ty-W0T0RmL2B",
        "outputId": "1e8c6b07-e6df-4699-cf8a-4d22b63d44a1"
      },
      "execution_count": null,
      "outputs": [
        {
          "output_type": "execute_result",
          "data": {
            "text/plain": [
              "(60000, 28, 28)"
            ]
          },
          "metadata": {},
          "execution_count": 5
        }
      ]
    },
    {
      "cell_type": "code",
      "source": [
        "X_train_full.dtype"
      ],
      "metadata": {
        "colab": {
          "base_uri": "https://localhost:8080/"
        },
        "id": "C0uKE1ECmVM1",
        "outputId": "11b2d548-0f77-46cc-c9b6-5adbbad079a0"
      },
      "execution_count": null,
      "outputs": [
        {
          "output_type": "execute_result",
          "data": {
            "text/plain": [
              "dtype('uint8')"
            ]
          },
          "metadata": {},
          "execution_count": 6
        }
      ]
    },
    {
      "cell_type": "code",
      "source": [
        "X_valid, X_train = X_train_full[:5000] / 255.0, X_train_full[5000:] / 255.0\n",
        "y_valid, y_train = y_train_full[:5000], y_train_full[5000:]\n",
        "X_test = X_test / 255.0"
      ],
      "metadata": {
        "id": "0KpS2IWomX4Y"
      },
      "execution_count": null,
      "outputs": []
    },
    {
      "cell_type": "code",
      "source": [
        "plt.imshow(X_train[0], cmap='binary')\n",
        "plt.axis('off')"
      ],
      "metadata": {
        "colab": {
          "base_uri": "https://localhost:8080/",
          "height": 266
        },
        "id": "VY1vJuG8tYaR",
        "outputId": "08fa3e70-961d-4b6f-a0d5-47d8ea98ba35"
      },
      "execution_count": null,
      "outputs": [
        {
          "output_type": "execute_result",
          "data": {
            "text/plain": [
              "(-0.5, 27.5, 27.5, -0.5)"
            ]
          },
          "metadata": {},
          "execution_count": 8
        },
        {
          "output_type": "display_data",
          "data": {
            "text/plain": [
              "<Figure size 432x288 with 1 Axes>"
            ],
            "image/png": "[encoded data removed]"
          },
          "metadata": {
            "needs_background": "light"
          }
        }
      ]
    },
    {
      "cell_type": "code",
      "source": [
        "class_names = [\"T-shirt/top\", \"Trouser\", \"Pullover\", \"Dress\", \"Coat\", \"Sandal\", \"Shirt\", \"Sneaker\", \"Bag\", \"Ankle boot\"]"
      ],
      "metadata": {
        "id": "pVBLGobnmvgB"
      },
      "execution_count": null,
      "outputs": []
    },
    {
      "cell_type": "code",
      "source": [
        "n_rows, n_cols = 4, 10\n",
        "plt.figure(figsize=(1.2 * n_cols, 1.2 * n_rows))\n",
        "for row in range(n_rows):\n",
        "  for col in range(n_cols):\n",
        "    index = row * n_cols + col\n",
        "    plt.subplot(n_rows, n_cols, index + 1)\n",
        "    plt.imshow(X_train[index], cmap='binary', interpolation='nearest')\n",
        "    plt.axis('off')\n",
        "    plt.title(class_names[y_train[index]], fontsize=12)\n",
        "plt.subplots_adjust(wspace=0.2, hspace=0.5)"
      ],
      "metadata": {
        "colab": {
          "base_uri": "https://localhost:8080/",
          "height": 308
        },
        "id": "DrW9Q5pituxZ",
        "outputId": "9d3cf0e6-4886-4e33-fa6a-d49f23cf5ad3"
      },
      "execution_count": null,
      "outputs": [
        {
          "output_type": "display_data",
          "data": {
            "text/plain": [
              "<Figure size 864x345.6 with 40 Axes>"
            ],
            "image/png": "[encoded data removed]"
          },
          "metadata": {
            "needs_background": "light"
          }
        }
      ]
    },
    {
      "cell_type": "code",
      "source": [
        "class_names[y_train[0]]"
      ],
      "metadata": {
        "colab": {
          "base_uri": "https://localhost:8080/",
          "height": 36
        },
        "id": "m0yvxGsYmvz5",
        "outputId": "8ad2a1af-4dbd-43c0-d02b-ce5001aaa1c1"
      },
      "execution_count": null,
      "outputs": [
        {
          "output_type": "execute_result",
          "data": {
            "text/plain": [
              "'Coat'"
            ],
            "application/vnd.google.colaboratory.intrinsic+json": {
              "type": "string"
            }
          },
          "metadata": {},
          "execution_count": 11
        }
      ]
    },
    {
      "cell_type": "code",
      "source": [
        "model = keras.models.Sequential()\n",
        "model.add(keras.layers.Flatten(input_shape=[28, 28]))\n",
        "model.add(keras.layers.Dense(300, activation='relu'))\n",
        "model.add(keras.layers.Dense(100, activation='relu'))\n",
        "model.add(keras.layers.Dense(10, activation='softmax'))"
      ],
      "metadata": {
        "id": "9Prckji4mwAy"
      },
      "execution_count": null,
      "outputs": []
    },
    {
      "cell_type": "code",
      "source": [
        "same_model = keras.models.Sequential([\n",
        "      keras.layers.Flatten(input_shape=[28, 28]),\n",
        "      keras.layers.Dense(300, activation='relu'),\n",
        "      keras.layers.Dense(100, activation='relu'),\n",
        "      keras.layers.Dense(10, activation='softmax')\n",
        "])"
      ],
      "metadata": {
        "id": "yKTf0P0Tondb"
      },
      "execution_count": null,
      "outputs": []
    },
    {
      "cell_type": "code",
      "source": [
        "model.summary()"
      ],
      "metadata": {
        "colab": {
          "base_uri": "https://localhost:8080/"
        },
        "id": "3EDrTRymp0eh",
        "outputId": "bdff2cb7-b1a3-4f8c-806d-64721088018f"
      },
      "execution_count": null,
      "outputs": [
        {
          "output_type": "stream",
          "name": "stdout",
          "text": [
            "Model: \"sequential\"\n",
            "_________________________________________________________________\n",
            " Layer (type)                Output Shape              Param #   \n",
            "=================================================================\n",
            " flatten (Flatten)           (None, 784)               0         \n",
            "                                                                 \n",
            " dense (Dense)               (None, 300)               235500    \n",
            "                                                                 \n",
            " dense_1 (Dense)             (None, 100)               30100     \n",
            "                                                                 \n",
            " dense_2 (Dense)             (None, 10)                1010      \n",
            "                                                                 \n",
            "=================================================================\n",
            "Total params: 266,610\n",
            "Trainable params: 266,610\n",
            "Non-trainable params: 0\n",
            "_________________________________________________________________\n"
          ]
        }
      ]
    },
    {
      "cell_type": "code",
      "source": [
        "model.layers"
      ],
      "metadata": {
        "colab": {
          "base_uri": "https://localhost:8080/"
        },
        "id": "5PNHOe53rBTD",
        "outputId": "08a5a5cd-6ecc-44a9-b709-a95d42857843"
      },
      "execution_count": null,
      "outputs": [
        {
          "output_type": "execute_result",
          "data": {
            "text/plain": [
              "[<keras.layers.core.flatten.Flatten at 0x7fddd8338310>,\n",
              " <keras.layers.core.dense.Dense at 0x7fdddc8d0650>,\n",
              " <keras.layers.core.dense.Dense at 0x7fde595b9190>,\n",
              " <keras.layers.core.dense.Dense at 0x7fddd82a4310>]"
            ]
          },
          "metadata": {},
          "execution_count": 15
        }
      ]
    },
    {
      "cell_type": "code",
      "source": [
        "hidden1 = model.layers[1]\n",
        "hidden1.name"
      ],
      "metadata": {
        "colab": {
          "base_uri": "https://localhost:8080/",
          "height": 36
        },
        "id": "uP56rC8Vsajz",
        "outputId": "f508ecd9-bdf4-4237-c905-d8db8f5a218a"
      },
      "execution_count": null,
      "outputs": [
        {
          "output_type": "execute_result",
          "data": {
            "text/plain": [
              "'dense'"
            ],
            "application/vnd.google.colaboratory.intrinsic+json": {
              "type": "string"
            }
          },
          "metadata": {},
          "execution_count": 16
        }
      ]
    },
    {
      "cell_type": "code",
      "source": [
        "model.get_layer(\"dense_1\")"
      ],
      "metadata": {
        "colab": {
          "base_uri": "https://localhost:8080/"
        },
        "id": "fdm79YO6sa8y",
        "outputId": "d060da74-021b-4146-bb6d-ae3df6c2467e"
      },
      "execution_count": null,
      "outputs": [
        {
          "output_type": "execute_result",
          "data": {
            "text/plain": [
              "<keras.layers.core.dense.Dense at 0x7fde595b9190>"
            ]
          },
          "metadata": {},
          "execution_count": 17
        }
      ]
    },
    {
      "cell_type": "code",
      "source": [
        "weights, biases = hidden1.get_weights()"
      ],
      "metadata": {
        "id": "sKzbUZassmdt"
      },
      "execution_count": null,
      "outputs": []
    },
    {
      "cell_type": "code",
      "source": [
        "weights"
      ],
      "metadata": {
        "colab": {
          "base_uri": "https://localhost:8080/"
        },
        "id": "XByW4sV_vY7y",
        "outputId": "2b0c7242-81f9-46e8-8697-7a5f46dbb0c2"
      },
      "execution_count": null,
      "outputs": [
        {
          "output_type": "execute_result",
          "data": {
            "text/plain": [
              "array([[-0.00594406,  0.03915787,  0.05579332, ..., -0.04438492,\n",
              "         0.02993018,  0.03849432],\n",
              "       [-0.07240507,  0.04916351,  0.06924124, ..., -0.06627952,\n",
              "        -0.02993573, -0.06591389],\n",
              "       [ 0.0736828 , -0.06940395,  0.06334563, ...,  0.02108832,\n",
              "         0.04314506,  0.0318499 ],\n",
              "       ...,\n",
              "       [-0.00893064,  0.01938095, -0.0039581 , ...,  0.06600317,\n",
              "         0.03069253,  0.04509708],\n",
              "       [-0.05723512,  0.02572691, -0.02723774, ..., -0.02157633,\n",
              "         0.01630662, -0.04898264],\n",
              "       [ 0.02076641, -0.04166638, -0.03298164, ...,  0.01233063,\n",
              "         0.00593796, -0.07038804]], dtype=float32)"
            ]
          },
          "metadata": {},
          "execution_count": 19
        }
      ]
    },
    {
      "cell_type": "code",
      "source": [
        "weights.shape"
      ],
      "metadata": {
        "colab": {
          "base_uri": "https://localhost:8080/"
        },
        "id": "UZrJ662uvgQ4",
        "outputId": "cfe79469-ad02-419f-abe2-e5de3e3fad7b"
      },
      "execution_count": null,
      "outputs": [
        {
          "output_type": "execute_result",
          "data": {
            "text/plain": [
              "(784, 300)"
            ]
          },
          "metadata": {},
          "execution_count": 20
        }
      ]
    },
    {
      "cell_type": "code",
      "source": [
        "biases"
      ],
      "metadata": {
        "colab": {
          "base_uri": "https://localhost:8080/"
        },
        "id": "7xlUlhfUvk1B",
        "outputId": "84e4e03a-0f55-4471-dadc-7ae066960977"
      },
      "execution_count": null,
      "outputs": [
        {
          "output_type": "execute_result",
          "data": {
            "text/plain": [
              "array([0., 0., 0., 0., 0., 0., 0., 0., 0., 0., 0., 0., 0., 0., 0., 0., 0.,\n",
              "       0., 0., 0., 0., 0., 0., 0., 0., 0., 0., 0., 0., 0., 0., 0., 0., 0.,\n",
              "       0., 0., 0., 0., 0., 0., 0., 0., 0., 0., 0., 0., 0., 0., 0., 0., 0.,\n",
              "       0., 0., 0., 0., 0., 0., 0., 0., 0., 0., 0., 0., 0., 0., 0., 0., 0.,\n",
              "       0., 0., 0., 0., 0., 0., 0., 0., 0., 0., 0., 0., 0., 0., 0., 0., 0.,\n",
              "       0., 0., 0., 0., 0., 0., 0., 0., 0., 0., 0., 0., 0., 0., 0., 0., 0.,\n",
              "       0., 0., 0., 0., 0., 0., 0., 0., 0., 0., 0., 0., 0., 0., 0., 0., 0.,\n",
              "       0., 0., 0., 0., 0., 0., 0., 0., 0., 0., 0., 0., 0., 0., 0., 0., 0.,\n",
              "       0., 0., 0., 0., 0., 0., 0., 0., 0., 0., 0., 0., 0., 0., 0., 0., 0.,\n",
              "       0., 0., 0., 0., 0., 0., 0., 0., 0., 0., 0., 0., 0., 0., 0., 0., 0.,\n",
              "       0., 0., 0., 0., 0., 0., 0., 0., 0., 0., 0., 0., 0., 0., 0., 0., 0.,\n",
              "       0., 0., 0., 0., 0., 0., 0., 0., 0., 0., 0., 0., 0., 0., 0., 0., 0.,\n",
              "       0., 0., 0., 0., 0., 0., 0., 0., 0., 0., 0., 0., 0., 0., 0., 0., 0.,\n",
              "       0., 0., 0., 0., 0., 0., 0., 0., 0., 0., 0., 0., 0., 0., 0., 0., 0.,\n",
              "       0., 0., 0., 0., 0., 0., 0., 0., 0., 0., 0., 0., 0., 0., 0., 0., 0.,\n",
              "       0., 0., 0., 0., 0., 0., 0., 0., 0., 0., 0., 0., 0., 0., 0., 0., 0.,\n",
              "       0., 0., 0., 0., 0., 0., 0., 0., 0., 0., 0., 0., 0., 0., 0., 0., 0.,\n",
              "       0., 0., 0., 0., 0., 0., 0., 0., 0., 0., 0.], dtype=float32)"
            ]
          },
          "metadata": {},
          "execution_count": 21
        }
      ]
    },
    {
      "cell_type": "code",
      "source": [
        "biases.shape"
      ],
      "metadata": {
        "colab": {
          "base_uri": "https://localhost:8080/"
        },
        "id": "WL3IFvVRvmge",
        "outputId": "25134af8-339c-47c9-8089-604c64ca9c82"
      },
      "execution_count": null,
      "outputs": [
        {
          "output_type": "execute_result",
          "data": {
            "text/plain": [
              "(300,)"
            ]
          },
          "metadata": {},
          "execution_count": 22
        }
      ]
    },
    {
      "cell_type": "code",
      "source": [
        "model.compile(loss=\"sparse_categorical_crossentropy\",\n",
        "              optimizer='sgd',\n",
        "              metrics=['accuracy'])"
      ],
      "metadata": {
        "id": "nlwG0-F7vlPe"
      },
      "execution_count": null,
      "outputs": []
    },
    {
      "cell_type": "code",
      "source": [
        "history = model.fit(X_train, y_train, epochs=30, validation_data=(X_valid, y_valid))"
      ],
      "metadata": {
        "colab": {
          "base_uri": "https://localhost:8080/"
        },
        "id": "fKL994AIvlid",
        "outputId": "18c234f0-438f-4ffb-a83d-6f4dc24a24b7"
      },
      "execution_count": null,
      "outputs": [
        {
          "output_type": "stream",
          "name": "stdout",
          "text": [
            "Epoch 1/30\n",
            "1719/1719 [==============================] - 17s 8ms/step - loss: 0.7041 - accuracy: 0.7658 - val_loss: 0.5219 - val_accuracy: 0.8162\n",
            "Epoch 2/30\n",
            "1719/1719 [==============================] - 9s 5ms/step - loss: 0.4833 - accuracy: 0.8321 - val_loss: 0.4643 - val_accuracy: 0.8354\n",
            "Epoch 3/30\n",
            "1719/1719 [==============================] - 7s 4ms/step - loss: 0.4392 - accuracy: 0.8456 - val_loss: 0.4253 - val_accuracy: 0.8570\n",
            "Epoch 4/30\n",
            "1719/1719 [==============================] - 7s 4ms/step - loss: 0.4086 - accuracy: 0.8557 - val_loss: 0.3865 - val_accuracy: 0.8686\n",
            "Epoch 5/30\n",
            "1719/1719 [==============================] - 7s 4ms/step - loss: 0.3897 - accuracy: 0.8624 - val_loss: 0.3939 - val_accuracy: 0.8654\n",
            "Epoch 6/30\n",
            "1719/1719 [==============================] - 7s 4ms/step - loss: 0.3724 - accuracy: 0.8675 - val_loss: 0.3687 - val_accuracy: 0.8744\n",
            "Epoch 7/30\n",
            "1719/1719 [==============================] - 7s 4ms/step - loss: 0.3596 - accuracy: 0.8719 - val_loss: 0.3581 - val_accuracy: 0.8734\n",
            "Epoch 8/30\n",
            "1719/1719 [==============================] - 7s 4ms/step - loss: 0.3493 - accuracy: 0.8753 - val_loss: 0.3531 - val_accuracy: 0.8774\n",
            "Epoch 9/30\n",
            "1719/1719 [==============================] - 7s 4ms/step - loss: 0.3383 - accuracy: 0.8799 - val_loss: 0.3533 - val_accuracy: 0.8748\n",
            "Epoch 10/30\n",
            "1719/1719 [==============================] - 7s 4ms/step - loss: 0.3294 - accuracy: 0.8824 - val_loss: 0.3465 - val_accuracy: 0.8776\n",
            "Epoch 11/30\n",
            "1719/1719 [==============================] - 7s 4ms/step - loss: 0.3206 - accuracy: 0.8847 - val_loss: 0.3532 - val_accuracy: 0.8740\n",
            "Epoch 12/30\n",
            "1719/1719 [==============================] - 7s 4ms/step - loss: 0.3128 - accuracy: 0.8879 - val_loss: 0.3252 - val_accuracy: 0.8846\n",
            "Epoch 13/30\n",
            "1719/1719 [==============================] - 7s 4ms/step - loss: 0.3067 - accuracy: 0.8889 - val_loss: 0.3312 - val_accuracy: 0.8790\n",
            "Epoch 14/30\n",
            "1719/1719 [==============================] - 7s 4ms/step - loss: 0.2986 - accuracy: 0.8920 - val_loss: 0.3272 - val_accuracy: 0.8818\n",
            "Epoch 15/30\n",
            "1719/1719 [==============================] - 7s 4ms/step - loss: 0.2935 - accuracy: 0.8945 - val_loss: 0.3208 - val_accuracy: 0.8848\n",
            "Epoch 16/30\n",
            "1719/1719 [==============================] - 7s 4ms/step - loss: 0.2884 - accuracy: 0.8961 - val_loss: 0.3165 - val_accuracy: 0.8826\n",
            "Epoch 17/30\n",
            "1719/1719 [==============================] - 8s 5ms/step - loss: 0.2829 - accuracy: 0.8975 - val_loss: 0.3318 - val_accuracy: 0.8804\n",
            "Epoch 18/30\n",
            "1719/1719 [==============================] - 7s 4ms/step - loss: 0.2765 - accuracy: 0.9003 - val_loss: 0.3051 - val_accuracy: 0.8878\n",
            "Epoch 19/30\n",
            "1719/1719 [==============================] - 7s 4ms/step - loss: 0.2712 - accuracy: 0.9021 - val_loss: 0.3105 - val_accuracy: 0.8878\n",
            "Epoch 20/30\n",
            "1719/1719 [==============================] - 7s 4ms/step - loss: 0.2655 - accuracy: 0.9037 - val_loss: 0.3291 - val_accuracy: 0.8828\n",
            "Epoch 21/30\n",
            "1719/1719 [==============================] - 7s 4ms/step - loss: 0.2615 - accuracy: 0.9050 - val_loss: 0.3160 - val_accuracy: 0.8844\n",
            "Epoch 22/30\n",
            "1719/1719 [==============================] - 7s 4ms/step - loss: 0.2556 - accuracy: 0.9077 - val_loss: 0.3117 - val_accuracy: 0.8880\n",
            "Epoch 23/30\n",
            "1719/1719 [==============================] - 7s 4ms/step - loss: 0.2520 - accuracy: 0.9097 - val_loss: 0.2997 - val_accuracy: 0.8920\n",
            "Epoch 24/30\n",
            "1719/1719 [==============================] - 7s 4ms/step - loss: 0.2468 - accuracy: 0.9100 - val_loss: 0.2965 - val_accuracy: 0.8896\n",
            "Epoch 25/30\n",
            "1719/1719 [==============================] - 7s 4ms/step - loss: 0.2441 - accuracy: 0.9117 - val_loss: 0.3090 - val_accuracy: 0.8886\n",
            "Epoch 26/30\n",
            "1719/1719 [==============================] - 7s 4ms/step - loss: 0.2403 - accuracy: 0.9134 - val_loss: 0.3219 - val_accuracy: 0.8798\n",
            "Epoch 27/30\n",
            "1719/1719 [==============================] - 7s 4ms/step - loss: 0.2356 - accuracy: 0.9150 - val_loss: 0.2978 - val_accuracy: 0.8930\n",
            "Epoch 28/30\n",
            "1719/1719 [==============================] - 7s 4ms/step - loss: 0.2317 - accuracy: 0.9158 - val_loss: 0.3114 - val_accuracy: 0.8862\n",
            "Epoch 29/30\n",
            "1719/1719 [==============================] - 7s 4ms/step - loss: 0.2273 - accuracy: 0.9181 - val_loss: 0.2967 - val_accuracy: 0.8916\n",
            "Epoch 30/30\n",
            "1719/1719 [==============================] - 7s 4ms/step - loss: 0.2232 - accuracy: 0.9200 - val_loss: 0.3026 - val_accuracy: 0.8920\n"
          ]
        }
      ]
    },
    {
      "cell_type": "code",
      "source": [
        "import pandas as pd\n",
        "pd.DataFrame(history.history).plot(figsize=(8, 5))\n",
        "plt.grid(True)\n",
        "plt.gca().set_ylim(0, 1)"
      ],
      "metadata": {
        "colab": {
          "base_uri": "https://localhost:8080/",
          "height": 346
        },
        "id": "h_m1G8Kavl0Q",
        "outputId": "79f22a52-6ff9-4ce2-f983-cd9a124f1c39"
      },
      "execution_count": null,
      "outputs": [
        {
          "output_type": "execute_result",
          "data": {
            "text/plain": [
              "(0.0, 1.0)"
            ]
          },
          "metadata": {},
          "execution_count": 25
        },
        {
          "output_type": "display_data",
          "data": {
            "text/plain": [
              "<Figure size 576x360 with 1 Axes>"
            ],
            "image/png": "[encoded data removed]"
          },
          "metadata": {
            "needs_background": "light"
          }
        }
      ]
    },
    {
      "cell_type": "code",
      "source": [
        "model.evaluate(X_test, y_test)"
      ],
      "metadata": {
        "colab": {
          "base_uri": "https://localhost:8080/"
        },
        "id": "XcHlmoRMvl8J",
        "outputId": "0f67459e-3b00-4fc1-eb4e-04603861eade"
      },
      "execution_count": null,
      "outputs": [
        {
          "output_type": "stream",
          "name": "stdout",
          "text": [
            "313/313 [==============================] - 1s 3ms/step - loss: 0.3407 - accuracy: 0.8803\n"
          ]
        },
        {
          "output_type": "execute_result",
          "data": {
            "text/plain": [
              "[0.3406727910041809, 0.880299985408783]"
            ]
          },
          "metadata": {},
          "execution_count": 26
        }
      ]
    },
    {
      "cell_type": "code",
      "source": [
        "X_new = X_test[:3]\n",
        "y_proba = model.predict(X_new)\n",
        "y_proba.round(2)"
      ],
      "metadata": {
        "colab": {
          "base_uri": "https://localhost:8080/"
        },
        "id": "dRPBUhyRzrFQ",
        "outputId": "4ec25c00-8754-4680-c39f-75fc29f8df8c"
      },
      "execution_count": null,
      "outputs": [
        {
          "output_type": "execute_result",
          "data": {
            "text/plain": [
              "array([[0.  , 0.  , 0.  , 0.  , 0.  , 0.03, 0.  , 0.06, 0.  , 0.91],\n",
              "       [0.  , 0.  , 1.  , 0.  , 0.  , 0.  , 0.  , 0.  , 0.  , 0.  ],\n",
              "       [0.  , 1.  , 0.  , 0.  , 0.  , 0.  , 0.  , 0.  , 0.  , 0.  ]],\n",
              "      dtype=float32)"
            ]
          },
          "metadata": {},
          "execution_count": 27
        }
      ]
    },
    {
      "cell_type": "code",
      "source": [
        "y_pred = np.argmax(y_proba, axis=1)\n",
        "np.array(class_names)[y_pred]"
      ],
      "metadata": {
        "colab": {
          "base_uri": "https://localhost:8080/"
        },
        "id": "Eize-xLO0GPL",
        "outputId": "0d5290eb-75dd-4bd8-cf78-7b94da284a8a"
      },
      "execution_count": null,
      "outputs": [
        {
          "output_type": "execute_result",
          "data": {
            "text/plain": [
              "array(['Ankle boot', 'Pullover', 'Trouser'], dtype='<U11')"
            ]
          },
          "metadata": {},
          "execution_count": 28
        }
      ]
    },
    {
      "cell_type": "code",
      "source": [
        "y_new = y_test[:3]\n",
        "y_new"
      ],
      "metadata": {
        "colab": {
          "base_uri": "https://localhost:8080/"
        },
        "id": "U47tddEn0Gc7",
        "outputId": "9bc6ff5b-4bbd-4f4a-f91e-3623a9768bf9"
      },
      "execution_count": null,
      "outputs": [
        {
          "output_type": "execute_result",
          "data": {
            "text/plain": [
              "array([9, 2, 1], dtype=uint8)"
            ]
          },
          "metadata": {},
          "execution_count": 29
        }
      ]
    },
    {
      "cell_type": "code",
      "source": [
        "from sklearn.datasets import fetch_california_housing\n",
        "from sklearn.model_selection import train_test_split\n",
        "from sklearn.preprocessing import StandardScaler\n",
        "\n",
        "housing = fetch_california_housing()\n",
        "\n",
        "X_train_full, X_test, y_train_full, y_test = train_test_split(housing.data, housing.target, test_size=0.2)\n",
        "X_train, X_valid, y_train, y_valid = train_test_split(X_train_full, y_train_full, test_size=0.2)\n",
        "\n",
        "scaler = StandardScaler()\n",
        "X_train_scaled = scaler.fit_transform(X_train)\n",
        "X_valid_scaled = scaler.transform(X_valid)\n",
        "X_test_scaled = scaler.transform(X_test)"
      ],
      "metadata": {
        "id": "ytqD6Ov-1XJc"
      },
      "execution_count": null,
      "outputs": []
    },
    {
      "cell_type": "code",
      "source": [
        "model = keras.models.Sequential([\n",
        "    keras.layers.Dense(30, activation='relu', input_shape=X_train.shape[1:]),\n",
        "    keras.layers.Dense(1)\n",
        "])"
      ],
      "metadata": {
        "id": "ZhK-erzS3p0c"
      },
      "execution_count": null,
      "outputs": []
    },
    {
      "cell_type": "code",
      "source": [
        "model.compile(loss='mean_squared_error', optimizer='sgd')"
      ],
      "metadata": {
        "id": "DleZY83Y4MyT"
      },
      "execution_count": null,
      "outputs": []
    },
    {
      "cell_type": "code",
      "source": [
        "history = model.fit(X_train_scaled, y_train, epochs=20, validation_data=(X_valid_scaled, y_valid))"
      ],
      "metadata": {
        "colab": {
          "base_uri": "https://localhost:8080/"
        },
        "id": "LHfq_WNl4NAO",
        "outputId": "66e4cad3-e666-42be-ea73-658f5dae38f5"
      },
      "execution_count": null,
      "outputs": [
        {
          "output_type": "stream",
          "name": "stdout",
          "text": [
            "Epoch 1/20\n",
            "413/413 [==============================] - 2s 4ms/step - loss: 0.9837 - val_loss: 2.5975\n",
            "Epoch 2/20\n",
            "413/413 [==============================] - 2s 4ms/step - loss: 8.4630 - val_loss: 0.6025\n",
            "Epoch 3/20\n",
            "413/413 [==============================] - 2s 4ms/step - loss: 0.7125 - val_loss: 0.5142\n",
            "Epoch 4/20\n",
            "413/413 [==============================] - 2s 4ms/step - loss: 0.5617 - val_loss: 0.4592\n",
            "Epoch 5/20\n",
            "413/413 [==============================] - 2s 4ms/step - loss: 0.4953 - val_loss: 0.4339\n",
            "Epoch 6/20\n",
            "413/413 [==============================] - 2s 4ms/step - loss: 0.4728 - val_loss: 0.4210\n",
            "Epoch 7/20\n",
            "413/413 [==============================] - 2s 4ms/step - loss: 0.4528 - val_loss: 0.4149\n",
            "Epoch 8/20\n",
            "413/413 [==============================] - 2s 4ms/step - loss: 0.4377 - val_loss: 0.4099\n",
            "Epoch 9/20\n",
            "413/413 [==============================] - 2s 4ms/step - loss: 0.4273 - val_loss: 0.4025\n",
            "Epoch 10/20\n",
            "413/413 [==============================] - 2s 4ms/step - loss: 0.4240 - val_loss: 0.4001\n",
            "Epoch 11/20\n",
            "413/413 [==============================] - 2s 4ms/step - loss: 0.4183 - val_loss: 0.3927\n",
            "Epoch 12/20\n",
            "413/413 [==============================] - 2s 4ms/step - loss: 0.4076 - val_loss: 0.3903\n",
            "Epoch 13/20\n",
            "413/413 [==============================] - 2s 4ms/step - loss: 0.4018 - val_loss: 0.3829\n",
            "Epoch 14/20\n",
            "413/413 [==============================] - 2s 4ms/step - loss: 0.3962 - val_loss: 0.3858\n",
            "Epoch 15/20\n",
            "413/413 [==============================] - 2s 4ms/step - loss: 0.3929 - val_loss: 0.3766\n",
            "Epoch 16/20\n",
            "413/413 [==============================] - 2s 4ms/step - loss: 0.3894 - val_loss: 0.3767\n",
            "Epoch 17/20\n",
            "413/413 [==============================] - 2s 4ms/step - loss: 0.3841 - val_loss: 0.3739\n",
            "Epoch 18/20\n",
            "413/413 [==============================] - 2s 4ms/step - loss: 0.3818 - val_loss: 0.3731\n",
            "Epoch 19/20\n",
            "413/413 [==============================] - 2s 4ms/step - loss: 0.3809 - val_loss: 0.3689\n",
            "Epoch 20/20\n",
            "413/413 [==============================] - 2s 4ms/step - loss: 0.3788 - val_loss: 0.3675\n"
          ]
        }
      ]
    },
    {
      "cell_type": "code",
      "source": [
        "pd.DataFrame(history.history).plot(figsize=(8, 5))\n",
        "plt.grid(True)\n",
        "plt.gca().set_ylim(0, 1)"
      ],
      "metadata": {
        "colab": {
          "base_uri": "https://localhost:8080/",
          "height": 346
        },
        "id": "eHk74BCK4NNi",
        "outputId": "f19878a4-1801-4dbb-95be-5f97b0c2970c"
      },
      "execution_count": null,
      "outputs": [
        {
          "output_type": "execute_result",
          "data": {
            "text/plain": [
              "(0.0, 1.0)"
            ]
          },
          "metadata": {},
          "execution_count": 34
        },
        {
          "output_type": "display_data",
          "data": {
            "text/plain": [
              "<Figure size 576x360 with 1 Axes>"
            ],
            "image/png": "[encoded data removed]"
          },
          "metadata": {
            "needs_background": "light"
          }
        }
      ]
    },
    {
      "cell_type": "code",
      "source": [
        "mse_test = model.evaluate(X_test_scaled, y_test)"
      ],
      "metadata": {
        "colab": {
          "base_uri": "https://localhost:8080/"
        },
        "id": "3ESqB2o35-1x",
        "outputId": "7421f154-99eb-496c-f341-bdfed4e62cde"
      },
      "execution_count": null,
      "outputs": [
        {
          "output_type": "stream",
          "name": "stdout",
          "text": [
            "129/129 [==============================] - 0s 3ms/step - loss: 0.3921\n"
          ]
        }
      ]
    },
    {
      "cell_type": "code",
      "source": [
        "X_new = scaler.transform(X_test[:3])\n",
        "y_pred = model.predict(X_new)\n",
        "y_pred"
      ],
      "metadata": {
        "colab": {
          "base_uri": "https://localhost:8080/"
        },
        "id": "evP9Bp7O6Js8",
        "outputId": "3452b8e0-b889-46b9-ad2a-0a98b5645ea6"
      },
      "execution_count": null,
      "outputs": [
        {
          "output_type": "execute_result",
          "data": {
            "text/plain": [
              "array([[1.5358026],\n",
              "       [3.7456808],\n",
              "       [2.774004 ]], dtype=float32)"
            ]
          },
          "metadata": {},
          "execution_count": 36
        }
      ]
    },
    {
      "cell_type": "code",
      "source": [
        "y_test[:3]"
      ],
      "metadata": {
        "colab": {
          "base_uri": "https://localhost:8080/"
        },
        "id": "fOOVQ8YJ6J4g",
        "outputId": "a76d5d87-6e29-404b-ca99-bae9211b2ce5"
      },
      "execution_count": null,
      "outputs": [
        {
          "output_type": "execute_result",
          "data": {
            "text/plain": [
              "array([1.139, 4.5  , 2.696])"
            ]
          },
          "metadata": {},
          "execution_count": 37
        }
      ]
    },
    {
      "cell_type": "code",
      "source": [
        "np.random.seed(42)\n",
        "tf.random.set_seed(42)\n",
        "input_ = keras.layers.Input(shape=X_train.shape[1:])\n",
        "hidden1 = keras.layers.Dense(30, activation=\"relu\")(input_)\n",
        "hidden2 = keras.layers.Dense(30, activation=\"relu\")(hidden1)\n",
        "concat = keras.layers.concatenate([input_, hidden2])\n",
        "output = keras.layers.Dense(1)(concat)\n",
        "model = keras.models.Model(inputs=[input_], outputs=[output])"
      ],
      "metadata": {
        "id": "xh5SuRYX8-S5"
      },
      "execution_count": null,
      "outputs": []
    },
    {
      "cell_type": "code",
      "source": [
        "model.summary()"
      ],
      "metadata": {
        "colab": {
          "base_uri": "https://localhost:8080/"
        },
        "id": "1p5AbXTvBbWO",
        "outputId": "35d0ed70-6aa6-41e0-9030-aaae1e87d73a"
      },
      "execution_count": null,
      "outputs": [
        {
          "output_type": "stream",
          "name": "stdout",
          "text": [
            "Model: \"model\"\n",
            "__________________________________________________________________________________________________\n",
            " Layer (type)                   Output Shape         Param #     Connected to                     \n",
            "==================================================================================================\n",
            " input_1 (InputLayer)           [(None, 8)]          0           []                               \n",
            "                                                                                                  \n",
            " dense_8 (Dense)                (None, 30)           270         ['input_1[0][0]']                \n",
            "                                                                                                  \n",
            " dense_9 (Dense)                (None, 30)           930         ['dense_8[0][0]']                \n",
            "                                                                                                  \n",
            " concatenate (Concatenate)      (None, 38)           0           ['input_1[0][0]',                \n",
            "                                                                  'dense_9[0][0]']                \n",
            "                                                                                                  \n",
            " dense_10 (Dense)               (None, 1)            39          ['concatenate[0][0]']            \n",
            "                                                                                                  \n",
            "==================================================================================================\n",
            "Total params: 1,239\n",
            "Trainable params: 1,239\n",
            "Non-trainable params: 0\n",
            "__________________________________________________________________________________________________\n"
          ]
        }
      ]
    },
    {
      "cell_type": "code",
      "source": [
        "model.compile(loss=\"mean_squared_error\", optimizer=keras.optimizers.SGD(learning_rate=3e-3))\n",
        "history = model.fit(X_train_scaled, y_train, epochs=40,\n",
        "                    validation_data=(X_valid_scaled, y_valid))\n",
        "mse_test = model.evaluate(X_test_scaled, y_test)"
      ],
      "metadata": {
        "colab": {
          "base_uri": "https://localhost:8080/"
        },
        "id": "oxfEaWRZBmLO",
        "outputId": "76e467b7-4801-421f-91c9-a72c81da196e"
      },
      "execution_count": null,
      "outputs": [
        {
          "output_type": "stream",
          "name": "stdout",
          "text": [
            "Epoch 1/40\n",
            "413/413 [==============================] - 5s 9ms/step - loss: 1.1044 - val_loss: 0.6660\n",
            "Epoch 2/40\n",
            "413/413 [==============================] - 3s 7ms/step - loss: 0.6113 - val_loss: 0.5685\n",
            "Epoch 3/40\n",
            "413/413 [==============================] - 3s 7ms/step - loss: 0.6294 - val_loss: 0.5290\n",
            "Epoch 4/40\n",
            "413/413 [==============================] - 3s 7ms/step - loss: 0.5775 - val_loss: 0.4957\n",
            "Epoch 5/40\n",
            "413/413 [==============================] - 3s 7ms/step - loss: 0.5363 - val_loss: 0.4758\n",
            "Epoch 6/40\n",
            "413/413 [==============================] - 3s 7ms/step - loss: 0.4726 - val_loss: 0.4397\n",
            "Epoch 7/40\n",
            "413/413 [==============================] - 4s 9ms/step - loss: 0.4676 - val_loss: 0.4254\n",
            "Epoch 8/40\n",
            "413/413 [==============================] - 3s 8ms/step - loss: 0.4393 - val_loss: 0.4154\n",
            "Epoch 9/40\n",
            "413/413 [==============================] - 2s 5ms/step - loss: 0.4290 - val_loss: 0.4084\n",
            "Epoch 10/40\n",
            "413/413 [==============================] - 2s 4ms/step - loss: 0.4224 - val_loss: 0.4057\n",
            "Epoch 11/40\n",
            "413/413 [==============================] - 2s 4ms/step - loss: 0.4161 - val_loss: 0.4001\n",
            "Epoch 12/40\n",
            "413/413 [==============================] - 2s 4ms/step - loss: 0.4138 - val_loss: 0.3949\n",
            "Epoch 13/40\n",
            "413/413 [==============================] - 2s 4ms/step - loss: 0.4044 - val_loss: 0.3926\n",
            "Epoch 14/40\n",
            "413/413 [==============================] - 2s 4ms/step - loss: 0.3997 - val_loss: 0.3925\n",
            "Epoch 15/40\n",
            "413/413 [==============================] - 2s 4ms/step - loss: 0.3963 - val_loss: 0.3817\n",
            "Epoch 16/40\n",
            "413/413 [==============================] - 2s 4ms/step - loss: 0.3956 - val_loss: 0.3803\n",
            "Epoch 17/40\n",
            "413/413 [==============================] - 2s 4ms/step - loss: 0.3883 - val_loss: 0.3774\n",
            "Epoch 18/40\n",
            "413/413 [==============================] - 2s 4ms/step - loss: 0.3876 - val_loss: 0.3741\n",
            "Epoch 19/40\n",
            "413/413 [==============================] - 2s 4ms/step - loss: 0.3809 - val_loss: 0.3744\n",
            "Epoch 20/40\n",
            "413/413 [==============================] - 2s 4ms/step - loss: 0.3791 - val_loss: 0.3681\n",
            "Epoch 21/40\n",
            "413/413 [==============================] - 2s 4ms/step - loss: 0.3772 - val_loss: 0.3659\n",
            "Epoch 22/40\n",
            "413/413 [==============================] - 2s 4ms/step - loss: 0.3747 - val_loss: 0.3648\n",
            "Epoch 23/40\n",
            "413/413 [==============================] - 2s 4ms/step - loss: 0.3697 - val_loss: 0.3661\n",
            "Epoch 24/40\n",
            "413/413 [==============================] - 2s 4ms/step - loss: 0.3690 - val_loss: 0.3616\n",
            "Epoch 25/40\n",
            "413/413 [==============================] - 2s 4ms/step - loss: 0.3667 - val_loss: 0.3638\n",
            "Epoch 26/40\n",
            "413/413 [==============================] - 2s 4ms/step - loss: 0.3657 - val_loss: 0.3647\n",
            "Epoch 27/40\n",
            "413/413 [==============================] - 2s 4ms/step - loss: 0.3670 - val_loss: 0.3675\n",
            "Epoch 28/40\n",
            "413/413 [==============================] - 2s 4ms/step - loss: 0.3669 - val_loss: 0.3609\n",
            "Epoch 29/40\n",
            "413/413 [==============================] - 2s 4ms/step - loss: 0.3625 - val_loss: 0.3653\n",
            "Epoch 30/40\n",
            "413/413 [==============================] - 2s 4ms/step - loss: 0.3624 - val_loss: 0.3551\n",
            "Epoch 31/40\n",
            "413/413 [==============================] - 2s 4ms/step - loss: 0.3638 - val_loss: 0.4167\n",
            "Epoch 32/40\n",
            "413/413 [==============================] - 2s 4ms/step - loss: 0.3571 - val_loss: 0.3521\n",
            "Epoch 33/40\n",
            "413/413 [==============================] - 2s 4ms/step - loss: 0.3601 - val_loss: 0.3800\n",
            "Epoch 34/40\n",
            "413/413 [==============================] - 2s 4ms/step - loss: 0.3547 - val_loss: 0.3799\n",
            "Epoch 35/40\n",
            "413/413 [==============================] - 2s 4ms/step - loss: 0.3607 - val_loss: 0.3816\n",
            "Epoch 36/40\n",
            "413/413 [==============================] - 2s 4ms/step - loss: 0.3518 - val_loss: 0.3561\n",
            "Epoch 37/40\n",
            "413/413 [==============================] - 2s 4ms/step - loss: 0.3500 - val_loss: 0.3464\n",
            "Epoch 38/40\n",
            "413/413 [==============================] - 2s 4ms/step - loss: 0.3479 - val_loss: 0.3420\n",
            "Epoch 39/40\n",
            "413/413 [==============================] - 2s 4ms/step - loss: 0.3474 - val_loss: 0.3429\n",
            "Epoch 40/40\n",
            "413/413 [==============================] - 2s 4ms/step - loss: 0.3496 - val_loss: 0.3426\n",
            "129/129 [==============================] - 0s 3ms/step - loss: 0.3518\n"
          ]
        }
      ]
    },
    {
      "cell_type": "code",
      "source": [
        "pd.DataFrame(history.history).plot(figsize=(8, 5))\n",
        "plt.gca().set_ylim(0.2, 0.8)"
      ],
      "metadata": {
        "colab": {
          "base_uri": "https://localhost:8080/",
          "height": 346
        },
        "id": "bXEeVp0WGe8n",
        "outputId": "f758dca7-0b42-4e8b-b318-a812f36ebbc9"
      },
      "execution_count": null,
      "outputs": [
        {
          "output_type": "execute_result",
          "data": {
            "text/plain": [
              "(0.2, 0.8)"
            ]
          },
          "metadata": {},
          "execution_count": 48
        },
        {
          "output_type": "display_data",
          "data": {
            "text/plain": [
              "<Figure size 576x360 with 1 Axes>"
            ],
            "image/png": "[encoded data removed]"
          },
          "metadata": {
            "needs_background": "light"
          }
        }
      ]
    },
    {
      "cell_type": "code",
      "source": [
        "input_A = keras.layers.Input(shape=[5], name=\"wide_input\")\n",
        "input_B = keras.layers.Input(shape=[6], name=\"deep_input\")\n",
        "hidden1 = keras.layers.Dense(30, activation=\"relu\")(input_B)\n",
        "hidden2 = keras.layers.Dense(30, activation=\"relu\")(hidden1)\n",
        "concat = keras.layers.concatenate([input_A, hidden2])\n",
        "output = keras.layers.Dense(1, name=\"output\")(concat)\n",
        "model = keras.models.Model(inputs=[input_A, input_B], outputs=[output])"
      ],
      "metadata": {
        "id": "eq0xgLE0EUqJ"
      },
      "execution_count": null,
      "outputs": []
    },
    {
      "cell_type": "code",
      "source": [
        "model.compile(loss=\"mse\", optimizer=keras.optimizers.SGD(learning_rate=1e-3))\n",
        "\n",
        "X_train_A, X_train_B = X_train_scaled[:, :5], X_train_scaled[:, 2:]\n",
        "X_valid_A, X_valid_B = X_valid_scaled[:, :5], X_valid_scaled[:, 2:]\n",
        "X_test_A, X_test_B = X_test_scaled[:, :5], X_test_scaled[:, 2:]\n",
        "X_new_A, X_new_B = X_test_A[:3], X_test_B[:3]\n",
        "\n",
        "history = model.fit((X_train_A, X_train_B), y_train, epochs=20,\n",
        "                    validation_data=((X_valid_A, X_valid_B), y_valid))\n",
        "mse_test = model.evaluate((X_test_A, X_test_B), y_test)\n",
        "y_pred = model.predict((X_new_A, X_new_B))"
      ],
      "metadata": {
        "colab": {
          "base_uri": "https://localhost:8080/",
          "height": 432
        },
        "id": "-8dQ2KHVEbbm",
        "outputId": "1fb634f0-51ab-49fd-e339-e5538b12a3d3"
      },
      "execution_count": null,
      "outputs": [
        {
          "output_type": "stream",
          "name": "stdout",
          "text": [
            "Epoch 1/20\n",
            "403/413 [============================>.] - ETA: 0s - loss: 1.6864"
          ]
        },
        {
          "output_type": "error",
          "ename": "KeyboardInterrupt",
          "evalue": "ignored",
          "traceback": [
            "\u001b[0;31m---------------------------------------------------------------------------\u001b[0m",
            "\u001b[0;31mKeyboardInterrupt\u001b[0m                         Traceback (most recent call last)",
            "\u001b[0;32m<ipython-input-43-12eff97115b8>\u001b[0m in \u001b[0;36m<module>\u001b[0;34m()\u001b[0m\n\u001b[1;32m      7\u001b[0m \u001b[0;34m\u001b[0m\u001b[0m\n\u001b[1;32m      8\u001b[0m history = model.fit((X_train_A, X_train_B), y_train, epochs=20,\n\u001b[0;32m----> 9\u001b[0;31m                     validation_data=((X_valid_A, X_valid_B), y_valid))\n\u001b[0m\u001b[1;32m     10\u001b[0m \u001b[0mmse_test\u001b[0m \u001b[0;34m=\u001b[0m \u001b[0mmodel\u001b[0m\u001b[0;34m.\u001b[0m\u001b[0mevaluate\u001b[0m\u001b[0;34m(\u001b[0m\u001b[0;34m(\u001b[0m\u001b[0mX_test_A\u001b[0m\u001b[0;34m,\u001b[0m \u001b[0mX_test_B\u001b[0m\u001b[0;34m)\u001b[0m\u001b[0;34m,\u001b[0m \u001b[0my_test\u001b[0m\u001b[0;34m)\u001b[0m\u001b[0;34m\u001b[0m\u001b[0;34m\u001b[0m\u001b[0m\n\u001b[1;32m     11\u001b[0m \u001b[0my_pred\u001b[0m \u001b[0;34m=\u001b[0m \u001b[0mmodel\u001b[0m\u001b[0;34m.\u001b[0m\u001b[0mpredict\u001b[0m\u001b[0;34m(\u001b[0m\u001b[0;34m(\u001b[0m\u001b[0mX_new_A\u001b[0m\u001b[0;34m,\u001b[0m \u001b[0mX_new_B\u001b[0m\u001b[0;34m)\u001b[0m\u001b[0;34m)\u001b[0m\u001b[0;34m\u001b[0m\u001b[0;34m\u001b[0m\u001b[0m\n",
            "\u001b[0;32m/usr/local/lib/python3.7/dist-packages/keras/utils/traceback_utils.py\u001b[0m in \u001b[0;36merror_handler\u001b[0;34m(*args, **kwargs)\u001b[0m\n\u001b[1;32m     62\u001b[0m     \u001b[0mfiltered_tb\u001b[0m \u001b[0;34m=\u001b[0m \u001b[0;32mNone\u001b[0m\u001b[0;34m\u001b[0m\u001b[0;34m\u001b[0m\u001b[0m\n\u001b[1;32m     63\u001b[0m     \u001b[0;32mtry\u001b[0m\u001b[0;34m:\u001b[0m\u001b[0;34m\u001b[0m\u001b[0;34m\u001b[0m\u001b[0m\n\u001b[0;32m---> 64\u001b[0;31m       \u001b[0;32mreturn\u001b[0m \u001b[0mfn\u001b[0m\u001b[0;34m(\u001b[0m\u001b[0;34m*\u001b[0m\u001b[0margs\u001b[0m\u001b[0;34m,\u001b[0m \u001b[0;34m**\u001b[0m\u001b[0mkwargs\u001b[0m\u001b[0;34m)\u001b[0m\u001b[0;34m\u001b[0m\u001b[0;34m\u001b[0m\u001b[0m\n\u001b[0m\u001b[1;32m     65\u001b[0m     \u001b[0;32mexcept\u001b[0m \u001b[0mException\u001b[0m \u001b[0;32mas\u001b[0m \u001b[0me\u001b[0m\u001b[0;34m:\u001b[0m  \u001b[0;31m# pylint: disable=broad-except\u001b[0m\u001b[0;34m\u001b[0m\u001b[0;34m\u001b[0m\u001b[0m\n\u001b[1;32m     66\u001b[0m       \u001b[0mfiltered_tb\u001b[0m \u001b[0;34m=\u001b[0m \u001b[0m_process_traceback_frames\u001b[0m\u001b[0;34m(\u001b[0m\u001b[0me\u001b[0m\u001b[0;34m.\u001b[0m\u001b[0m__traceback__\u001b[0m\u001b[0;34m)\u001b[0m\u001b[0;34m\u001b[0m\u001b[0;34m\u001b[0m\u001b[0m\n",
            "\u001b[0;32m/usr/local/lib/python3.7/dist-packages/keras/engine/training.py\u001b[0m in \u001b[0;36mfit\u001b[0;34m(self, x, y, batch_size, epochs, verbose, callbacks, validation_split, validation_data, shuffle, class_weight, sample_weight, initial_epoch, steps_per_epoch, validation_steps, validation_batch_size, validation_freq, max_queue_size, workers, use_multiprocessing)\u001b[0m\n\u001b[1;32m   1429\u001b[0m               \u001b[0muse_multiprocessing\u001b[0m\u001b[0;34m=\u001b[0m\u001b[0muse_multiprocessing\u001b[0m\u001b[0;34m,\u001b[0m\u001b[0;34m\u001b[0m\u001b[0;34m\u001b[0m\u001b[0m\n\u001b[1;32m   1430\u001b[0m               \u001b[0mreturn_dict\u001b[0m\u001b[0;34m=\u001b[0m\u001b[0;32mTrue\u001b[0m\u001b[0;34m,\u001b[0m\u001b[0;34m\u001b[0m\u001b[0;34m\u001b[0m\u001b[0m\n\u001b[0;32m-> 1431\u001b[0;31m               _use_cached_eval_dataset=True)\n\u001b[0m\u001b[1;32m   1432\u001b[0m           \u001b[0mval_logs\u001b[0m \u001b[0;34m=\u001b[0m \u001b[0;34m{\u001b[0m\u001b[0;34m'val_'\u001b[0m \u001b[0;34m+\u001b[0m \u001b[0mname\u001b[0m\u001b[0;34m:\u001b[0m \u001b[0mval\u001b[0m \u001b[0;32mfor\u001b[0m \u001b[0mname\u001b[0m\u001b[0;34m,\u001b[0m \u001b[0mval\u001b[0m \u001b[0;32min\u001b[0m \u001b[0mval_logs\u001b[0m\u001b[0;34m.\u001b[0m\u001b[0mitems\u001b[0m\u001b[0;34m(\u001b[0m\u001b[0;34m)\u001b[0m\u001b[0;34m}\u001b[0m\u001b[0;34m\u001b[0m\u001b[0;34m\u001b[0m\u001b[0m\n\u001b[1;32m   1433\u001b[0m           \u001b[0mepoch_logs\u001b[0m\u001b[0;34m.\u001b[0m\u001b[0mupdate\u001b[0m\u001b[0;34m(\u001b[0m\u001b[0mval_logs\u001b[0m\u001b[0;34m)\u001b[0m\u001b[0;34m\u001b[0m\u001b[0;34m\u001b[0m\u001b[0m\n",
            "\u001b[0;32m/usr/local/lib/python3.7/dist-packages/keras/utils/traceback_utils.py\u001b[0m in \u001b[0;36merror_handler\u001b[0;34m(*args, **kwargs)\u001b[0m\n\u001b[1;32m     62\u001b[0m     \u001b[0mfiltered_tb\u001b[0m \u001b[0;34m=\u001b[0m \u001b[0;32mNone\u001b[0m\u001b[0;34m\u001b[0m\u001b[0;34m\u001b[0m\u001b[0m\n\u001b[1;32m     63\u001b[0m     \u001b[0;32mtry\u001b[0m\u001b[0;34m:\u001b[0m\u001b[0;34m\u001b[0m\u001b[0;34m\u001b[0m\u001b[0m\n\u001b[0;32m---> 64\u001b[0;31m       \u001b[0;32mreturn\u001b[0m \u001b[0mfn\u001b[0m\u001b[0;34m(\u001b[0m\u001b[0;34m*\u001b[0m\u001b[0margs\u001b[0m\u001b[0;34m,\u001b[0m \u001b[0;34m**\u001b[0m\u001b[0mkwargs\u001b[0m\u001b[0;34m)\u001b[0m\u001b[0;34m\u001b[0m\u001b[0;34m\u001b[0m\u001b[0m\n\u001b[0m\u001b[1;32m     65\u001b[0m     \u001b[0;32mexcept\u001b[0m \u001b[0mException\u001b[0m \u001b[0;32mas\u001b[0m \u001b[0me\u001b[0m\u001b[0;34m:\u001b[0m  \u001b[0;31m# pylint: disable=broad-except\u001b[0m\u001b[0;34m\u001b[0m\u001b[0;34m\u001b[0m\u001b[0m\n\u001b[1;32m     66\u001b[0m       \u001b[0mfiltered_tb\u001b[0m \u001b[0;34m=\u001b[0m \u001b[0m_process_traceback_frames\u001b[0m\u001b[0;34m(\u001b[0m\u001b[0me\u001b[0m\u001b[0;34m.\u001b[0m\u001b[0m__traceback__\u001b[0m\u001b[0;34m)\u001b[0m\u001b[0;34m\u001b[0m\u001b[0;34m\u001b[0m\u001b[0m\n",
            "\u001b[0;32m/usr/local/lib/python3.7/dist-packages/keras/engine/training.py\u001b[0m in \u001b[0;36mevaluate\u001b[0;34m(self, x, y, batch_size, verbose, sample_weight, steps, callbacks, max_queue_size, workers, use_multiprocessing, return_dict, **kwargs)\u001b[0m\n\u001b[1;32m   1714\u001b[0m             \u001b[0;32mwith\u001b[0m \u001b[0mtf\u001b[0m\u001b[0;34m.\u001b[0m\u001b[0mprofiler\u001b[0m\u001b[0;34m.\u001b[0m\u001b[0mexperimental\u001b[0m\u001b[0;34m.\u001b[0m\u001b[0mTrace\u001b[0m\u001b[0;34m(\u001b[0m\u001b[0;34m'test'\u001b[0m\u001b[0;34m,\u001b[0m \u001b[0mstep_num\u001b[0m\u001b[0;34m=\u001b[0m\u001b[0mstep\u001b[0m\u001b[0;34m,\u001b[0m \u001b[0m_r\u001b[0m\u001b[0;34m=\u001b[0m\u001b[0;36m1\u001b[0m\u001b[0;34m)\u001b[0m\u001b[0;34m:\u001b[0m\u001b[0;34m\u001b[0m\u001b[0;34m\u001b[0m\u001b[0m\n\u001b[1;32m   1715\u001b[0m               \u001b[0mcallbacks\u001b[0m\u001b[0;34m.\u001b[0m\u001b[0mon_test_batch_begin\u001b[0m\u001b[0;34m(\u001b[0m\u001b[0mstep\u001b[0m\u001b[0;34m)\u001b[0m\u001b[0;34m\u001b[0m\u001b[0;34m\u001b[0m\u001b[0m\n\u001b[0;32m-> 1716\u001b[0;31m               \u001b[0mtmp_logs\u001b[0m \u001b[0;34m=\u001b[0m \u001b[0mself\u001b[0m\u001b[0;34m.\u001b[0m\u001b[0mtest_function\u001b[0m\u001b[0;34m(\u001b[0m\u001b[0miterator\u001b[0m\u001b[0;34m)\u001b[0m\u001b[0;34m\u001b[0m\u001b[0;34m\u001b[0m\u001b[0m\n\u001b[0m\u001b[1;32m   1717\u001b[0m               \u001b[0;32mif\u001b[0m \u001b[0mdata_handler\u001b[0m\u001b[0;34m.\u001b[0m\u001b[0mshould_sync\u001b[0m\u001b[0;34m:\u001b[0m\u001b[0;34m\u001b[0m\u001b[0;34m\u001b[0m\u001b[0m\n\u001b[1;32m   1718\u001b[0m                 \u001b[0mcontext\u001b[0m\u001b[0;34m.\u001b[0m\u001b[0masync_wait\u001b[0m\u001b[0;34m(\u001b[0m\u001b[0;34m)\u001b[0m\u001b[0;34m\u001b[0m\u001b[0;34m\u001b[0m\u001b[0m\n",
            "\u001b[0;32m/usr/local/lib/python3.7/dist-packages/tensorflow/python/util/traceback_utils.py\u001b[0m in \u001b[0;36merror_handler\u001b[0;34m(*args, **kwargs)\u001b[0m\n\u001b[1;32m    148\u001b[0m     \u001b[0mfiltered_tb\u001b[0m \u001b[0;34m=\u001b[0m \u001b[0;32mNone\u001b[0m\u001b[0;34m\u001b[0m\u001b[0;34m\u001b[0m\u001b[0m\n\u001b[1;32m    149\u001b[0m     \u001b[0;32mtry\u001b[0m\u001b[0;34m:\u001b[0m\u001b[0;34m\u001b[0m\u001b[0;34m\u001b[0m\u001b[0m\n\u001b[0;32m--> 150\u001b[0;31m       \u001b[0;32mreturn\u001b[0m \u001b[0mfn\u001b[0m\u001b[0;34m(\u001b[0m\u001b[0;34m*\u001b[0m\u001b[0margs\u001b[0m\u001b[0;34m,\u001b[0m \u001b[0;34m**\u001b[0m\u001b[0mkwargs\u001b[0m\u001b[0;34m)\u001b[0m\u001b[0;34m\u001b[0m\u001b[0;34m\u001b[0m\u001b[0m\n\u001b[0m\u001b[1;32m    151\u001b[0m     \u001b[0;32mexcept\u001b[0m \u001b[0mException\u001b[0m \u001b[0;32mas\u001b[0m \u001b[0me\u001b[0m\u001b[0;34m:\u001b[0m\u001b[0;34m\u001b[0m\u001b[0;34m\u001b[0m\u001b[0m\n\u001b[1;32m    152\u001b[0m       \u001b[0mfiltered_tb\u001b[0m \u001b[0;34m=\u001b[0m \u001b[0m_process_traceback_frames\u001b[0m\u001b[0;34m(\u001b[0m\u001b[0me\u001b[0m\u001b[0;34m.\u001b[0m\u001b[0m__traceback__\u001b[0m\u001b[0;34m)\u001b[0m\u001b[0;34m\u001b[0m\u001b[0;34m\u001b[0m\u001b[0m\n",
            "\u001b[0;32m/usr/local/lib/python3.7/dist-packages/tensorflow/python/eager/def_function.py\u001b[0m in \u001b[0;36m__call__\u001b[0;34m(self, *args, **kwds)\u001b[0m\n\u001b[1;32m    913\u001b[0m \u001b[0;34m\u001b[0m\u001b[0m\n\u001b[1;32m    914\u001b[0m       \u001b[0;32mwith\u001b[0m \u001b[0mOptionalXlaContext\u001b[0m\u001b[0;34m(\u001b[0m\u001b[0mself\u001b[0m\u001b[0;34m.\u001b[0m\u001b[0m_jit_compile\u001b[0m\u001b[0;34m)\u001b[0m\u001b[0;34m:\u001b[0m\u001b[0;34m\u001b[0m\u001b[0;34m\u001b[0m\u001b[0m\n\u001b[0;32m--> 915\u001b[0;31m         \u001b[0mresult\u001b[0m \u001b[0;34m=\u001b[0m \u001b[0mself\u001b[0m\u001b[0;34m.\u001b[0m\u001b[0m_call\u001b[0m\u001b[0;34m(\u001b[0m\u001b[0;34m*\u001b[0m\u001b[0margs\u001b[0m\u001b[0;34m,\u001b[0m \u001b[0;34m**\u001b[0m\u001b[0mkwds\u001b[0m\u001b[0;34m)\u001b[0m\u001b[0;34m\u001b[0m\u001b[0;34m\u001b[0m\u001b[0m\n\u001b[0m\u001b[1;32m    916\u001b[0m \u001b[0;34m\u001b[0m\u001b[0m\n\u001b[1;32m    917\u001b[0m       \u001b[0mnew_tracing_count\u001b[0m \u001b[0;34m=\u001b[0m \u001b[0mself\u001b[0m\u001b[0;34m.\u001b[0m\u001b[0mexperimental_get_tracing_count\u001b[0m\u001b[0;34m(\u001b[0m\u001b[0;34m)\u001b[0m\u001b[0;34m\u001b[0m\u001b[0;34m\u001b[0m\u001b[0m\n",
            "\u001b[0;32m/usr/local/lib/python3.7/dist-packages/tensorflow/python/eager/def_function.py\u001b[0m in \u001b[0;36m_call\u001b[0;34m(self, *args, **kwds)\u001b[0m\n\u001b[1;32m    952\u001b[0m       \u001b[0;31m# In this case we have not created variables on the first call. So we can\u001b[0m\u001b[0;34m\u001b[0m\u001b[0;34m\u001b[0m\u001b[0;34m\u001b[0m\u001b[0m\n\u001b[1;32m    953\u001b[0m       \u001b[0;31m# run the first trace but we should fail if variables are created.\u001b[0m\u001b[0;34m\u001b[0m\u001b[0;34m\u001b[0m\u001b[0;34m\u001b[0m\u001b[0m\n\u001b[0;32m--> 954\u001b[0;31m       \u001b[0mresults\u001b[0m \u001b[0;34m=\u001b[0m \u001b[0mself\u001b[0m\u001b[0;34m.\u001b[0m\u001b[0m_stateful_fn\u001b[0m\u001b[0;34m(\u001b[0m\u001b[0;34m*\u001b[0m\u001b[0margs\u001b[0m\u001b[0;34m,\u001b[0m \u001b[0;34m**\u001b[0m\u001b[0mkwds\u001b[0m\u001b[0;34m)\u001b[0m\u001b[0;34m\u001b[0m\u001b[0;34m\u001b[0m\u001b[0m\n\u001b[0m\u001b[1;32m    955\u001b[0m       \u001b[0;32mif\u001b[0m \u001b[0mself\u001b[0m\u001b[0;34m.\u001b[0m\u001b[0m_created_variables\u001b[0m \u001b[0;32mand\u001b[0m \u001b[0;32mnot\u001b[0m \u001b[0mALLOW_DYNAMIC_VARIABLE_CREATION\u001b[0m\u001b[0;34m:\u001b[0m\u001b[0;34m\u001b[0m\u001b[0;34m\u001b[0m\u001b[0m\n\u001b[1;32m    956\u001b[0m         raise ValueError(\"Creating variables on a non-first call to a function\"\n",
            "\u001b[0;32m/usr/local/lib/python3.7/dist-packages/tensorflow/python/eager/function.py\u001b[0m in \u001b[0;36m__call__\u001b[0;34m(self, *args, **kwargs)\u001b[0m\n\u001b[1;32m   2955\u001b[0m        filtered_flat_args) = self._maybe_define_function(args, kwargs)\n\u001b[1;32m   2956\u001b[0m     return graph_function._call_flat(\n\u001b[0;32m-> 2957\u001b[0;31m         filtered_flat_args, captured_inputs=graph_function.captured_inputs)  # pylint: disable=protected-access\n\u001b[0m\u001b[1;32m   2958\u001b[0m \u001b[0;34m\u001b[0m\u001b[0m\n\u001b[1;32m   2959\u001b[0m   \u001b[0;34m@\u001b[0m\u001b[0mproperty\u001b[0m\u001b[0;34m\u001b[0m\u001b[0;34m\u001b[0m\u001b[0m\n",
            "\u001b[0;32m/usr/local/lib/python3.7/dist-packages/tensorflow/python/eager/function.py\u001b[0m in \u001b[0;36m_call_flat\u001b[0;34m(self, args, captured_inputs, cancellation_manager)\u001b[0m\n\u001b[1;32m   1852\u001b[0m       \u001b[0;31m# No tape is watching; skip to running the function.\u001b[0m\u001b[0;34m\u001b[0m\u001b[0;34m\u001b[0m\u001b[0;34m\u001b[0m\u001b[0m\n\u001b[1;32m   1853\u001b[0m       return self._build_call_outputs(self._inference_function.call(\n\u001b[0;32m-> 1854\u001b[0;31m           ctx, args, cancellation_manager=cancellation_manager))\n\u001b[0m\u001b[1;32m   1855\u001b[0m     forward_backward = self._select_forward_and_backward_functions(\n\u001b[1;32m   1856\u001b[0m         \u001b[0margs\u001b[0m\u001b[0;34m,\u001b[0m\u001b[0;34m\u001b[0m\u001b[0;34m\u001b[0m\u001b[0m\n",
            "\u001b[0;32m/usr/local/lib/python3.7/dist-packages/tensorflow/python/eager/function.py\u001b[0m in \u001b[0;36mcall\u001b[0;34m(self, ctx, args, cancellation_manager)\u001b[0m\n\u001b[1;32m    502\u001b[0m               \u001b[0minputs\u001b[0m\u001b[0;34m=\u001b[0m\u001b[0margs\u001b[0m\u001b[0;34m,\u001b[0m\u001b[0;34m\u001b[0m\u001b[0;34m\u001b[0m\u001b[0m\n\u001b[1;32m    503\u001b[0m               \u001b[0mattrs\u001b[0m\u001b[0;34m=\u001b[0m\u001b[0mattrs\u001b[0m\u001b[0;34m,\u001b[0m\u001b[0;34m\u001b[0m\u001b[0;34m\u001b[0m\u001b[0m\n\u001b[0;32m--> 504\u001b[0;31m               ctx=ctx)\n\u001b[0m\u001b[1;32m    505\u001b[0m         \u001b[0;32melse\u001b[0m\u001b[0;34m:\u001b[0m\u001b[0;34m\u001b[0m\u001b[0;34m\u001b[0m\u001b[0m\n\u001b[1;32m    506\u001b[0m           outputs = execute.execute_with_cancellation(\n",
            "\u001b[0;32m/usr/local/lib/python3.7/dist-packages/tensorflow/python/eager/execute.py\u001b[0m in \u001b[0;36mquick_execute\u001b[0;34m(op_name, num_outputs, inputs, attrs, ctx, name)\u001b[0m\n\u001b[1;32m     53\u001b[0m     \u001b[0mctx\u001b[0m\u001b[0;34m.\u001b[0m\u001b[0mensure_initialized\u001b[0m\u001b[0;34m(\u001b[0m\u001b[0;34m)\u001b[0m\u001b[0;34m\u001b[0m\u001b[0;34m\u001b[0m\u001b[0m\n\u001b[1;32m     54\u001b[0m     tensors = pywrap_tfe.TFE_Py_Execute(ctx._handle, device_name, op_name,\n\u001b[0;32m---> 55\u001b[0;31m                                         inputs, attrs, num_outputs)\n\u001b[0m\u001b[1;32m     56\u001b[0m   \u001b[0;32mexcept\u001b[0m \u001b[0mcore\u001b[0m\u001b[0;34m.\u001b[0m\u001b[0m_NotOkStatusException\u001b[0m \u001b[0;32mas\u001b[0m \u001b[0me\u001b[0m\u001b[0;34m:\u001b[0m\u001b[0;34m\u001b[0m\u001b[0;34m\u001b[0m\u001b[0m\n\u001b[1;32m     57\u001b[0m     \u001b[0;32mif\u001b[0m \u001b[0mname\u001b[0m \u001b[0;32mis\u001b[0m \u001b[0;32mnot\u001b[0m \u001b[0;32mNone\u001b[0m\u001b[0;34m:\u001b[0m\u001b[0;34m\u001b[0m\u001b[0;34m\u001b[0m\u001b[0m\n",
            "\u001b[0;31mKeyboardInterrupt\u001b[0m: "
          ]
        }
      ]
    },
    {
      "cell_type": "code",
      "source": [
        "pd.DataFrame(history.history).plot(figsize=(8, 5))\n",
        "plt.gca().set_ylim(0, 2)"
      ],
      "metadata": {
        "id": "K-gsecQNExXy"
      },
      "execution_count": null,
      "outputs": []
    },
    {
      "cell_type": "code",
      "source": [
        "model.save(\"my_keras_model.h5\")"
      ],
      "metadata": {
        "id": "wrREST7pWk2h"
      },
      "execution_count": null,
      "outputs": []
    },
    {
      "cell_type": "code",
      "source": [
        "model = keras.models.load_model(\"my_keras_model.h5\")"
      ],
      "metadata": {
        "id": "1II4869dXjqM"
      },
      "execution_count": null,
      "outputs": []
    },
    {
      "cell_type": "code",
      "source": [
        "checkpoint_cb = keras.callbacks.ModelCheckpoint(\"my_keras_model.h5\")\n",
        "history = model.fit(X_train_scaled, y_train, epochs=10, callbacks=[checkpoint_cb])"
      ],
      "metadata": {
        "colab": {
          "base_uri": "https://localhost:8080/"
        },
        "id": "9f4qjwTiXpxN",
        "outputId": "a4f78c1c-dd8c-4cd0-8a20-01bd490067e3"
      },
      "execution_count": null,
      "outputs": [
        {
          "output_type": "stream",
          "name": "stdout",
          "text": [
            "Epoch 1/10\n",
            "413/413 [==============================] - 2s 3ms/step - loss: 0.3481\n",
            "Epoch 2/10\n",
            "413/413 [==============================] - 1s 3ms/step - loss: 0.3419\n",
            "Epoch 3/10\n",
            "413/413 [==============================] - 1s 3ms/step - loss: 0.3425\n",
            "Epoch 4/10\n",
            "413/413 [==============================] - 1s 3ms/step - loss: 0.3447\n",
            "Epoch 5/10\n",
            "413/413 [==============================] - 1s 3ms/step - loss: 0.3385\n",
            "Epoch 6/10\n",
            "413/413 [==============================] - 1s 4ms/step - loss: 0.3446\n",
            "Epoch 7/10\n",
            "413/413 [==============================] - 1s 4ms/step - loss: 0.3466\n",
            "Epoch 8/10\n",
            "413/413 [==============================] - 2s 6ms/step - loss: 0.3422\n",
            "Epoch 9/10\n",
            "413/413 [==============================] - 3s 6ms/step - loss: 0.3475\n",
            "Epoch 10/10\n",
            "413/413 [==============================] - 2s 6ms/step - loss: 0.3428\n"
          ]
        }
      ]
    },
    {
      "cell_type": "code",
      "source": [
        "checkpoint_cb = keras.callbacks.ModelCheckpoint(\"my_keras_model.h5\", save_best_only=True)\n",
        "history = model.fit(X_train_scaled, y_train, epochs=10, \n",
        "                    validation_data=(X_valid_scaled, y_valid),\n",
        "                    callbacks=[checkpoint_cb])\n",
        "pd.DataFrame(history.history).plot(figsize=(8, 5))"
      ],
      "metadata": {
        "id": "rTjYIZYaWlA2",
        "colab": {
          "base_uri": "https://localhost:8080/",
          "height": 706
        },
        "outputId": "f15a1b23-45f9-4537-e3f8-0aafe765c9cf"
      },
      "execution_count": null,
      "outputs": [
        {
          "output_type": "stream",
          "name": "stdout",
          "text": [
            "Epoch 1/10\n",
            "413/413 [==============================] - 2s 5ms/step - loss: 0.3569 - val_loss: 0.3428\n",
            "Epoch 2/10\n",
            "413/413 [==============================] - 2s 4ms/step - loss: 0.3424 - val_loss: 0.3543\n",
            "Epoch 3/10\n",
            "413/413 [==============================] - 2s 4ms/step - loss: 0.3601 - val_loss: 0.3494\n",
            "Epoch 4/10\n",
            "413/413 [==============================] - 2s 4ms/step - loss: 0.3681 - val_loss: 0.3400\n",
            "Epoch 5/10\n",
            "413/413 [==============================] - 2s 4ms/step - loss: 0.3426 - val_loss: 0.3396\n",
            "Epoch 6/10\n",
            "413/413 [==============================] - 2s 4ms/step - loss: 0.3405 - val_loss: 0.3504\n",
            "Epoch 7/10\n",
            "413/413 [==============================] - 2s 4ms/step - loss: 0.3462 - val_loss: 0.3364\n",
            "Epoch 8/10\n",
            "413/413 [==============================] - 2s 4ms/step - loss: 0.3373 - val_loss: 0.3435\n",
            "Epoch 9/10\n",
            "413/413 [==============================] - 2s 4ms/step - loss: 0.3436 - val_loss: 0.3368\n",
            "Epoch 10/10\n",
            "413/413 [==============================] - 2s 4ms/step - loss: 0.3353 - val_loss: 0.3379\n"
          ]
        },
        {
          "output_type": "execute_result",
          "data": {
            "text/plain": [
              "<matplotlib.axes._subplots.AxesSubplot at 0x7fdd596dc5d0>"
            ]
          },
          "metadata": {},
          "execution_count": 52
        },
        {
          "output_type": "display_data",
          "data": {
            "text/plain": [
              "<Figure size 576x360 with 1 Axes>"
            ],
            "image/png": "[encoded data removed]"
          },
          "metadata": {
            "needs_background": "light"
          }
        }
      ]
    },
    {
      "cell_type": "code",
      "source": [
        "early_stopping_cb = keras.callbacks.EarlyStopping(patience=10, restore_best_weights=True)\n",
        "history = model.fit(X_train_scaled, y_train, epochs=100,\n",
        "                    validation_data=(X_valid_scaled, y_valid),\n",
        "                    callbacks=[checkpoint_cb, early_stopping_cb])\n",
        "pd.DataFrame(history.history).plot(figsize=(8, 5))"
      ],
      "metadata": {
        "id": "jZG4vyn3WlbS",
        "colab": {
          "base_uri": "https://localhost:8080/",
          "height": 1000
        },
        "outputId": "4d893707-926b-492b-cccd-e14d838ba530"
      },
      "execution_count": null,
      "outputs": [
        {
          "output_type": "stream",
          "name": "stdout",
          "text": [
            "Epoch 1/100\n",
            "413/413 [==============================] - 2s 4ms/step - loss: 0.3420 - val_loss: 0.3316\n",
            "Epoch 2/100\n",
            "413/413 [==============================] - 2s 4ms/step - loss: 0.3317 - val_loss: 0.3370\n",
            "Epoch 3/100\n",
            "413/413 [==============================] - 2s 4ms/step - loss: 0.3382 - val_loss: 0.3328\n",
            "Epoch 4/100\n",
            "413/413 [==============================] - 2s 4ms/step - loss: 0.3432 - val_loss: 0.3235\n",
            "Epoch 5/100\n",
            "413/413 [==============================] - 2s 4ms/step - loss: 0.3243 - val_loss: 0.3253\n",
            "Epoch 6/100\n",
            "413/413 [==============================] - 2s 4ms/step - loss: 0.3269 - val_loss: 0.3347\n",
            "Epoch 7/100\n",
            "413/413 [==============================] - 2s 4ms/step - loss: 0.3268 - val_loss: 0.3222\n",
            "Epoch 8/100\n",
            "413/413 [==============================] - 2s 4ms/step - loss: 0.3245 - val_loss: 0.3287\n",
            "Epoch 9/100\n",
            "413/413 [==============================] - 2s 4ms/step - loss: 0.3263 - val_loss: 0.3235\n",
            "Epoch 10/100\n",
            "413/413 [==============================] - 2s 4ms/step - loss: 0.3235 - val_loss: 0.3232\n",
            "Epoch 11/100\n",
            "413/413 [==============================] - 2s 4ms/step - loss: 0.3237 - val_loss: 0.3215\n",
            "Epoch 12/100\n",
            "413/413 [==============================] - 2s 5ms/step - loss: 0.3295 - val_loss: 0.3195\n",
            "Epoch 13/100\n",
            "413/413 [==============================] - 2s 4ms/step - loss: 0.3164 - val_loss: 0.3234\n",
            "Epoch 14/100\n",
            "413/413 [==============================] - 2s 4ms/step - loss: 0.3178 - val_loss: 0.3228\n",
            "Epoch 15/100\n",
            "413/413 [==============================] - 2s 4ms/step - loss: 0.3170 - val_loss: 0.3130\n",
            "Epoch 16/100\n",
            "413/413 [==============================] - 2s 4ms/step - loss: 0.3178 - val_loss: 0.3098\n",
            "Epoch 17/100\n",
            "413/413 [==============================] - 2s 4ms/step - loss: 0.3116 - val_loss: 0.3110\n",
            "Epoch 18/100\n",
            "413/413 [==============================] - 2s 4ms/step - loss: 0.3152 - val_loss: 0.3089\n",
            "Epoch 19/100\n",
            "413/413 [==============================] - 2s 4ms/step - loss: 0.3111 - val_loss: 0.3138\n",
            "Epoch 20/100\n",
            "413/413 [==============================] - 2s 4ms/step - loss: 0.3117 - val_loss: 0.3066\n",
            "Epoch 21/100\n",
            "413/413 [==============================] - 2s 4ms/step - loss: 0.3086 - val_loss: 0.3062\n",
            "Epoch 22/100\n",
            "413/413 [==============================] - 2s 4ms/step - loss: 0.3092 - val_loss: 0.3069\n",
            "Epoch 23/100\n",
            "413/413 [==============================] - 2s 4ms/step - loss: 0.3083 - val_loss: 0.3101\n",
            "Epoch 24/100\n",
            "413/413 [==============================] - 2s 4ms/step - loss: 0.3111 - val_loss: 0.3074\n",
            "Epoch 25/100\n",
            "413/413 [==============================] - 2s 4ms/step - loss: 0.3082 - val_loss: 0.3102\n",
            "Epoch 26/100\n",
            "413/413 [==============================] - 2s 4ms/step - loss: 0.3069 - val_loss: 0.3228\n",
            "Epoch 27/100\n",
            "413/413 [==============================] - 2s 4ms/step - loss: 0.3079 - val_loss: 0.3092\n",
            "Epoch 28/100\n",
            "413/413 [==============================] - 2s 4ms/step - loss: 0.3071 - val_loss: 0.3076\n",
            "Epoch 29/100\n",
            "413/413 [==============================] - 2s 4ms/step - loss: 0.3072 - val_loss: 0.3085\n",
            "Epoch 30/100\n",
            "413/413 [==============================] - 2s 4ms/step - loss: 0.3058 - val_loss: 0.3047\n",
            "Epoch 31/100\n",
            "413/413 [==============================] - 2s 4ms/step - loss: 0.3048 - val_loss: 0.3108\n",
            "Epoch 32/100\n",
            "413/413 [==============================] - 2s 4ms/step - loss: 0.3042 - val_loss: 0.3032\n",
            "Epoch 33/100\n",
            "413/413 [==============================] - 2s 4ms/step - loss: 0.3042 - val_loss: 0.3091\n",
            "Epoch 34/100\n",
            "413/413 [==============================] - 2s 4ms/step - loss: 0.3022 - val_loss: 0.3065\n",
            "Epoch 35/100\n",
            "413/413 [==============================] - 2s 4ms/step - loss: 0.3046 - val_loss: 0.3120\n",
            "Epoch 36/100\n",
            "413/413 [==============================] - 2s 4ms/step - loss: 0.3040 - val_loss: 0.3108\n",
            "Epoch 37/100\n",
            "413/413 [==============================] - 2s 4ms/step - loss: 0.3025 - val_loss: 0.3021\n",
            "Epoch 38/100\n",
            "413/413 [==============================] - 2s 4ms/step - loss: 0.3012 - val_loss: 0.3010\n",
            "Epoch 39/100\n",
            "413/413 [==============================] - 2s 4ms/step - loss: 0.3026 - val_loss: 0.3043\n",
            "Epoch 40/100\n",
            "413/413 [==============================] - 2s 4ms/step - loss: 0.3058 - val_loss: 0.3016\n",
            "Epoch 41/100\n",
            "413/413 [==============================] - 2s 4ms/step - loss: 0.3013 - val_loss: 0.2994\n",
            "Epoch 42/100\n",
            "413/413 [==============================] - 2s 4ms/step - loss: 0.3008 - val_loss: 0.3044\n",
            "Epoch 43/100\n",
            "413/413 [==============================] - 2s 4ms/step - loss: 0.3005 - val_loss: 0.2982\n",
            "Epoch 44/100\n",
            "413/413 [==============================] - 2s 4ms/step - loss: 0.2978 - val_loss: 0.3037\n",
            "Epoch 45/100\n",
            "413/413 [==============================] - 2s 4ms/step - loss: 0.2991 - val_loss: 0.2981\n",
            "Epoch 46/100\n",
            "413/413 [==============================] - 2s 4ms/step - loss: 0.2962 - val_loss: 0.2970\n",
            "Epoch 47/100\n",
            "413/413 [==============================] - 2s 4ms/step - loss: 0.2976 - val_loss: 0.3036\n",
            "Epoch 48/100\n",
            "413/413 [==============================] - 2s 4ms/step - loss: 0.2976 - val_loss: 0.2953\n",
            "Epoch 49/100\n",
            "413/413 [==============================] - 2s 4ms/step - loss: 0.2965 - val_loss: 0.2987\n",
            "Epoch 50/100\n",
            "413/413 [==============================] - 2s 4ms/step - loss: 0.2983 - val_loss: 0.3246\n",
            "Epoch 51/100\n",
            "413/413 [==============================] - 2s 4ms/step - loss: 0.2971 - val_loss: 0.2956\n",
            "Epoch 52/100\n",
            "413/413 [==============================] - 2s 4ms/step - loss: 0.3023 - val_loss: 0.3008\n",
            "Epoch 53/100\n",
            "413/413 [==============================] - 2s 4ms/step - loss: 0.2944 - val_loss: 0.2935\n",
            "Epoch 54/100\n",
            "413/413 [==============================] - 2s 4ms/step - loss: 0.2937 - val_loss: 0.2950\n",
            "Epoch 55/100\n",
            "413/413 [==============================] - 2s 4ms/step - loss: 0.2952 - val_loss: 0.2956\n",
            "Epoch 56/100\n",
            "413/413 [==============================] - 2s 4ms/step - loss: 0.2936 - val_loss: 0.2954\n",
            "Epoch 57/100\n",
            "413/413 [==============================] - 2s 4ms/step - loss: 0.2923 - val_loss: 0.2944\n",
            "Epoch 58/100\n",
            "413/413 [==============================] - 2s 4ms/step - loss: 0.2941 - val_loss: 0.3040\n",
            "Epoch 59/100\n",
            "413/413 [==============================] - 2s 4ms/step - loss: 0.2955 - val_loss: 0.2966\n",
            "Epoch 60/100\n",
            "413/413 [==============================] - 2s 4ms/step - loss: 0.3004 - val_loss: 0.2928\n",
            "Epoch 61/100\n",
            "413/413 [==============================] - 2s 4ms/step - loss: 0.2932 - val_loss: 0.2955\n",
            "Epoch 62/100\n",
            "413/413 [==============================] - 2s 4ms/step - loss: 0.2917 - val_loss: 0.2973\n",
            "Epoch 63/100\n",
            "413/413 [==============================] - 2s 4ms/step - loss: 0.2932 - val_loss: 0.2915\n",
            "Epoch 64/100\n",
            "413/413 [==============================] - 2s 4ms/step - loss: 0.2899 - val_loss: 0.2937\n",
            "Epoch 65/100\n",
            "413/413 [==============================] - 2s 4ms/step - loss: 0.2924 - val_loss: 0.2908\n",
            "Epoch 66/100\n",
            "413/413 [==============================] - 2s 4ms/step - loss: 0.2906 - val_loss: 0.2913\n",
            "Epoch 67/100\n",
            "413/413 [==============================] - 2s 4ms/step - loss: 0.2893 - val_loss: 0.2965\n",
            "Epoch 68/100\n",
            "413/413 [==============================] - 2s 4ms/step - loss: 0.2921 - val_loss: 0.2960\n",
            "Epoch 69/100\n",
            "413/413 [==============================] - 2s 4ms/step - loss: 0.2924 - val_loss: 0.2981\n",
            "Epoch 70/100\n",
            "413/413 [==============================] - 2s 4ms/step - loss: 0.2965 - val_loss: 0.2917\n",
            "Epoch 71/100\n",
            "413/413 [==============================] - 2s 4ms/step - loss: 0.2898 - val_loss: 0.2958\n",
            "Epoch 72/100\n",
            "413/413 [==============================] - 2s 4ms/step - loss: 0.2919 - val_loss: 0.3074\n",
            "Epoch 73/100\n",
            "413/413 [==============================] - 2s 4ms/step - loss: 0.2901 - val_loss: 0.2911\n",
            "Epoch 74/100\n",
            "413/413 [==============================] - 2s 6ms/step - loss: 0.2897 - val_loss: 0.2970\n",
            "Epoch 75/100\n",
            "413/413 [==============================] - 2s 4ms/step - loss: 0.2881 - val_loss: 0.2883\n",
            "Epoch 76/100\n",
            "413/413 [==============================] - 2s 4ms/step - loss: 0.2874 - val_loss: 0.2931\n",
            "Epoch 77/100\n",
            "413/413 [==============================] - 2s 4ms/step - loss: 0.2882 - val_loss: 0.2915\n",
            "Epoch 78/100\n",
            "413/413 [==============================] - 2s 4ms/step - loss: 0.2918 - val_loss: 0.3051\n",
            "Epoch 79/100\n",
            "413/413 [==============================] - 2s 4ms/step - loss: 0.3031 - val_loss: 0.2884\n",
            "Epoch 80/100\n",
            "413/413 [==============================] - 2s 4ms/step - loss: 0.2878 - val_loss: 0.2925\n",
            "Epoch 81/100\n",
            "413/413 [==============================] - 2s 4ms/step - loss: 0.2860 - val_loss: 0.2890\n",
            "Epoch 82/100\n",
            "413/413 [==============================] - 2s 4ms/step - loss: 0.2872 - val_loss: 0.2879\n",
            "Epoch 83/100\n",
            "413/413 [==============================] - 2s 4ms/step - loss: 0.2858 - val_loss: 0.2967\n",
            "Epoch 84/100\n",
            "413/413 [==============================] - 2s 4ms/step - loss: 0.2882 - val_loss: 0.2885\n",
            "Epoch 85/100\n",
            "413/413 [==============================] - 2s 4ms/step - loss: 0.2851 - val_loss: 0.2924\n",
            "Epoch 86/100\n",
            "413/413 [==============================] - 2s 4ms/step - loss: 0.2866 - val_loss: 0.2907\n",
            "Epoch 87/100\n",
            "413/413 [==============================] - 2s 4ms/step - loss: 0.2913 - val_loss: 0.2901\n",
            "Epoch 88/100\n",
            "413/413 [==============================] - 2s 4ms/step - loss: 0.2871 - val_loss: 0.2882\n",
            "Epoch 89/100\n",
            "413/413 [==============================] - 2s 4ms/step - loss: 0.2868 - val_loss: 0.2898\n",
            "Epoch 90/100\n",
            "413/413 [==============================] - 2s 4ms/step - loss: 0.2849 - val_loss: 0.2956\n",
            "Epoch 91/100\n",
            "413/413 [==============================] - 2s 4ms/step - loss: 0.2851 - val_loss: 0.2902\n",
            "Epoch 92/100\n",
            "413/413 [==============================] - 2s 4ms/step - loss: 0.2836 - val_loss: 0.2881\n"
          ]
        },
        {
          "output_type": "execute_result",
          "data": {
            "text/plain": [
              "<matplotlib.axes._subplots.AxesSubplot at 0x7fdd5c9d2b50>"
            ]
          },
          "metadata": {},
          "execution_count": 53
        },
        {
          "output_type": "display_data",
          "data": {
            "text/plain": [
              "<Figure size 576x360 with 1 Axes>"
            ],
            "image/png": "[encoded data removed]"
          },
          "metadata": {
            "needs_background": "light"
          }
        }
      ]
    },
    {
      "cell_type": "code",
      "source": [
        "class PrintVal2TrainRatioCallback(keras.callbacks.Callback):\n",
        "  def on_epoch_end(self, epoch, logs):\n",
        "    print(\"\\nval/train: {:.2f}\".format(logs[\"val_loss\"]/logs[\"loss\"]))"
      ],
      "metadata": {
        "id": "wQRIPouacWpT"
      },
      "execution_count": null,
      "outputs": []
    },
    {
      "cell_type": "code",
      "source": [
        "root_logdir = os.path.join(os.curdir, \"my_logs\")\n",
        "\n",
        "import time\n",
        "def get_run_logdir():\n",
        "  run_id = time.strftime(\"run_%Y_%m_%d-%H_%M_%S\")\n",
        "  return os.path.join(root_logdir, run_id)\n",
        "\n",
        "run_logdir = get_run_logdir()\n"
      ],
      "metadata": {
        "id": "_ibKQ6AncW2z"
      },
      "execution_count": null,
      "outputs": []
    },
    {
      "cell_type": "code",
      "source": [
        "tensorboard_cb = keras.callbacks.TensorBoard(run_logdir)\n",
        "history = model.fit(X_train_scaled, y_train, epochs=100,\n",
        "                    validation_data=(X_valid_scaled, y_valid),\n",
        "                    callbacks=[tensorboard_cb])"
      ],
      "metadata": {
        "id": "JVH3UzqBcXAz"
      },
      "execution_count": null,
      "outputs": []
    },
    {
      "cell_type": "code",
      "source": [
        "(X_train_full, y_train_full), (X_test, y_test) = keras.datasets.mnist.load_data()"
      ],
      "metadata": {
        "id": "KkTOHKBAkNFe",
        "colab": {
          "base_uri": "https://localhost:8080/"
        },
        "outputId": "6ef2c92a-f0a3-4ae1-9206-7f06697b4d56"
      },
      "execution_count": null,
      "outputs": [
        {
          "output_type": "stream",
          "name": "stdout",
          "text": [
            "Downloading data from https://storage.googleapis.com/tensorflow/tf-keras-datasets/mnist.npz\n",
            "11493376/11490434 [==============================] - 0s 0us/step\n",
            "11501568/11490434 [==============================] - 0s 0us/step\n"
          ]
        }
      ]
    },
    {
      "cell_type": "code",
      "source": [
        "X_train, X_valid = X_train_full[:50000] / 255.0, X_train_full[50000:] / 255.0\n",
        "y_train, y_valid = y_train_full[:50000], y_train_full[50000:]\n",
        "X_test = X_test / 255.0"
      ],
      "metadata": {
        "id": "NJjlFOgDaomF"
      },
      "execution_count": null,
      "outputs": []
    },
    {
      "cell_type": "code",
      "source": [
        "my_model = keras.models.Sequential([\n",
        "                                    keras.layers.Flatten(input_shape=[28, 28]),\n",
        "                                    keras.layers.Dense(500, activation='relu'),\n",
        "                                    keras.layers.Dense(300, activation='relu'),\n",
        "                                    keras.layers.Dense(10, activation='softmax')\n",
        "])\n",
        "my_model.compile(loss=\"sparse_categorical_crossentropy\", optimizer=keras.optimizers.SGD(learning_rate=0.03), metrics=[\"accuracy\"])"
      ],
      "metadata": {
        "id": "RzfKoMTubHz9"
      },
      "execution_count": null,
      "outputs": []
    },
    {
      "cell_type": "code",
      "source": [
        "my_model.summary()"
      ],
      "metadata": {
        "colab": {
          "base_uri": "https://localhost:8080/"
        },
        "id": "BdVDTKeubIAj",
        "outputId": "3a837f67-e5a2-4210-c675-f57430fad18a"
      },
      "execution_count": null,
      "outputs": [
        {
          "output_type": "stream",
          "name": "stdout",
          "text": [
            "Model: \"sequential_13\"\n",
            "_________________________________________________________________\n",
            " Layer (type)                Output Shape              Param #   \n",
            "=================================================================\n",
            " flatten_12 (Flatten)        (None, 784)               0         \n",
            "                                                                 \n",
            " dense_48 (Dense)            (None, 500)               392500    \n",
            "                                                                 \n",
            " dense_49 (Dense)            (None, 300)               150300    \n",
            "                                                                 \n",
            " dense_50 (Dense)            (None, 10)                3010      \n",
            "                                                                 \n",
            "=================================================================\n",
            "Total params: 545,810\n",
            "Trainable params: 545,810\n",
            "Non-trainable params: 0\n",
            "_________________________________________________________________\n"
          ]
        }
      ]
    },
    {
      "cell_type": "code",
      "source": [
        "early_stopping_cb = keras.callbacks.EarlyStopping(patience=10, restore_best_weights=True)\n",
        "history = my_model.fit(X_train, y_train, epochs=100, validation_data=(X_valid, y_valid), callbacks=[early_stopping_cb])"
      ],
      "metadata": {
        "colab": {
          "base_uri": "https://localhost:8080/"
        },
        "id": "xuf_7-sEcksE",
        "outputId": "405fd3c4-d7f8-40eb-d329-18f63028a78f"
      },
      "execution_count": null,
      "outputs": [
        {
          "output_type": "stream",
          "name": "stdout",
          "text": [
            "Epoch 1/100\n",
            "1563/1563 [==============================] - 7s 4ms/step - loss: 0.3933 - accuracy: 0.8920 - val_loss: 0.2205 - val_accuracy: 0.9376\n",
            "Epoch 2/100\n",
            "1563/1563 [==============================] - 7s 4ms/step - loss: 0.1899 - accuracy: 0.9447 - val_loss: 0.1623 - val_accuracy: 0.9552\n",
            "Epoch 3/100\n",
            "1563/1563 [==============================] - 7s 4ms/step - loss: 0.1391 - accuracy: 0.9591 - val_loss: 0.1241 - val_accuracy: 0.9656\n",
            "Epoch 4/100\n",
            "1563/1563 [==============================] - 7s 4ms/step - loss: 0.1078 - accuracy: 0.9687 - val_loss: 0.1219 - val_accuracy: 0.9663\n",
            "Epoch 5/100\n",
            "1563/1563 [==============================] - 7s 4ms/step - loss: 0.0869 - accuracy: 0.9747 - val_loss: 0.0966 - val_accuracy: 0.9730\n",
            "Epoch 6/100\n",
            "1563/1563 [==============================] - 7s 4ms/step - loss: 0.0714 - accuracy: 0.9794 - val_loss: 0.0937 - val_accuracy: 0.9733\n",
            "Epoch 7/100\n",
            "1563/1563 [==============================] - 6s 4ms/step - loss: 0.0592 - accuracy: 0.9834 - val_loss: 0.0878 - val_accuracy: 0.9748\n",
            "Epoch 8/100\n",
            "1563/1563 [==============================] - 7s 4ms/step - loss: 0.0498 - accuracy: 0.9861 - val_loss: 0.0966 - val_accuracy: 0.9710\n",
            "Epoch 9/100\n",
            "1563/1563 [==============================] - 6s 4ms/step - loss: 0.0423 - accuracy: 0.9883 - val_loss: 0.0759 - val_accuracy: 0.9784\n",
            "Epoch 10/100\n",
            "1563/1563 [==============================] - 7s 5ms/step - loss: 0.0357 - accuracy: 0.9901 - val_loss: 0.0744 - val_accuracy: 0.9792\n",
            "Epoch 11/100\n",
            "1563/1563 [==============================] - 7s 4ms/step - loss: 0.0300 - accuracy: 0.9927 - val_loss: 0.0713 - val_accuracy: 0.9800\n",
            "Epoch 12/100\n",
            "1563/1563 [==============================] - 6s 4ms/step - loss: 0.0254 - accuracy: 0.9940 - val_loss: 0.0741 - val_accuracy: 0.9784\n",
            "Epoch 13/100\n",
            "1563/1563 [==============================] - 6s 4ms/step - loss: 0.0217 - accuracy: 0.9955 - val_loss: 0.0713 - val_accuracy: 0.9794\n",
            "Epoch 14/100\n",
            "1563/1563 [==============================] - 6s 4ms/step - loss: 0.0188 - accuracy: 0.9960 - val_loss: 0.0710 - val_accuracy: 0.9801\n",
            "Epoch 15/100\n",
            "1563/1563 [==============================] - 7s 4ms/step - loss: 0.0157 - accuracy: 0.9973 - val_loss: 0.0704 - val_accuracy: 0.9798\n",
            "Epoch 16/100\n",
            "1563/1563 [==============================] - 6s 4ms/step - loss: 0.0135 - accuracy: 0.9977 - val_loss: 0.0715 - val_accuracy: 0.9797\n",
            "Epoch 17/100\n",
            "1563/1563 [==============================] - 7s 4ms/step - loss: 0.0113 - accuracy: 0.9985 - val_loss: 0.0721 - val_accuracy: 0.9792\n",
            "Epoch 18/100\n",
            "1563/1563 [==============================] - 7s 4ms/step - loss: 0.0098 - accuracy: 0.9988 - val_loss: 0.0712 - val_accuracy: 0.9801\n",
            "Epoch 19/100\n",
            "1563/1563 [==============================] - 6s 4ms/step - loss: 0.0084 - accuracy: 0.9992 - val_loss: 0.0707 - val_accuracy: 0.9805\n",
            "Epoch 20/100\n",
            "1563/1563 [==============================] - 6s 4ms/step - loss: 0.0075 - accuracy: 0.9992 - val_loss: 0.0710 - val_accuracy: 0.9802\n",
            "Epoch 21/100\n",
            "1563/1563 [==============================] - 6s 4ms/step - loss: 0.0066 - accuracy: 0.9995 - val_loss: 0.0745 - val_accuracy: 0.9806\n",
            "Epoch 22/100\n",
            "1563/1563 [==============================] - 6s 4ms/step - loss: 0.0058 - accuracy: 0.9996 - val_loss: 0.0727 - val_accuracy: 0.9811\n",
            "Epoch 23/100\n",
            "1563/1563 [==============================] - 6s 4ms/step - loss: 0.0050 - accuracy: 0.9998 - val_loss: 0.0732 - val_accuracy: 0.9811\n",
            "Epoch 24/100\n",
            "1563/1563 [==============================] - 6s 4ms/step - loss: 0.0046 - accuracy: 0.9997 - val_loss: 0.0722 - val_accuracy: 0.9808\n",
            "Epoch 25/100\n",
            "1563/1563 [==============================] - 6s 4ms/step - loss: 0.0040 - accuracy: 0.9999 - val_loss: 0.0742 - val_accuracy: 0.9821\n"
          ]
        }
      ]
    },
    {
      "cell_type": "code",
      "source": [
        "pd.DataFrame(history.history).plot(figsize=(8, 5))"
      ],
      "metadata": {
        "colab": {
          "base_uri": "https://localhost:8080/",
          "height": 341
        },
        "id": "myqSXdwjfMWc",
        "outputId": "62fd5481-e56a-4bb5-8309-de00188b62f5"
      },
      "execution_count": null,
      "outputs": [
        {
          "output_type": "execute_result",
          "data": {
            "text/plain": [
              "<matplotlib.axes._subplots.AxesSubplot at 0x7fdd5cd29410>"
            ]
          },
          "metadata": {},
          "execution_count": 117
        },
        {
          "output_type": "display_data",
          "data": {
            "text/plain": [
              "<Figure size 576x360 with 1 Axes>"
            ],
            "image/png": "[encoded data removed]"
          },
          "metadata": {
            "needs_background": "light"
          }
        }
      ]
    },
    {
      "cell_type": "code",
      "source": [
        "my_model.evaluate(X_test, y_test)"
      ],
      "metadata": {
        "colab": {
          "base_uri": "https://localhost:8080/"
        },
        "id": "NvaI54K9chvh",
        "outputId": "20e4dcd4-18ea-4881-ba3c-e7a6cdbad4bb"
      },
      "execution_count": null,
      "outputs": [
        {
          "output_type": "stream",
          "name": "stdout",
          "text": [
            "313/313 [==============================] - 1s 3ms/step - loss: 0.0653 - accuracy: 0.9803\n"
          ]
        },
        {
          "output_type": "execute_result",
          "data": {
            "text/plain": [
              "[0.06525228172540665, 0.9803000092506409]"
            ]
          },
          "metadata": {},
          "execution_count": 118
        }
      ]
    },
    {
      "cell_type": "code",
      "source": [],
      "metadata": {
        "id": "KkDAmDGCe-eZ"
      },
      "execution_count": null,
      "outputs": []
    },
    {
      "cell_type": "code",
      "source": [],
      "metadata": {
        "id": "a68rCegccg3m"
      },
      "execution_count": null,
      "outputs": []
    }
  ]
}