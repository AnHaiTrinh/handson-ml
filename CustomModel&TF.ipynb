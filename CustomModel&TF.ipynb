{
  "nbformat": 4,
  "nbformat_minor": 0,
  "metadata": {
    "colab": {
      "provenance": [],
      "authorship_tag": "ABX9TyPC6ULxTMcSnjc2VBsK6cM4",
      "include_colab_link": true
    },
    "kernelspec": {
      "name": "python3",
      "display_name": "Python 3"
    },
    "language_info": {
      "name": "python"
    },
    "accelerator": "GPU"
  },
  "cells": [
    {
      "cell_type": "markdown",
      "metadata": {
        "id": "view-in-github",
        "colab_type": "text"
      },
      "source": [
        "<a href=\"https://colab.research.google.com/github/AnHaiTrinh/handson-ml/blob/main/CustomModel%26TF.ipynb\" target=\"_parent\"><img src=\"https://colab.research.google.com/assets/colab-badge.svg\" alt=\"Open In Colab\"/></a>"
      ]
    },
    {
      "cell_type": "code",
      "execution_count": null,
      "metadata": {
        "id": "eIBdOhAPtC7f"
      },
      "outputs": [],
      "source": [
        "import numpy as np\n",
        "\n",
        "import sklearn\n",
        "\n",
        "import tensorflow as tf\n",
        "from tensorflow import keras\n",
        "\n",
        "%matplotlib inline\n",
        "import matplotlib as mpl\n",
        "import matplotlib.pyplot as plt\n",
        "mpl.rc('axes', labelsize=14)\n",
        "mpl.rc('xtick', labelsize=12)\n",
        "mpl.rc('ytick', labelsize=12)"
      ]
    },
    {
      "cell_type": "code",
      "source": [
        "tf.constant([[1., 2., 3.], [4., 5., 6.]])"
      ],
      "metadata": {
        "id": "X_IOZvTctjXX",
        "colab": {
          "base_uri": "https://localhost:8080/"
        },
        "outputId": "8111b68c-1a38-4875-b195-638acf9c387f"
      },
      "execution_count": null,
      "outputs": [
        {
          "output_type": "execute_result",
          "data": {
            "text/plain": [
              "<tf.Tensor: shape=(2, 3), dtype=float32, numpy=\n",
              "array([[1., 2., 3.],\n",
              "       [4., 5., 6.]], dtype=float32)>"
            ]
          },
          "metadata": {},
          "execution_count": 2
        }
      ]
    },
    {
      "cell_type": "code",
      "source": [
        "tf.constant(42)"
      ],
      "metadata": {
        "colab": {
          "base_uri": "https://localhost:8080/"
        },
        "id": "mvfsnN_2NnKc",
        "outputId": "2e42c6b0-2855-49b1-edbc-c11eed355eec"
      },
      "execution_count": null,
      "outputs": [
        {
          "output_type": "execute_result",
          "data": {
            "text/plain": [
              "<tf.Tensor: shape=(), dtype=int32, numpy=42>"
            ]
          },
          "metadata": {},
          "execution_count": 3
        }
      ]
    },
    {
      "cell_type": "code",
      "source": [
        "t = tf.constant([[1., 2., 3.], [4., 5., 6.]])"
      ],
      "metadata": {
        "id": "FDrBZDRoNsDm"
      },
      "execution_count": null,
      "outputs": []
    },
    {
      "cell_type": "code",
      "source": [
        "t[:, 1:]"
      ],
      "metadata": {
        "colab": {
          "base_uri": "https://localhost:8080/"
        },
        "id": "ETbzbP9DN0WC",
        "outputId": "5d10deea-84ee-4bfa-c855-125bd8a9cd3b"
      },
      "execution_count": null,
      "outputs": [
        {
          "output_type": "execute_result",
          "data": {
            "text/plain": [
              "<tf.Tensor: shape=(2, 2), dtype=float32, numpy=\n",
              "array([[2., 3.],\n",
              "       [5., 6.]], dtype=float32)>"
            ]
          },
          "metadata": {},
          "execution_count": 5
        }
      ]
    },
    {
      "cell_type": "code",
      "source": [
        "t[..., 1, tf.newaxis]"
      ],
      "metadata": {
        "colab": {
          "base_uri": "https://localhost:8080/"
        },
        "id": "wlb9kd0aN4ZF",
        "outputId": "cc526b43-e828-42be-e2a1-541b46516779"
      },
      "execution_count": null,
      "outputs": [
        {
          "output_type": "execute_result",
          "data": {
            "text/plain": [
              "<tf.Tensor: shape=(2, 1), dtype=float32, numpy=\n",
              "array([[2.],\n",
              "       [5.]], dtype=float32)>"
            ]
          },
          "metadata": {},
          "execution_count": 6
        }
      ]
    },
    {
      "cell_type": "code",
      "source": [
        "t + 10"
      ],
      "metadata": {
        "colab": {
          "base_uri": "https://localhost:8080/"
        },
        "id": "qaeroKYkOCmK",
        "outputId": "dfb7c1a6-50a5-4c52-f5b4-cdfa46f3fae0"
      },
      "execution_count": null,
      "outputs": [
        {
          "output_type": "execute_result",
          "data": {
            "text/plain": [
              "<tf.Tensor: shape=(2, 3), dtype=float32, numpy=\n",
              "array([[11., 12., 13.],\n",
              "       [14., 15., 16.]], dtype=float32)>"
            ]
          },
          "metadata": {},
          "execution_count": 7
        }
      ]
    },
    {
      "cell_type": "code",
      "source": [
        "tf.square(t)"
      ],
      "metadata": {
        "colab": {
          "base_uri": "https://localhost:8080/"
        },
        "id": "H3u_d7FJONFL",
        "outputId": "832c955c-3a8e-4d02-9267-ae6430eaf1d3"
      },
      "execution_count": null,
      "outputs": [
        {
          "output_type": "execute_result",
          "data": {
            "text/plain": [
              "<tf.Tensor: shape=(2, 3), dtype=float32, numpy=\n",
              "array([[ 1.,  4.,  9.],\n",
              "       [16., 25., 36.]], dtype=float32)>"
            ]
          },
          "metadata": {},
          "execution_count": 8
        }
      ]
    },
    {
      "cell_type": "code",
      "source": [
        "t @ tf.transpose(t)"
      ],
      "metadata": {
        "colab": {
          "base_uri": "https://localhost:8080/"
        },
        "id": "WqDi1W0qOPYm",
        "outputId": "c2ed5d93-91c8-4d97-d341-e3964b84586f"
      },
      "execution_count": null,
      "outputs": [
        {
          "output_type": "execute_result",
          "data": {
            "text/plain": [
              "<tf.Tensor: shape=(2, 2), dtype=float32, numpy=\n",
              "array([[14., 32.],\n",
              "       [32., 77.]], dtype=float32)>"
            ]
          },
          "metadata": {},
          "execution_count": 9
        }
      ]
    },
    {
      "cell_type": "code",
      "source": [
        "K = keras.backend\n",
        "K.square(K.transpose(t)) + 10"
      ],
      "metadata": {
        "colab": {
          "base_uri": "https://localhost:8080/"
        },
        "id": "OajZ4dhLOVX9",
        "outputId": "3eb5a15f-eece-4c8f-afd1-6d7ded8438ef"
      },
      "execution_count": null,
      "outputs": [
        {
          "output_type": "execute_result",
          "data": {
            "text/plain": [
              "<tf.Tensor: shape=(3, 2), dtype=float32, numpy=\n",
              "array([[11., 26.],\n",
              "       [14., 35.],\n",
              "       [19., 46.]], dtype=float32)>"
            ]
          },
          "metadata": {},
          "execution_count": 10
        }
      ]
    },
    {
      "cell_type": "code",
      "source": [
        "a = np.array([2., 4., 5.])"
      ],
      "metadata": {
        "id": "sJT3FyFNO77V"
      },
      "execution_count": null,
      "outputs": []
    },
    {
      "cell_type": "code",
      "source": [
        "tf.constant(a)"
      ],
      "metadata": {
        "colab": {
          "base_uri": "https://localhost:8080/"
        },
        "id": "0NRBKRwxO-nj",
        "outputId": "80cfc158-1b64-4156-a9a9-0093032df443"
      },
      "execution_count": null,
      "outputs": [
        {
          "output_type": "execute_result",
          "data": {
            "text/plain": [
              "<tf.Tensor: shape=(3,), dtype=float64, numpy=array([2., 4., 5.])>"
            ]
          },
          "metadata": {},
          "execution_count": 12
        }
      ]
    },
    {
      "cell_type": "code",
      "source": [
        "t.numpy()"
      ],
      "metadata": {
        "colab": {
          "base_uri": "https://localhost:8080/"
        },
        "id": "RdsBj2DlPBba",
        "outputId": "9f082bd5-e830-426b-fe20-fe8600b6eb57"
      },
      "execution_count": null,
      "outputs": [
        {
          "output_type": "execute_result",
          "data": {
            "text/plain": [
              "array([[1., 2., 3.],\n",
              "       [4., 5., 6.]], dtype=float32)"
            ]
          },
          "metadata": {},
          "execution_count": 13
        }
      ]
    },
    {
      "cell_type": "code",
      "source": [
        "tf.square(a)"
      ],
      "metadata": {
        "colab": {
          "base_uri": "https://localhost:8080/"
        },
        "id": "orsy91mZOsU_",
        "outputId": "51589b3a-3a9c-4ecd-8ed4-7b81b89de1a7"
      },
      "execution_count": null,
      "outputs": [
        {
          "output_type": "execute_result",
          "data": {
            "text/plain": [
              "<tf.Tensor: shape=(3,), dtype=float64, numpy=array([ 4., 16., 25.])>"
            ]
          },
          "metadata": {},
          "execution_count": 14
        }
      ]
    },
    {
      "cell_type": "code",
      "source": [
        "np.square(t)"
      ],
      "metadata": {
        "colab": {
          "base_uri": "https://localhost:8080/"
        },
        "id": "sCIp2SyjPRF3",
        "outputId": "0468a059-e2b3-4910-f7b2-01416d4206af"
      },
      "execution_count": null,
      "outputs": [
        {
          "output_type": "execute_result",
          "data": {
            "text/plain": [
              "array([[ 1.,  4.,  9.],\n",
              "       [16., 25., 36.]], dtype=float32)"
            ]
          },
          "metadata": {},
          "execution_count": 15
        }
      ]
    },
    {
      "cell_type": "code",
      "source": [
        "t2 = tf.constant(40, dtype=tf.float64)\n",
        "tf.constant(2.) + tf.cast(t2, tf.float32)"
      ],
      "metadata": {
        "colab": {
          "base_uri": "https://localhost:8080/"
        },
        "id": "3Sn5HQzMPUDm",
        "outputId": "f94c5625-cd21-4d1e-a7b1-f5ae860fff25"
      },
      "execution_count": null,
      "outputs": [
        {
          "output_type": "execute_result",
          "data": {
            "text/plain": [
              "<tf.Tensor: shape=(), dtype=float32, numpy=42.0>"
            ]
          },
          "metadata": {},
          "execution_count": 16
        }
      ]
    },
    {
      "cell_type": "code",
      "source": [
        "v = tf.Variable([[1., 2., 3.], [4., 5., 6.]])\n",
        "v"
      ],
      "metadata": {
        "colab": {
          "base_uri": "https://localhost:8080/"
        },
        "id": "W32HzOcaP82v",
        "outputId": "a9f016bb-d637-4159-fb35-0787b032a749"
      },
      "execution_count": null,
      "outputs": [
        {
          "output_type": "execute_result",
          "data": {
            "text/plain": [
              "<tf.Variable 'Variable:0' shape=(2, 3) dtype=float32, numpy=\n",
              "array([[1., 2., 3.],\n",
              "       [4., 5., 6.]], dtype=float32)>"
            ]
          },
          "metadata": {},
          "execution_count": 17
        }
      ]
    },
    {
      "cell_type": "code",
      "source": [
        "v.assign(v*2)"
      ],
      "metadata": {
        "colab": {
          "base_uri": "https://localhost:8080/"
        },
        "id": "fk2qBZX7QHGp",
        "outputId": "3326af30-35aa-41b1-c3c9-2e6eb386c790"
      },
      "execution_count": null,
      "outputs": [
        {
          "output_type": "execute_result",
          "data": {
            "text/plain": [
              "<tf.Variable 'UnreadVariable' shape=(2, 3) dtype=float32, numpy=\n",
              "array([[ 2.,  4.,  6.],\n",
              "       [ 8., 10., 12.]], dtype=float32)>"
            ]
          },
          "metadata": {},
          "execution_count": 18
        }
      ]
    },
    {
      "cell_type": "code",
      "source": [
        "v[0, 1].assign(42)"
      ],
      "metadata": {
        "colab": {
          "base_uri": "https://localhost:8080/"
        },
        "id": "3W9DGeq0QcE5",
        "outputId": "3c89e30c-3596-41e6-8f87-2e2b232918d2"
      },
      "execution_count": null,
      "outputs": [
        {
          "output_type": "execute_result",
          "data": {
            "text/plain": [
              "<tf.Variable 'UnreadVariable' shape=(2, 3) dtype=float32, numpy=\n",
              "array([[ 2., 42.,  6.],\n",
              "       [ 8., 10., 12.]], dtype=float32)>"
            ]
          },
          "metadata": {},
          "execution_count": 19
        }
      ]
    },
    {
      "cell_type": "code",
      "source": [
        "v[:, 2].assign([0., 1.])"
      ],
      "metadata": {
        "colab": {
          "base_uri": "https://localhost:8080/"
        },
        "id": "V-WP0mesQhhZ",
        "outputId": "a4420b2a-9c53-4905-8e73-6904ef57e6bf"
      },
      "execution_count": null,
      "outputs": [
        {
          "output_type": "execute_result",
          "data": {
            "text/plain": [
              "<tf.Variable 'UnreadVariable' shape=(2, 3) dtype=float32, numpy=\n",
              "array([[ 2., 42.,  0.],\n",
              "       [ 8., 10.,  1.]], dtype=float32)>"
            ]
          },
          "metadata": {},
          "execution_count": 20
        }
      ]
    },
    {
      "cell_type": "code",
      "source": [
        "v.scatter_nd_update(indices=[[0, 0],[1, 1]], updates=[6., 9.])"
      ],
      "metadata": {
        "colab": {
          "base_uri": "https://localhost:8080/"
        },
        "id": "772ddO6IQvEl",
        "outputId": "84b71648-cc9b-43d1-8896-7127e333e808"
      },
      "execution_count": null,
      "outputs": [
        {
          "output_type": "execute_result",
          "data": {
            "text/plain": [
              "<tf.Variable 'UnreadVariable' shape=(2, 3) dtype=float32, numpy=\n",
              "array([[ 6., 42.,  0.],\n",
              "       [ 8.,  9.,  1.]], dtype=float32)>"
            ]
          },
          "metadata": {},
          "execution_count": 21
        }
      ]
    },
    {
      "cell_type": "code",
      "source": [
        "tf.constant(b\"hello world\")"
      ],
      "metadata": {
        "colab": {
          "base_uri": "https://localhost:8080/"
        },
        "id": "v9z5aPEWQdLb",
        "outputId": "aa7ce708-9853-4676-f5ec-3ae33fa01a63"
      },
      "execution_count": null,
      "outputs": [
        {
          "output_type": "execute_result",
          "data": {
            "text/plain": [
              "<tf.Tensor: shape=(), dtype=string, numpy=b'hello world'>"
            ]
          },
          "metadata": {},
          "execution_count": 22
        }
      ]
    },
    {
      "cell_type": "code",
      "source": [
        "u = tf.constant([ord(c) for c in \"café\"])"
      ],
      "metadata": {
        "id": "bb3Bx5YsReVQ"
      },
      "execution_count": null,
      "outputs": []
    },
    {
      "cell_type": "code",
      "source": [
        "b = tf.strings.unicode_encode(u, \"UTF-8\")\n",
        "tf.strings.length(b, unit=\"UTF8_CHAR\")"
      ],
      "metadata": {
        "colab": {
          "base_uri": "https://localhost:8080/"
        },
        "id": "wURnW932RjPi",
        "outputId": "440a0108-4679-4c1f-d1b6-00e7635bed34"
      },
      "execution_count": null,
      "outputs": [
        {
          "output_type": "execute_result",
          "data": {
            "text/plain": [
              "<tf.Tensor: shape=(), dtype=int32, numpy=4>"
            ]
          },
          "metadata": {},
          "execution_count": 24
        }
      ]
    },
    {
      "cell_type": "code",
      "source": [
        "tf.strings.unicode_decode(b, \"UTF-8\")"
      ],
      "metadata": {
        "colab": {
          "base_uri": "https://localhost:8080/"
        },
        "id": "BLzD6vWBSMcD",
        "outputId": "889a034a-3c16-44f0-8ca2-162db6058f83"
      },
      "execution_count": null,
      "outputs": [
        {
          "output_type": "execute_result",
          "data": {
            "text/plain": [
              "<tf.Tensor: shape=(4,), dtype=int32, numpy=array([ 99,  97, 102, 233], dtype=int32)>"
            ]
          },
          "metadata": {},
          "execution_count": 25
        }
      ]
    },
    {
      "cell_type": "code",
      "source": [
        "array = tf.TensorArray(dtype=tf.float32, size=3)\n",
        "array = array.write(0, tf.constant([1., 2.]))\n",
        "array = array.write(1, tf.constant([3., 10.]))\n",
        "array = array.write(2, tf.constant([5., 7.]))"
      ],
      "metadata": {
        "id": "OG2P-DhbSsoN"
      },
      "execution_count": null,
      "outputs": []
    },
    {
      "cell_type": "code",
      "source": [
        "array.read(1)"
      ],
      "metadata": {
        "colab": {
          "base_uri": "https://localhost:8080/"
        },
        "id": "DZaVIOADPo9B",
        "outputId": "3ae31ec6-f829-45f6-da24-7b22256b5ede"
      },
      "execution_count": null,
      "outputs": [
        {
          "output_type": "execute_result",
          "data": {
            "text/plain": [
              "<tf.Tensor: shape=(2,), dtype=float32, numpy=array([ 3., 10.], dtype=float32)>"
            ]
          },
          "metadata": {},
          "execution_count": 27
        }
      ]
    },
    {
      "cell_type": "code",
      "source": [
        "array.stack()"
      ],
      "metadata": {
        "colab": {
          "base_uri": "https://localhost:8080/"
        },
        "id": "7QO3A7O2W2_X",
        "outputId": "86c34508-cc5e-4938-e0da-51431c0623ee"
      },
      "execution_count": null,
      "outputs": [
        {
          "output_type": "execute_result",
          "data": {
            "text/plain": [
              "<tf.Tensor: shape=(3, 2), dtype=float32, numpy=\n",
              "array([[1., 2.],\n",
              "       [0., 0.],\n",
              "       [5., 7.]], dtype=float32)>"
            ]
          },
          "metadata": {},
          "execution_count": 28
        }
      ]
    },
    {
      "cell_type": "code",
      "source": [
        "mean, variance = tf.nn.moments(array.stack(), axes=0)"
      ],
      "metadata": {
        "id": "xMjPZoMYXAlj"
      },
      "execution_count": null,
      "outputs": []
    },
    {
      "cell_type": "code",
      "source": [
        "mean"
      ],
      "metadata": {
        "colab": {
          "base_uri": "https://localhost:8080/"
        },
        "id": "kKwiXGGGXIaI",
        "outputId": "a2e243c9-226f-4aa8-93f7-99402726804c"
      },
      "execution_count": null,
      "outputs": [
        {
          "output_type": "execute_result",
          "data": {
            "text/plain": [
              "<tf.Tensor: shape=(2,), dtype=float32, numpy=array([2., 3.], dtype=float32)>"
            ]
          },
          "metadata": {},
          "execution_count": 30
        }
      ]
    },
    {
      "cell_type": "code",
      "source": [
        "variance"
      ],
      "metadata": {
        "colab": {
          "base_uri": "https://localhost:8080/"
        },
        "id": "01KikdgaXKSv",
        "outputId": "818feec6-b98f-4334-f73c-84498d3ab38b"
      },
      "execution_count": null,
      "outputs": [
        {
          "output_type": "execute_result",
          "data": {
            "text/plain": [
              "<tf.Tensor: shape=(2,), dtype=float32, numpy=array([4.6666665, 8.666667 ], dtype=float32)>"
            ]
          },
          "metadata": {},
          "execution_count": 31
        }
      ]
    },
    {
      "cell_type": "code",
      "source": [
        "from sklearn.datasets import fetch_california_housing\n",
        "from sklearn.model_selection import train_test_split\n",
        "from sklearn.preprocessing import StandardScaler\n",
        "\n",
        "housing = fetch_california_housing()\n",
        "X, y = housing.data, housing.target.reshape(-1, 1)\n",
        "X_train_full, X_test, y_train_full, y_test = train_test_split(X, y, test_size=0.2)\n",
        "X_train, X_valid, y_train, y_valid = train_test_split(X_train_full, y_train_full, test_size=0.2)\n",
        "\n",
        "scaler = StandardScaler()\n",
        "X_train_scaled = scaler.fit_transform(X_train)\n",
        "X_valid_scaled = scaler.transform(X_valid)\n",
        "X_test_scaled = scaler.transform(X_test)"
      ],
      "metadata": {
        "id": "zfrmZ_qaXMYp"
      },
      "execution_count": null,
      "outputs": []
    },
    {
      "cell_type": "code",
      "source": [
        "def huber_fn(y_true, y_pred):\n",
        "  error = tf.abs(y_true - y_pred)\n",
        "  small_error = error < 1\n",
        "  squared_loss = tf.square(error) / 2\n",
        "  linear_loss = error - 0.5\n",
        "  return tf.where(small_error, squared_loss, linear_loss)"
      ],
      "metadata": {
        "id": "rmRqlWNuYYmO"
      },
      "execution_count": null,
      "outputs": []
    },
    {
      "cell_type": "code",
      "source": [
        "model = keras.models.Sequential([\n",
        "                                 keras.layers.Dense(30, activation='selu', kernel_initializer=\"lecun_normal\", input_shape=X_train.shape[1:]),\n",
        "                                 keras.layers.Dense(1)\n",
        "])"
      ],
      "metadata": {
        "id": "Ig2sEQGDZR5S"
      },
      "execution_count": null,
      "outputs": []
    },
    {
      "cell_type": "code",
      "source": [
        "model.summary()"
      ],
      "metadata": {
        "colab": {
          "base_uri": "https://localhost:8080/"
        },
        "id": "b1CY55bSZsJO",
        "outputId": "646fdcfa-a9a9-4eca-90ea-a8621b546691"
      },
      "execution_count": null,
      "outputs": [
        {
          "output_type": "stream",
          "name": "stdout",
          "text": [
            "Model: \"sequential\"\n",
            "_________________________________________________________________\n",
            " Layer (type)                Output Shape              Param #   \n",
            "=================================================================\n",
            " dense (Dense)               (None, 30)                270       \n",
            "                                                                 \n",
            " dense_1 (Dense)             (None, 1)                 31        \n",
            "                                                                 \n",
            "=================================================================\n",
            "Total params: 301\n",
            "Trainable params: 301\n",
            "Non-trainable params: 0\n",
            "_________________________________________________________________\n"
          ]
        }
      ]
    },
    {
      "cell_type": "code",
      "source": [
        "model.compile(loss=huber_fn, optimizer=\"nadam\", metrics=['mae'])\n",
        "history = model.fit(X_train_scaled, y_train, epochs=10, validation_data=(X_valid_scaled, y_valid))"
      ],
      "metadata": {
        "colab": {
          "base_uri": "https://localhost:8080/"
        },
        "id": "OzMu_gK5Y_17",
        "outputId": "edde867b-d217-4305-a3ac-d7daf4d7ad89"
      },
      "execution_count": null,
      "outputs": [
        {
          "output_type": "stream",
          "name": "stdout",
          "text": [
            "Epoch 1/10\n",
            "413/413 [==============================] - 4s 5ms/step - loss: 0.5169 - mae: 0.8641 - val_loss: 0.2163 - val_mae: 0.5190\n",
            "Epoch 2/10\n",
            "413/413 [==============================] - 2s 5ms/step - loss: 0.2099 - mae: 0.5076 - val_loss: 0.1975 - val_mae: 0.4932\n",
            "Epoch 3/10\n",
            "413/413 [==============================] - 2s 6ms/step - loss: 0.1989 - mae: 0.4903 - val_loss: 0.1908 - val_mae: 0.4814\n",
            "Epoch 4/10\n",
            "413/413 [==============================] - 2s 4ms/step - loss: 0.1921 - mae: 0.4795 - val_loss: 0.1873 - val_mae: 0.4757\n",
            "Epoch 5/10\n",
            "413/413 [==============================] - 2s 4ms/step - loss: 0.1882 - mae: 0.4730 - val_loss: 0.1774 - val_mae: 0.4576\n",
            "Epoch 6/10\n",
            "413/413 [==============================] - 2s 4ms/step - loss: 0.1845 - mae: 0.4672 - val_loss: 0.1765 - val_mae: 0.4601\n",
            "Epoch 7/10\n",
            "413/413 [==============================] - 2s 4ms/step - loss: 0.1813 - mae: 0.4627 - val_loss: 0.1746 - val_mae: 0.4541\n",
            "Epoch 8/10\n",
            "413/413 [==============================] - 2s 4ms/step - loss: 0.1794 - mae: 0.4593 - val_loss: 0.1755 - val_mae: 0.4532\n",
            "Epoch 9/10\n",
            "413/413 [==============================] - 2s 4ms/step - loss: 0.1771 - mae: 0.4550 - val_loss: 0.1744 - val_mae: 0.4540\n",
            "Epoch 10/10\n",
            "413/413 [==============================] - 2s 4ms/step - loss: 0.1754 - mae: 0.4521 - val_loss: 0.1713 - val_mae: 0.4491\n"
          ]
        }
      ]
    },
    {
      "cell_type": "code",
      "source": [
        "model.save(\"my_model_with_custom_loss.h5\")"
      ],
      "metadata": {
        "id": "iCMYU7tFXF45"
      },
      "execution_count": null,
      "outputs": []
    },
    {
      "cell_type": "code",
      "source": [
        "model = keras.models.load_model(\"my_model_with_custom_loss.h5\",\n",
        "                                custom_objects={\"huber_fn\": huber_fn})"
      ],
      "metadata": {
        "id": "pDOOsUUxanBd"
      },
      "execution_count": null,
      "outputs": []
    },
    {
      "cell_type": "code",
      "source": [
        "model.fit(X_train_scaled, y_train, epochs=5, validation_data=(X_valid_scaled, y_valid))"
      ],
      "metadata": {
        "colab": {
          "base_uri": "https://localhost:8080/"
        },
        "id": "PKplApI7bGMI",
        "outputId": "74ae6997-d858-4be7-8de9-02d962300cf2"
      },
      "execution_count": null,
      "outputs": [
        {
          "output_type": "stream",
          "name": "stdout",
          "text": [
            "Epoch 1/5\n",
            "413/413 [==============================] - 3s 5ms/step - loss: 0.1736 - mae: 0.4493 - val_loss: 0.1694 - val_mae: 0.4429\n",
            "Epoch 2/5\n",
            "413/413 [==============================] - 2s 4ms/step - loss: 0.1721 - mae: 0.4464 - val_loss: 0.1693 - val_mae: 0.4443\n",
            "Epoch 3/5\n",
            "413/413 [==============================] - 2s 4ms/step - loss: 0.1711 - mae: 0.4443 - val_loss: 0.1658 - val_mae: 0.4388\n",
            "Epoch 4/5\n",
            "413/413 [==============================] - 2s 4ms/step - loss: 0.1695 - mae: 0.4422 - val_loss: 0.1692 - val_mae: 0.4417\n",
            "Epoch 5/5\n",
            "413/413 [==============================] - 1s 3ms/step - loss: 0.1690 - mae: 0.4408 - val_loss: 0.1635 - val_mae: 0.4353\n"
          ]
        },
        {
          "output_type": "execute_result",
          "data": {
            "text/plain": [
              "<keras.callbacks.History at 0x7f1fa423bf10>"
            ]
          },
          "metadata": {},
          "execution_count": 39
        }
      ]
    },
    {
      "cell_type": "code",
      "source": [
        "def create_huber(threshold=1.0):\n",
        "  def huber_fn(y_true, y_pred):\n",
        "    error = tf.abs(y_true - y_pred)\n",
        "    small_error = error < threshold\n",
        "    squared_loss = tf.square(error) / 2\n",
        "    linear_loss = threshold * (error - threshold / 2)\n",
        "    return tf.where(small_error, squared_loss, linear_loss)\n",
        "  return huber_fn"
      ],
      "metadata": {
        "id": "E-0Lo-XfbScO"
      },
      "execution_count": null,
      "outputs": []
    },
    {
      "cell_type": "code",
      "source": [
        "model.compile(loss=create_huber(2.0), optimizer=\"nadam\", metrics=['mae'])\n",
        "history = model.fit(X_train_scaled, y_train, epochs=10, validation_data=(X_valid_scaled, y_valid))"
      ],
      "metadata": {
        "colab": {
          "base_uri": "https://localhost:8080/"
        },
        "id": "cl227-MMcKYz",
        "outputId": "1c3c7aa3-727f-4778-bc31-1dd1ed4fed13"
      },
      "execution_count": null,
      "outputs": [
        {
          "output_type": "stream",
          "name": "stdout",
          "text": [
            "Epoch 1/10\n",
            "413/413 [==============================] - 3s 5ms/step - loss: 0.1878 - mae: 0.4419 - val_loss: 0.1836 - val_mae: 0.4425\n",
            "Epoch 2/10\n",
            "413/413 [==============================] - 2s 4ms/step - loss: 0.1873 - mae: 0.4407 - val_loss: 0.1823 - val_mae: 0.4357\n",
            "Epoch 3/10\n",
            "413/413 [==============================] - 2s 5ms/step - loss: 0.1853 - mae: 0.4388 - val_loss: 0.1821 - val_mae: 0.4393\n",
            "Epoch 4/10\n",
            "413/413 [==============================] - 2s 5ms/step - loss: 0.1839 - mae: 0.4365 - val_loss: 0.1786 - val_mae: 0.4356\n",
            "Epoch 5/10\n",
            "413/413 [==============================] - 2s 5ms/step - loss: 0.1829 - mae: 0.4359 - val_loss: 0.1821 - val_mae: 0.4370\n",
            "Epoch 6/10\n",
            "413/413 [==============================] - 2s 4ms/step - loss: 0.1829 - mae: 0.4354 - val_loss: 0.1777 - val_mae: 0.4303\n",
            "Epoch 7/10\n",
            "413/413 [==============================] - 2s 4ms/step - loss: 0.1813 - mae: 0.4333 - val_loss: 0.1806 - val_mae: 0.4322\n",
            "Epoch 8/10\n",
            "413/413 [==============================] - 2s 4ms/step - loss: 0.1816 - mae: 0.4330 - val_loss: 0.1744 - val_mae: 0.4313\n",
            "Epoch 9/10\n",
            "413/413 [==============================] - 1s 4ms/step - loss: 0.1808 - mae: 0.4312 - val_loss: 0.1799 - val_mae: 0.4316\n",
            "Epoch 10/10\n",
            "413/413 [==============================] - 2s 4ms/step - loss: 0.1795 - mae: 0.4303 - val_loss: 0.1787 - val_mae: 0.4320\n"
          ]
        }
      ]
    },
    {
      "cell_type": "code",
      "source": [
        "model.save(\"my_model_with_custom_loss_and_threshold.h5\")"
      ],
      "metadata": {
        "id": "4o6uA8wkbQnd"
      },
      "execution_count": null,
      "outputs": []
    },
    {
      "cell_type": "code",
      "source": [
        "model = keras.models.load_model(\"my_model_with_custom_loss_and_threshold.h5\",\n",
        "                                custom_objects={\"huber_fn\": create_huber(2.0)})"
      ],
      "metadata": {
        "id": "ZVs1A8mveBt4"
      },
      "execution_count": null,
      "outputs": []
    },
    {
      "cell_type": "code",
      "source": [
        "model.fit(X_train_scaled, y_train, epochs=2, validation_data=(X_valid_scaled, y_valid))"
      ],
      "metadata": {
        "colab": {
          "base_uri": "https://localhost:8080/"
        },
        "id": "0_aZO8q9e6tX",
        "outputId": "aaf50689-2d58-464d-e28f-a9fc842787a8"
      },
      "execution_count": null,
      "outputs": [
        {
          "output_type": "stream",
          "name": "stdout",
          "text": [
            "Epoch 1/2\n",
            "413/413 [==============================] - 1s 2ms/step - loss: 0.1789 - mae: 0.4283 - val_loss: 0.1731 - val_mae: 0.4254\n",
            "Epoch 2/2\n",
            "413/413 [==============================] - 1s 2ms/step - loss: 0.1783 - mae: 0.4281 - val_loss: 0.1891 - val_mae: 0.4343\n"
          ]
        },
        {
          "output_type": "execute_result",
          "data": {
            "text/plain": [
              "<keras.callbacks.History at 0x7f1fa3f772d0>"
            ]
          },
          "metadata": {},
          "execution_count": 44
        }
      ]
    },
    {
      "cell_type": "code",
      "source": [
        "class HuberLoss(keras.losses.Loss):\n",
        "  def __init__(self, threshold=1.0, **kwargs):\n",
        "    super().__init__(**kwargs)\n",
        "    self.threshold = threshold\n",
        "  def call(self, y_true, y_pred):\n",
        "    error = tf.abs(y_true - y_pred)\n",
        "    small_error = error < self.threshold\n",
        "    squared_loss = tf.square(error) / 2\n",
        "    linear_loss = self.threshold * (error - self.threshold / 2)\n",
        "    return tf.where(small_error, squared_loss, linear_loss)\n",
        "  def get_config(self):\n",
        "    base_config = super().get_config()\n",
        "    return {**base_config, \"threshold\": self.threshold}"
      ],
      "metadata": {
        "id": "Kji1TCLQfZR0"
      },
      "execution_count": null,
      "outputs": []
    },
    {
      "cell_type": "code",
      "source": [
        "custom_model = keras.models.Sequential([\n",
        "                                        keras.layers.Dense(30, activation='selu', kernel_initializer='lecun_normal', input_shape=X_train.shape[1:]),\n",
        "                                        keras.layers.Dense(1)\n",
        "])"
      ],
      "metadata": {
        "id": "wx4B1U9vh75D"
      },
      "execution_count": null,
      "outputs": []
    },
    {
      "cell_type": "code",
      "source": [
        "custom_model.compile(loss=HuberLoss(1.5), optimizer=\"nadam\", metrics=['mae'])"
      ],
      "metadata": {
        "id": "Bx3rSOZQjQpI"
      },
      "execution_count": null,
      "outputs": []
    },
    {
      "cell_type": "code",
      "source": [
        "history = custom_model.fit(X_train_scaled, y_train, epochs=10, validation_data=(X_valid_scaled, y_valid))"
      ],
      "metadata": {
        "colab": {
          "base_uri": "https://localhost:8080/"
        },
        "id": "Sk2HYOOIj4Gm",
        "outputId": "e835de5b-7732-451a-8bd1-3a4a91fa8be4"
      },
      "execution_count": null,
      "outputs": [
        {
          "output_type": "stream",
          "name": "stdout",
          "text": [
            "Epoch 1/10\n",
            "413/413 [==============================] - 2s 2ms/step - loss: 0.7031 - mae: 0.9188 - val_loss: 0.3246 - val_mae: 0.5787\n",
            "Epoch 2/10\n",
            "413/413 [==============================] - 1s 2ms/step - loss: 0.2380 - mae: 0.5149 - val_loss: 0.2495 - val_mae: 0.5158\n",
            "Epoch 3/10\n",
            "413/413 [==============================] - 1s 2ms/step - loss: 0.2198 - mae: 0.4947 - val_loss: 0.2111 - val_mae: 0.4834\n",
            "Epoch 4/10\n",
            "413/413 [==============================] - 1s 2ms/step - loss: 0.2114 - mae: 0.4852 - val_loss: 0.2131 - val_mae: 0.4754\n",
            "Epoch 5/10\n",
            "413/413 [==============================] - 1s 2ms/step - loss: 0.2062 - mae: 0.4772 - val_loss: 0.1959 - val_mae: 0.4624\n",
            "Epoch 6/10\n",
            "413/413 [==============================] - 1s 2ms/step - loss: 0.2016 - mae: 0.4716 - val_loss: 0.1990 - val_mae: 0.4632\n",
            "Epoch 7/10\n",
            "413/413 [==============================] - 1s 2ms/step - loss: 0.1987 - mae: 0.4668 - val_loss: 0.1892 - val_mae: 0.4543\n",
            "Epoch 8/10\n",
            "413/413 [==============================] - 1s 2ms/step - loss: 0.1958 - mae: 0.4623 - val_loss: 0.1961 - val_mae: 0.4586\n",
            "Epoch 9/10\n",
            "413/413 [==============================] - 1s 2ms/step - loss: 0.1933 - mae: 0.4579 - val_loss: 0.1860 - val_mae: 0.4459\n",
            "Epoch 10/10\n",
            "413/413 [==============================] - 1s 2ms/step - loss: 0.1902 - mae: 0.4542 - val_loss: 0.1835 - val_mae: 0.4443\n"
          ]
        }
      ]
    },
    {
      "cell_type": "code",
      "source": [
        "custom_model.save(\"my_model_with_custom_loss_class.h5\")"
      ],
      "metadata": {
        "id": "15CCPovnkx7b"
      },
      "execution_count": null,
      "outputs": []
    },
    {
      "cell_type": "code",
      "source": [
        "custom_model = keras.models.load_model(\"my_model_with_custom_loss_class.h5\",\n",
        "                                       custom_objects={\"HuberLoss\": HuberLoss})\n",
        "custom_model.fit(X_train_scaled, y_train, epochs=5, validation_data=(X_valid_scaled, y_valid))"
      ],
      "metadata": {
        "colab": {
          "base_uri": "https://localhost:8080/"
        },
        "id": "ICbyHfP1k9yk",
        "outputId": "025b25c3-dc17-4f3f-aed8-65694d6dda56"
      },
      "execution_count": null,
      "outputs": [
        {
          "output_type": "stream",
          "name": "stdout",
          "text": [
            "Epoch 1/5\n",
            "413/413 [==============================] - 2s 2ms/step - loss: 0.1890 - mae: 0.4526 - val_loss: 0.1806 - val_mae: 0.4390\n",
            "Epoch 2/5\n",
            "413/413 [==============================] - 1s 2ms/step - loss: 0.1860 - mae: 0.4480 - val_loss: 0.1929 - val_mae: 0.4481\n",
            "Epoch 3/5\n",
            "413/413 [==============================] - 1s 2ms/step - loss: 0.1836 - mae: 0.4439 - val_loss: 0.1811 - val_mae: 0.4412\n",
            "Epoch 4/5\n",
            "413/413 [==============================] - 1s 2ms/step - loss: 0.1824 - mae: 0.4426 - val_loss: 0.1948 - val_mae: 0.4530\n",
            "Epoch 5/5\n",
            "413/413 [==============================] - 1s 2ms/step - loss: 0.1811 - mae: 0.4399 - val_loss: 0.1793 - val_mae: 0.4356\n"
          ]
        },
        {
          "output_type": "execute_result",
          "data": {
            "text/plain": [
              "<keras.callbacks.History at 0x7f1fa02b0950>"
            ]
          },
          "metadata": {},
          "execution_count": 50
        }
      ]
    },
    {
      "cell_type": "code",
      "source": [
        "custom_model.loss.threshold"
      ],
      "metadata": {
        "colab": {
          "base_uri": "https://localhost:8080/"
        },
        "id": "jpwgSymIlSC3",
        "outputId": "b1666276-6390-4dbe-a1d1-ee683b9e2f22"
      },
      "execution_count": null,
      "outputs": [
        {
          "output_type": "execute_result",
          "data": {
            "text/plain": [
              "1.5"
            ]
          },
          "metadata": {},
          "execution_count": 51
        }
      ]
    },
    {
      "cell_type": "code",
      "source": [
        "def my_softplus(z):\n",
        "  return tf.math.log(tf.exp(z) + 1)\n",
        "def my_glorot_initializer(shape, dtype=tf.float32):\n",
        "  std = tf.sqrt(2/(shape[0] + shape[1]))\n",
        "  return tf.random.normal(shape, stddev=std, dtype=dtype)\n",
        "def my_l1_regularizer(weights):\n",
        "  return 0.01 * tf.reduce_sum(tf.abs(weights))\n",
        "def my_positive_weights(weights):\n",
        "  greater_than_zero = weights > 0\n",
        "  return tf.where(greater_than_zero, weights, tf.zeros_like(weights))"
      ],
      "metadata": {
        "id": "lK7OLuZRlftN"
      },
      "execution_count": null,
      "outputs": []
    },
    {
      "cell_type": "code",
      "source": [
        "layer = keras.layers.Dense(1, activation=my_softplus, kernel_initializer=my_glorot_initializer, kernel_regularizer=my_l1_regularizer, kernel_constraint=my_positive_weights)"
      ],
      "metadata": {
        "id": "C4x9SZ7hKso6"
      },
      "execution_count": null,
      "outputs": []
    },
    {
      "cell_type": "code",
      "source": [
        "very_custom_model = keras.models.Sequential([\n",
        "                                             keras.layers.Dense(30, activation='selu', kernel_initializer='lecun_normal', input_shape=X_train.shape[1:]),\n",
        "                                             layer \n",
        "])"
      ],
      "metadata": {
        "id": "jQSZ9be0LHS6"
      },
      "execution_count": null,
      "outputs": []
    },
    {
      "cell_type": "code",
      "source": [
        "# np.random.seed(42)\n",
        "# tf.random.set_seed(42)\n",
        "very_custom_model.compile(loss='mse', optimizer='nadam', metrics=['mae'])\n",
        "very_custom_model.fit(X_train_scaled, y_train, epochs=5, validation_data=(X_valid_scaled, y_valid))"
      ],
      "metadata": {
        "colab": {
          "base_uri": "https://localhost:8080/"
        },
        "id": "I8Fhkk2DL1ho",
        "outputId": "7c7812c6-7c28-4480-8308-d385ef513b53"
      },
      "execution_count": null,
      "outputs": [
        {
          "output_type": "stream",
          "name": "stdout",
          "text": [
            "Epoch 1/5\n",
            "413/413 [==============================] - 2s 3ms/step - loss: 1.5189 - mae: 0.8728 - val_loss: inf - val_mae: inf\n",
            "Epoch 2/5\n",
            "413/413 [==============================] - 1s 2ms/step - loss: 0.6169 - mae: 0.5236 - val_loss: inf - val_mae: inf\n",
            "Epoch 3/5\n",
            "413/413 [==============================] - 1s 2ms/step - loss: 0.5328 - mae: 0.4911 - val_loss: inf - val_mae: inf\n",
            "Epoch 4/5\n",
            "413/413 [==============================] - 1s 2ms/step - loss: 0.4977 - mae: 0.4793 - val_loss: 2.3700 - val_mae: 0.4974\n",
            "Epoch 5/5\n",
            "413/413 [==============================] - 1s 2ms/step - loss: 0.4853 - mae: 0.4763 - val_loss: 1.9556 - val_mae: 0.4901\n"
          ]
        },
        {
          "output_type": "execute_result",
          "data": {
            "text/plain": [
              "<keras.callbacks.History at 0x7f1fa42cd9d0>"
            ]
          },
          "metadata": {},
          "execution_count": 55
        }
      ]
    },
    {
      "cell_type": "code",
      "source": [
        "very_custom_model.save(\"my_very_custom_model.h5\")"
      ],
      "metadata": {
        "id": "vy8DKtRzfUEk"
      },
      "execution_count": null,
      "outputs": []
    },
    {
      "cell_type": "code",
      "source": [
        "very_custom_model = keras.models.load_model(\"my_very_custom_model.h5\",\n",
        "                                            custom_objects={\n",
        "                                                \"my_softplus\": my_softplus,\n",
        "                                                \"my_l1_regularizer\": my_l1_regularizer,\n",
        "                                                \"my_glorot_initializer\": my_glorot_initializer,\n",
        "                                                \"my_positive_weights\": my_positive_weights\n",
        "                                            })"
      ],
      "metadata": {
        "id": "-c7PqnBWfayv"
      },
      "execution_count": null,
      "outputs": []
    },
    {
      "cell_type": "code",
      "source": [
        "class MyL1Regularizer(keras.regularizers.Regularizer):\n",
        "  def __init__(self, factor):\n",
        "    self.factor = factor\n",
        "  def __call__(self, weights):\n",
        "    return self.factor * tf.reduce_sum(tf.abs(weights))\n",
        "  def get_config(self):\n",
        "    return {\"factor\": self.factor}"
      ],
      "metadata": {
        "id": "UfgL86Q6Mbkm"
      },
      "execution_count": null,
      "outputs": []
    },
    {
      "cell_type": "code",
      "source": [
        "layer_with_custom_class = keras.layers.Dense(1, activation=my_softplus, kernel_initializer=my_glorot_initializer, kernel_regularizer=MyL1Regularizer(0.01))"
      ],
      "metadata": {
        "id": "iny-nWoJgF9z"
      },
      "execution_count": null,
      "outputs": []
    },
    {
      "cell_type": "code",
      "source": [
        "precision = keras.metrics.Precision()\n",
        "precision([0, 1, 1, 1, 0, 1, 0, 1], [1, 1, 0, 1, 0, 1, 0, 1])"
      ],
      "metadata": {
        "colab": {
          "base_uri": "https://localhost:8080/"
        },
        "id": "mDyjo7UWgg1A",
        "outputId": "dcf3a8bc-1ce9-46ce-a8dc-a7fdbe1dc192"
      },
      "execution_count": null,
      "outputs": [
        {
          "output_type": "execute_result",
          "data": {
            "text/plain": [
              "<tf.Tensor: shape=(), dtype=float32, numpy=0.8>"
            ]
          },
          "metadata": {},
          "execution_count": 60
        }
      ]
    },
    {
      "cell_type": "code",
      "source": [
        "precision([0, 1, 0, 0, 1, 0, 1, 1], [1, 0, 1, 1, 0, 0, 0, 0])"
      ],
      "metadata": {
        "id": "wj-jO00yMXFE",
        "colab": {
          "base_uri": "https://localhost:8080/"
        },
        "outputId": "d8f12d75-ba40-45da-ca64-4998fb7dc257"
      },
      "execution_count": null,
      "outputs": [
        {
          "output_type": "execute_result",
          "data": {
            "text/plain": [
              "<tf.Tensor: shape=(), dtype=float32, numpy=0.5>"
            ]
          },
          "metadata": {},
          "execution_count": 61
        }
      ]
    },
    {
      "cell_type": "code",
      "source": [
        "precision.result()"
      ],
      "metadata": {
        "colab": {
          "base_uri": "https://localhost:8080/"
        },
        "id": "LPe8zypAhGTV",
        "outputId": "5fa2c0d4-cd9f-4d5d-c07e-efbd7829b9c9"
      },
      "execution_count": null,
      "outputs": [
        {
          "output_type": "execute_result",
          "data": {
            "text/plain": [
              "<tf.Tensor: shape=(), dtype=float32, numpy=0.5>"
            ]
          },
          "metadata": {},
          "execution_count": 62
        }
      ]
    },
    {
      "cell_type": "code",
      "source": [
        "precision.variables"
      ],
      "metadata": {
        "colab": {
          "base_uri": "https://localhost:8080/"
        },
        "id": "uK2k3aVBhRsd",
        "outputId": "afebaf53-25f8-47f2-9bf4-b4764a83798a"
      },
      "execution_count": null,
      "outputs": [
        {
          "output_type": "execute_result",
          "data": {
            "text/plain": [
              "[<tf.Variable 'true_positives:0' shape=(1,) dtype=float32, numpy=array([4.], dtype=float32)>,\n",
              " <tf.Variable 'false_positives:0' shape=(1,) dtype=float32, numpy=array([4.], dtype=float32)>]"
            ]
          },
          "metadata": {},
          "execution_count": 63
        }
      ]
    },
    {
      "cell_type": "code",
      "source": [
        "precision.reset_states()"
      ],
      "metadata": {
        "id": "pke_8fHyhVpI"
      },
      "execution_count": null,
      "outputs": []
    },
    {
      "cell_type": "code",
      "source": [
        "class HuberMetric(keras.metrics.Metric):\n",
        "  def __init__(self, threshold=1.0, **kwargs):\n",
        "    super().__init__(**kwargs)\n",
        "    self.threshold = threshold\n",
        "    self.huber_fn = create_huber(2.0)\n",
        "    self.total = self.add_weight(\"total\", initializer=\"zeros\")\n",
        "    self.count = self.add_weight(\"count\", initializer=\"zeros\")\n",
        "  def update_state(self, y_true, y_pred, sample_weight=None):\n",
        "    metric = self.huber_fn(y_true, y_pred)\n",
        "    self.total.assign_add(tf.reduce_sum(metric))\n",
        "    self.count.assign_add(tf.cast(tf.size(y_true), tf.float32))\n",
        "  def result(self):\n",
        "    return self.total / self.count\n",
        "  def get_config(self):\n",
        "    base_config = super().get_config()\n",
        "    return {**base_config, \"threshold\": self.threshold}"
      ],
      "metadata": {
        "id": "BxE3RcGohlu1"
      },
      "execution_count": null,
      "outputs": []
    },
    {
      "cell_type": "code",
      "source": [
        "metric = HuberMetric(2.)\n",
        "metric(tf.constant([[2.]]), tf.constant([[10.]]))"
      ],
      "metadata": {
        "colab": {
          "base_uri": "https://localhost:8080/"
        },
        "id": "0iq0fODyxyXV",
        "outputId": "ca8849df-cb3d-42c8-83d1-bed65269ec69"
      },
      "execution_count": null,
      "outputs": [
        {
          "output_type": "execute_result",
          "data": {
            "text/plain": [
              "<tf.Tensor: shape=(), dtype=float32, numpy=14.0>"
            ]
          },
          "metadata": {},
          "execution_count": 66
        }
      ]
    },
    {
      "cell_type": "code",
      "source": [
        "metric(tf.constant([[0.], [5.]]), tf.constant([[1.], [9.25]]))\n",
        "\n",
        "metric.result()"
      ],
      "metadata": {
        "colab": {
          "base_uri": "https://localhost:8080/"
        },
        "id": "OtJtyn2ByBJG",
        "outputId": "442fe5f2-880f-4652-fde1-cdd1474f68a2"
      },
      "execution_count": null,
      "outputs": [
        {
          "output_type": "execute_result",
          "data": {
            "text/plain": [
              "<tf.Tensor: shape=(), dtype=float32, numpy=7.0>"
            ]
          },
          "metadata": {},
          "execution_count": 67
        }
      ]
    },
    {
      "cell_type": "code",
      "source": [
        "class HuberMetric(keras.metrics.Mean):\n",
        "  def __init__(self, threshold=1.0, name=\"HuberMetric\", dtype=None):\n",
        "    super().__init__(name=name, dtype=dtype)\n",
        "    self.threshold = threshold\n",
        "    self.huber_fn = create_huber(threshold)\n",
        "  def update_state(self, y_true, y_pred, sample_weight=None):\n",
        "    metric = self.huber_fn(y_true, y_pred)\n",
        "    super(HuberMetric, self).update_state()\n",
        "  def get_config(self):\n",
        "    base_config = super().get_config()\n",
        "    return {**base_config, \"threshold\": threshold}"
      ],
      "metadata": {
        "id": "QFh9QOF20jPm"
      },
      "execution_count": null,
      "outputs": []
    },
    {
      "cell_type": "code",
      "source": [
        "exponential_layer = keras.layers.Lambda(lambda x: tf.exp(x))"
      ],
      "metadata": {
        "id": "BAzSXOgumT5c"
      },
      "execution_count": null,
      "outputs": []
    },
    {
      "cell_type": "code",
      "source": [
        "exponential_layer(tf.constant([-1., 0., 1.]))"
      ],
      "metadata": {
        "colab": {
          "base_uri": "https://localhost:8080/"
        },
        "id": "h7lopLFLnyV4",
        "outputId": "32af1a5d-0d74-4a86-da1f-83e90b11d5dd"
      },
      "execution_count": null,
      "outputs": [
        {
          "output_type": "execute_result",
          "data": {
            "text/plain": [
              "<tf.Tensor: shape=(3,), dtype=float32, numpy=array([0.36787945, 1.        , 2.7182817 ], dtype=float32)>"
            ]
          },
          "metadata": {},
          "execution_count": 70
        }
      ]
    },
    {
      "cell_type": "code",
      "source": [
        "class MyDense(keras.layers.Layer):\n",
        "  def __init__(self, units, activation=None, **kwargs):\n",
        "    super().__init__(**kwargs)\n",
        "    self.units = units\n",
        "    self.activation = keras.activations.get(activation)\n",
        "  def build(self, batch_input_shape):\n",
        "    self.kernel = self.add_weight(name=\"kernel\", shape=[batch_input_shape[-1], self.units], initializer='glorot_normal')\n",
        "    self.bias = self.add_weight(name=\"bias\", shape=[self.units], initializer=\"zeros\")\n",
        "    super().build(batch_input_shape)\n",
        "  def call(self, X):\n",
        "    return self.activation(X @ self.kernel + self.bias)\n",
        "  def compute_output_shape(self, batch_input_shape):\n",
        "    return tf.Tensorshape(batch_input_shape.as_list()[:-1] + [self.inputs])\n",
        "  def get_config(self):\n",
        "    base_config = super().get_config()\n",
        "    return {**base_config, \"units\": self.units, \"activation\": keras.activations.serialize(self.activation)}"
      ],
      "metadata": {
        "id": "_pLl8vDS2JQa"
      },
      "execution_count": null,
      "outputs": []
    },
    {
      "cell_type": "code",
      "source": [
        "class ResidualBlock(keras.layers.Layer):\n",
        "  def __init__(self, n_layers, n_neurons, ** kwargs):\n",
        "    super().__init__(**kwargs)\n",
        "    self.hidden = [keras.layers.Dense(n_neurons, activation='elu', kernel_initializer='he_normal') for _ in range(n_layers)]\n",
        "  def call(self, inputs):\n",
        "    Z = inputs\n",
        "    for layer in self.hidden:\n",
        "      Z = layer(Z)\n",
        "    return Z + inputs"
      ],
      "metadata": {
        "id": "w0NLVW80hiol"
      },
      "execution_count": null,
      "outputs": []
    },
    {
      "cell_type": "code",
      "source": [
        "class ResidualRegressor(keras.models.Model):\n",
        "  def __init__(self, output_dim, **kwargs):\n",
        "    super().__init__(**kwargs)\n",
        "    self.hidden1 = keras.layers.Dense(30, activation='elu', kernel_initializer='he_normal')\n",
        "    self.block1 = ResidualBlock(2, 30)\n",
        "    self.block2 = ResidualBlock(2, 30)\n",
        "    self.out = keras.layers.Dense(output_dim)\n",
        "  def call(self, inputs):\n",
        "    Z = self.hidden1(inputs)\n",
        "    for _ in range(1+3):\n",
        "      Z = self.block1(Z)\n",
        "    Z = self.block2(Z)\n",
        "    return self.out(Z)"
      ],
      "metadata": {
        "id": "LiHJVap7_qF6"
      },
      "execution_count": null,
      "outputs": []
    },
    {
      "cell_type": "code",
      "source": [
        "model = ResidualRegressor(1)\n",
        "model.compile(loss=\"mse\", optimizer=\"nadam\")\n",
        "history = model.fit(X_train_scaled, y_train, epochs=5, validation_data=(X_valid_scaled, y_valid))\n",
        "score = model.evaluate(X_test_scaled, y_test)"
      ],
      "metadata": {
        "colab": {
          "base_uri": "https://localhost:8080/"
        },
        "id": "l8FWfM6aBEDF",
        "outputId": "9eb78e2c-81c6-4740-d941-98320fb4633a"
      },
      "execution_count": null,
      "outputs": [
        {
          "output_type": "stream",
          "name": "stdout",
          "text": [
            "Epoch 1/5\n",
            "413/413 [==============================] - 3s 3ms/step - loss: 5.6647 - val_loss: 1.0497\n",
            "Epoch 2/5\n",
            "413/413 [==============================] - 1s 3ms/step - loss: 1.7639 - val_loss: 42.3638\n",
            "Epoch 3/5\n",
            "413/413 [==============================] - 1s 3ms/step - loss: 0.7850 - val_loss: 1.9676\n",
            "Epoch 4/5\n",
            "413/413 [==============================] - 1s 3ms/step - loss: 0.6631 - val_loss: 1.5164\n",
            "Epoch 5/5\n",
            "413/413 [==============================] - 1s 3ms/step - loss: 0.6495 - val_loss: 4.3800\n",
            "129/129 [==============================] - 0s 2ms/step - loss: 20.9993\n"
          ]
        }
      ]
    },
    {
      "cell_type": "code",
      "source": [
        "class Reconstructingregressor(keras.models.Model):\n",
        "  def __init__(self, output_dim, **kwargs):\n",
        "    super().__init__(**kwargs)\n",
        "    self.hidden = [keras.layers.Dense(30, activation=\"selu\", kernel_initializer=\"lecun_normal\") for _ in range(5)]\n",
        "    self.out = keras.layers.Dense(output_dim)\n",
        "    self.reconstruction_mean = keras.metrics.Mean(name=\"reconstruction_error\")\n",
        "  def build(self, batch_input_shape):\n",
        "    n_inputs = batch_input_shape[-1]\n",
        "    self.reconstruct = keras.layers.Dense(n_inputs)\n",
        "    # super().build(batch_input_shape)\n",
        "  def call(self, inputs, training=None):\n",
        "    Z = inputs\n",
        "    for layer in self.hidden:\n",
        "      Z = layer(Z)\n",
        "    reconstruction = self.reconstruct(Z)\n",
        "    reconstruction_loss = tf.reduce_mean(tf.square(reconstruction - inputs))\n",
        "    self.add_loss(0.05 * reconstruction_loss)\n",
        "    if training:\n",
        "      result = self.reconstruction_mean(reconstruction_loss)\n",
        "      self.add_metric(result)\n",
        "    return self.out(Z)\n"
      ],
      "metadata": {
        "id": "e0pyQBvIBvJA"
      },
      "execution_count": null,
      "outputs": []
    },
    {
      "cell_type": "code",
      "source": [
        "my_custom_model = Reconstructingregressor(1)\n",
        "my_custom_model.compile(loss=\"mse\", optimizer=\"nadam\")\n",
        "my_custom_model.fit(X_train_scaled, y_train, epochs=10)"
      ],
      "metadata": {
        "colab": {
          "base_uri": "https://localhost:8080/"
        },
        "id": "qa_GwCITKe3l",
        "outputId": "39217f5b-dbd9-4eb0-eeeb-03053b65f6ea"
      },
      "execution_count": null,
      "outputs": [
        {
          "output_type": "stream",
          "name": "stdout",
          "text": [
            "Epoch 1/10\n",
            "413/413 [==============================] - 2s 2ms/step - loss: 0.6216 - reconstruction_error: 0.7297\n",
            "Epoch 2/10\n",
            "413/413 [==============================] - 1s 2ms/step - loss: 0.3994 - reconstruction_error: 0.3466\n",
            "Epoch 3/10\n",
            "413/413 [==============================] - 1s 2ms/step - loss: 0.3643 - reconstruction_error: 0.2682\n",
            "Epoch 4/10\n",
            "413/413 [==============================] - 1s 2ms/step - loss: 0.3545 - reconstruction_error: 0.2352\n",
            "Epoch 5/10\n",
            "413/413 [==============================] - 1s 2ms/step - loss: 0.3376 - reconstruction_error: 0.2101\n",
            "Epoch 6/10\n",
            "413/413 [==============================] - 1s 2ms/step - loss: 0.3263 - reconstruction_error: 0.1869\n",
            "Epoch 7/10\n",
            "413/413 [==============================] - 1s 2ms/step - loss: 0.3177 - reconstruction_error: 0.1602\n",
            "Epoch 8/10\n",
            "413/413 [==============================] - 1s 2ms/step - loss: 0.3130 - reconstruction_error: 0.1453\n",
            "Epoch 9/10\n",
            "413/413 [==============================] - 1s 2ms/step - loss: 0.3164 - reconstruction_error: 0.1427\n",
            "Epoch 10/10\n",
            "413/413 [==============================] - 1s 2ms/step - loss: 0.3073 - reconstruction_error: 0.1335\n"
          ]
        },
        {
          "output_type": "execute_result",
          "data": {
            "text/plain": [
              "<keras.callbacks.History at 0x7f1fa084f6d0>"
            ]
          },
          "metadata": {},
          "execution_count": 76
        }
      ]
    },
    {
      "cell_type": "code",
      "source": [
        "def f(w1, w2):\n",
        "  return 3 * w1 ** 2 + 2 * w1 * w2\n",
        "\n",
        "w1, w2 = tf.Variable(5.), tf.Variable(3.)\n",
        "with tf.GradientTape() as tape:\n",
        "  z = f(w1, w2)\n",
        "gradients = tape.gradient(z, [w1, w2]) "
      ],
      "metadata": {
        "id": "hZFcezNwA7Pj"
      },
      "execution_count": null,
      "outputs": []
    },
    {
      "cell_type": "code",
      "source": [
        "gradients"
      ],
      "metadata": {
        "colab": {
          "base_uri": "https://localhost:8080/"
        },
        "id": "v5jBLOrLhhLT",
        "outputId": "ef2b51af-b22c-4c1d-c3fa-9e3402e5b4c8"
      },
      "execution_count": null,
      "outputs": [
        {
          "output_type": "execute_result",
          "data": {
            "text/plain": [
              "[<tf.Tensor: shape=(), dtype=float32, numpy=36.0>,\n",
              " <tf.Tensor: shape=(), dtype=float32, numpy=10.0>]"
            ]
          },
          "metadata": {},
          "execution_count": 78
        }
      ]
    },
    {
      "cell_type": "code",
      "source": [
        "c1, c2 = tf.constant(5.), tf.constant(3.)\n",
        "with tf.GradientTape() as tape:\n",
        "  tape.watch(c1)\n",
        "  tape.watch(c2)\n",
        "  z = f(c1, c2)\n",
        "gradients = tape.gradient(z, [c1, c2])\n",
        "gradients"
      ],
      "metadata": {
        "colab": {
          "base_uri": "https://localhost:8080/"
        },
        "id": "iLCnXgfWOYDo",
        "outputId": "2485af3f-ca70-4e56-ec7f-2dadfae8f795"
      },
      "execution_count": null,
      "outputs": [
        {
          "output_type": "execute_result",
          "data": {
            "text/plain": [
              "[<tf.Tensor: shape=(), dtype=float32, numpy=36.0>,\n",
              " <tf.Tensor: shape=(), dtype=float32, numpy=10.0>]"
            ]
          },
          "metadata": {},
          "execution_count": 79
        }
      ]
    },
    {
      "cell_type": "code",
      "source": [
        "with tf.GradientTape(persistent=True) as hessian_tape:\n",
        "  with tf.GradientTape() as jacobian_tape:\n",
        "    z = f(w1, w2)\n",
        "  jacobians = jacobian_tape.gradient(z, [w1, w2])\n",
        "hessians = [hessian_tape.gradient(jacobian, [w1, w2]) for jacobian in jacobians]\n",
        "del hessian_tape\n",
        "hessians"
      ],
      "metadata": {
        "colab": {
          "base_uri": "https://localhost:8080/"
        },
        "id": "bTI3wbt0UmrG",
        "outputId": "c485d255-4bed-4341-aba9-4bab77ec15a5"
      },
      "execution_count": null,
      "outputs": [
        {
          "output_type": "execute_result",
          "data": {
            "text/plain": [
              "[[<tf.Tensor: shape=(), dtype=float32, numpy=6.0>,\n",
              "  <tf.Tensor: shape=(), dtype=float32, numpy=2.0>],\n",
              " [<tf.Tensor: shape=(), dtype=float32, numpy=2.0>, None]]"
            ]
          },
          "metadata": {},
          "execution_count": 80
        }
      ]
    },
    {
      "cell_type": "code",
      "source": [
        "def f_(w1, w2):\n",
        "  return 3 * w1 ** 2 + tf.stop_gradient(2 * w1 * w2)\n",
        "\n",
        "with tf.GradientTape() as tape:\n",
        "  z = f_(w1, w2)\n",
        "\n",
        "gradients = tape.gradient(z, [w1, w2])"
      ],
      "metadata": {
        "id": "OcIfgLPHhOs4"
      },
      "execution_count": null,
      "outputs": []
    },
    {
      "cell_type": "code",
      "source": [
        "gradients"
      ],
      "metadata": {
        "colab": {
          "base_uri": "https://localhost:8080/"
        },
        "id": "jY7yXmYYV_1I",
        "outputId": "045404f7-0462-4c37-d825-24042c8ab614"
      },
      "execution_count": null,
      "outputs": [
        {
          "output_type": "execute_result",
          "data": {
            "text/plain": [
              "[<tf.Tensor: shape=(), dtype=float32, numpy=30.0>, None]"
            ]
          },
          "metadata": {},
          "execution_count": 82
        }
      ]
    },
    {
      "cell_type": "code",
      "source": [
        "x = tf.Variable(100.)\n",
        "with tf.GradientTape() as tape:\n",
        "  z = my_softplus(x)\n",
        "gradients = tape.gradient(z, [x])\n",
        "gradients"
      ],
      "metadata": {
        "colab": {
          "base_uri": "https://localhost:8080/"
        },
        "id": "Uh3CJnYtWABC",
        "outputId": "8ba7f168-b0dd-4e80-ad03-df579cf4cc50"
      },
      "execution_count": null,
      "outputs": [
        {
          "output_type": "execute_result",
          "data": {
            "text/plain": [
              "[<tf.Tensor: shape=(), dtype=float32, numpy=nan>]"
            ]
          },
          "metadata": {},
          "execution_count": 83
        }
      ]
    },
    {
      "cell_type": "code",
      "source": [
        "def cube(x):\n",
        "  return x ** 3\n",
        "\n",
        "tf_cube = tf.function(cube)"
      ],
      "metadata": {
        "id": "0Zx0heDMipgx"
      },
      "execution_count": null,
      "outputs": []
    },
    {
      "cell_type": "code",
      "source": [
        "tf_cube(2)"
      ],
      "metadata": {
        "id": "dT_0UJEZnRyS"
      },
      "execution_count": null,
      "outputs": []
    }
  ]
}