{
  "nbformat": 4,
  "nbformat_minor": 0,
  "metadata": {
    "colab": {
      "provenance": [],
      "authorship_tag": "ABX9TyOmcUh5EquL1pFogDslNr+k",
      "include_colab_link": true
    },
    "kernelspec": {
      "name": "python3",
      "display_name": "Python 3"
    },
    "language_info": {
      "name": "python"
    },
    "accelerator": "GPU",
    "gpuClass": "standard"
  },
  "cells": [
    {
      "cell_type": "markdown",
      "metadata": {
        "id": "view-in-github",
        "colab_type": "text"
      },
      "source": [
        "<a href=\"https://colab.research.google.com/github/AnHaiTrinh/handson-ml/blob/main/TrainingDNN.ipynb\" target=\"_parent\"><img src=\"https://colab.research.google.com/assets/colab-badge.svg\" alt=\"Open In Colab\"/></a>"
      ]
    },
    {
      "cell_type": "code",
      "execution_count": null,
      "metadata": {
        "id": "l3zL5DLnslMw"
      },
      "outputs": [],
      "source": [
        "import numpy as np\n",
        "import sklearn\n",
        "\n",
        "%matplotlib inline\n",
        "import matplotlib.pyplot as plt\n",
        "from tensorflow import keras\n",
        "import tensorflow as tf"
      ]
    },
    {
      "cell_type": "code",
      "source": [
        "from keras.datasets import mnist\n",
        "from sklearn.model_selection import train_test_split\n",
        "(X_train_full, y_train_full), (X_test, y_test) = mnist.load_data()\n",
        "X_train_full = X_train_full / 255\n",
        "X_test = X_test / 255\n",
        "X_subset_train_full = X_train_full[y_train_full < 5]\n",
        "y_subset_train_full = y_train_full[y_train_full < 5] \n",
        "X_subset_test = X_test[y_test < 5]\n",
        "y_subset_test = y_test[y_test < 5]\n",
        "X_subset_train, X_subset_valid, y_subset_train, y_subset_valid = train_test_split(X_subset_train_full, y_subset_train_full, test_size=0.2)"
      ],
      "metadata": {
        "id": "45Z4RZdzuo4l",
        "colab": {
          "base_uri": "https://localhost:8080/"
        },
        "outputId": "c6eb35fa-3122-4eab-e14b-dc45e0a427ee"
      },
      "execution_count": null,
      "outputs": [
        {
          "output_type": "stream",
          "name": "stdout",
          "text": [
            "Downloading data from https://storage.googleapis.com/tensorflow/tf-keras-datasets/mnist.npz\n",
            "11490434/11490434 [==============================] - 1s 0us/step\n"
          ]
        }
      ]
    },
    {
      "cell_type": "code",
      "source": [
        "model = keras.models.Sequential([\n",
        "                                keras.layers.Flatten(input_shape=[28, 28]),\n",
        "                                keras.layers.Dense(100, activation=\"elu\", kernel_initializer=\"he_normal\"),\n",
        "                                keras.layers.Dense(100, activation=\"elu\", kernel_initializer=\"he_normal\"),\n",
        "                                keras.layers.Dense(100, activation=\"elu\", kernel_initializer=\"he_normal\"),\n",
        "                                keras.layers.Dense(100, activation=\"elu\", kernel_initializer=\"he_normal\"),\n",
        "                                keras.layers.Dense(100, activation=\"elu\", kernel_initializer=\"he_normal\"),\n",
        "                                keras.layers.Dense(5, activation=\"softmax\")\n",
        "])"
      ],
      "metadata": {
        "id": "qPqEjEZPtXPe"
      },
      "execution_count": null,
      "outputs": []
    },
    {
      "cell_type": "code",
      "source": [
        "model.summary()"
      ],
      "metadata": {
        "colab": {
          "base_uri": "https://localhost:8080/"
        },
        "id": "pUbIMOpPujzs",
        "outputId": "ce917bc5-aad4-4420-a192-f262e74d262e"
      },
      "execution_count": null,
      "outputs": [
        {
          "output_type": "stream",
          "name": "stdout",
          "text": [
            "Model: \"sequential\"\n",
            "_________________________________________________________________\n",
            " Layer (type)                Output Shape              Param #   \n",
            "=================================================================\n",
            " flatten (Flatten)           (None, 784)               0         \n",
            "                                                                 \n",
            " dense (Dense)               (None, 100)               78500     \n",
            "                                                                 \n",
            " dense_1 (Dense)             (None, 100)               10100     \n",
            "                                                                 \n",
            " dense_2 (Dense)             (None, 100)               10100     \n",
            "                                                                 \n",
            " dense_3 (Dense)             (None, 100)               10100     \n",
            "                                                                 \n",
            " dense_4 (Dense)             (None, 100)               10100     \n",
            "                                                                 \n",
            " dense_5 (Dense)             (None, 5)                 505       \n",
            "                                                                 \n",
            "=================================================================\n",
            "Total params: 119,405\n",
            "Trainable params: 119,405\n",
            "Non-trainable params: 0\n",
            "_________________________________________________________________\n"
          ]
        }
      ]
    },
    {
      "cell_type": "code",
      "source": [
        "model.compile(loss=\"sparse_categorical_crossentropy\", optimizer=\"adam\", metrics=[\"accuracy\"])"
      ],
      "metadata": {
        "id": "crE3VnuyST1N"
      },
      "execution_count": null,
      "outputs": []
    },
    {
      "cell_type": "code",
      "source": [
        "early_stopping_cb = keras.callbacks.EarlyStopping(patience=10)\n",
        "model_checkpoint_cb = keras.callbacks.ModelCheckpoint(\"my_mnist_model.h5\", save_best_only=True)\n",
        "history = model.fit(X_subset_train, y_subset_train, epochs=50, validation_data=(X_subset_valid, y_subset_valid), callbacks=[early_stopping_cb, model_checkpoint_cb])"
      ],
      "metadata": {
        "colab": {
          "base_uri": "https://localhost:8080/"
        },
        "id": "d25cLTeLTyf1",
        "outputId": "0c2107c2-413b-47d7-bfdf-13722d81753d"
      },
      "execution_count": null,
      "outputs": [
        {
          "output_type": "stream",
          "name": "stdout",
          "text": [
            "Epoch 1/50\n",
            "765/765 [==============================] - 5s 6ms/step - loss: 0.0108 - accuracy: 0.9969 - val_loss: 0.0657 - val_accuracy: 0.9886\n",
            "Epoch 2/50\n",
            "765/765 [==============================] - 3s 4ms/step - loss: 0.0097 - accuracy: 0.9973 - val_loss: 0.0574 - val_accuracy: 0.9889\n",
            "Epoch 3/50\n",
            "765/765 [==============================] - 3s 4ms/step - loss: 0.0125 - accuracy: 0.9961 - val_loss: 0.0671 - val_accuracy: 0.9881\n",
            "Epoch 4/50\n",
            "765/765 [==============================] - 3s 4ms/step - loss: 0.0097 - accuracy: 0.9977 - val_loss: 0.0730 - val_accuracy: 0.9833\n",
            "Epoch 5/50\n",
            "765/765 [==============================] - 3s 4ms/step - loss: 0.0091 - accuracy: 0.9975 - val_loss: 0.0627 - val_accuracy: 0.9891\n",
            "Epoch 6/50\n",
            "765/765 [==============================] - 3s 4ms/step - loss: 0.0100 - accuracy: 0.9970 - val_loss: 0.0513 - val_accuracy: 0.9882\n",
            "Epoch 7/50\n",
            "765/765 [==============================] - 3s 4ms/step - loss: 0.0092 - accuracy: 0.9971 - val_loss: 0.0664 - val_accuracy: 0.9863\n",
            "Epoch 8/50\n",
            "765/765 [==============================] - 3s 4ms/step - loss: 0.0060 - accuracy: 0.9983 - val_loss: 0.0593 - val_accuracy: 0.9895\n",
            "Epoch 9/50\n",
            "765/765 [==============================] - 3s 4ms/step - loss: 0.0041 - accuracy: 0.9989 - val_loss: 0.0788 - val_accuracy: 0.9881\n",
            "Epoch 10/50\n",
            "765/765 [==============================] - 3s 4ms/step - loss: 0.0131 - accuracy: 0.9968 - val_loss: 0.0543 - val_accuracy: 0.9908\n",
            "Epoch 11/50\n",
            "765/765 [==============================] - 3s 4ms/step - loss: 0.0062 - accuracy: 0.9985 - val_loss: 0.0484 - val_accuracy: 0.9908\n",
            "Epoch 12/50\n",
            "765/765 [==============================] - 3s 4ms/step - loss: 0.0026 - accuracy: 0.9993 - val_loss: 0.0539 - val_accuracy: 0.9912\n",
            "Epoch 13/50\n",
            "765/765 [==============================] - 3s 4ms/step - loss: 0.0023 - accuracy: 0.9992 - val_loss: 0.0675 - val_accuracy: 0.9892\n",
            "Epoch 14/50\n",
            "765/765 [==============================] - 3s 4ms/step - loss: 0.0188 - accuracy: 0.9954 - val_loss: 0.0459 - val_accuracy: 0.9918\n",
            "Epoch 15/50\n",
            "765/765 [==============================] - 3s 4ms/step - loss: 0.0034 - accuracy: 0.9989 - val_loss: 0.0621 - val_accuracy: 0.9899\n",
            "Epoch 16/50\n",
            "765/765 [==============================] - 3s 4ms/step - loss: 0.0126 - accuracy: 0.9972 - val_loss: 0.0690 - val_accuracy: 0.9904\n",
            "Epoch 17/50\n",
            "765/765 [==============================] - 3s 4ms/step - loss: 0.0057 - accuracy: 0.9985 - val_loss: 0.0581 - val_accuracy: 0.9904\n",
            "Epoch 18/50\n",
            "765/765 [==============================] - 3s 4ms/step - loss: 0.0034 - accuracy: 0.9989 - val_loss: 0.0604 - val_accuracy: 0.9899\n",
            "Epoch 19/50\n",
            "765/765 [==============================] - 3s 4ms/step - loss: 0.0038 - accuracy: 0.9989 - val_loss: 0.0856 - val_accuracy: 0.9891\n",
            "Epoch 20/50\n",
            "765/765 [==============================] - 3s 4ms/step - loss: 0.0078 - accuracy: 0.9985 - val_loss: 0.0689 - val_accuracy: 0.9910\n",
            "Epoch 21/50\n",
            "765/765 [==============================] - 3s 4ms/step - loss: 0.0035 - accuracy: 0.9994 - val_loss: 0.0984 - val_accuracy: 0.9873\n",
            "Epoch 22/50\n",
            "765/765 [==============================] - 3s 4ms/step - loss: 0.0057 - accuracy: 0.9986 - val_loss: 0.0740 - val_accuracy: 0.9892\n",
            "Epoch 23/50\n",
            "765/765 [==============================] - 4s 5ms/step - loss: 0.0060 - accuracy: 0.9985 - val_loss: 0.0957 - val_accuracy: 0.9902\n",
            "Epoch 24/50\n",
            "765/765 [==============================] - 3s 4ms/step - loss: 0.0083 - accuracy: 0.9982 - val_loss: 0.0666 - val_accuracy: 0.9905\n"
          ]
        }
      ]
    },
    {
      "cell_type": "code",
      "source": [
        "import pandas as pd\n",
        "pd.DataFrame(history.history).plot(figsize=(8, 6))"
      ],
      "metadata": {
        "id": "BozZvgffUjP2"
      },
      "execution_count": null,
      "outputs": []
    },
    {
      "cell_type": "code",
      "source": [
        "model = keras.models.load_model(\"my_mnist_model.h5\")\n",
        "model.evaluate(X_subset_test, y_subset_test)"
      ],
      "metadata": {
        "id": "j1xN2jq5Vxky"
      },
      "execution_count": null,
      "outputs": []
    },
    {
      "cell_type": "code",
      "source": [
        "batch_normalized_model = keras.models.Sequential()\n",
        "batch_normalized_model.add(keras.layers.Flatten(input_shape=[28, 28]))\n",
        "batch_normalized_model.add(keras.layers.BatchNormalization())\n",
        "for _ in range(5):\n",
        "  batch_normalized_model.add(keras.layers.Dense(100, kernel_initializer=\"he_normal\"))\n",
        "  batch_normalized_model.add(keras.layers.BatchNormalization())\n",
        "  batch_normalized_model.add(keras.layers.Activation(\"elu\"))\n",
        "batch_normalized_model.add(keras.layers.Dense(5, activation=\"softmax\"))"
      ],
      "metadata": {
        "id": "_uAaWRRNWaw0"
      },
      "execution_count": null,
      "outputs": []
    },
    {
      "cell_type": "code",
      "source": [
        "batch_normalized_model.summary()"
      ],
      "metadata": {
        "id": "ZnVIP6MzYxdi"
      },
      "execution_count": null,
      "outputs": []
    },
    {
      "cell_type": "code",
      "source": [
        "batch_normalized_model.compile(loss=\"sparse_categorical_crossentropy\", optimizer=\"adam\", metrics=[\"accuracy\"])"
      ],
      "metadata": {
        "id": "Ai_tgod2YayD"
      },
      "execution_count": null,
      "outputs": []
    },
    {
      "cell_type": "code",
      "source": [
        "new_model_checkpoint_cb = keras.callbacks.ModelCheckpoint(\"batch_normalized_model.h5\", save_best_only=True)\n",
        "history = batch_normalized_model.fit(X_subset_train, y_subset_train, epochs=50, \n",
        "                                     validation_data=(X_subset_valid, y_subset_valid), callbacks=[early_stopping_cb, new_model_checkpoint_cb])"
      ],
      "metadata": {
        "id": "941WOCUEYwnu"
      },
      "execution_count": null,
      "outputs": []
    },
    {
      "cell_type": "code",
      "source": [
        "batch_normalized_model = keras.models.load_model(\"batch_normalized_model.h5\")\n",
        "batch_normalized_model.evaluate(X_subset_test, y_subset_test)"
      ],
      "metadata": {
        "id": "TDS3EUmQaO9P"
      },
      "execution_count": null,
      "outputs": []
    },
    {
      "cell_type": "code",
      "source": [
        "dropout_model = keras.models.Sequential()\n",
        "dropout_model = keras.models.Sequential()\n",
        "dropout_model.add(keras.layers.Flatten(input_shape=[28, 28]))\n",
        "dropout_model.add(keras.layers.BatchNormalization())\n",
        "for _ in range(5):\n",
        "  dropout_model.add(keras.layers.Dense(100, kernel_initializer=\"he_normal\"))\n",
        "  dropout_model.add(keras.layers.BatchNormalization())\n",
        "  dropout_model.add(keras.layers.Activation(\"elu\"))\n",
        "  dropout_model.add(keras.layers.Dropout(rate=0.1))\n",
        "dropout_model.add(keras.layers.Dense(5, activation=\"softmax\"))"
      ],
      "metadata": {
        "id": "E2BCdsMqaxrO"
      },
      "execution_count": null,
      "outputs": []
    },
    {
      "cell_type": "code",
      "source": [
        "dropout_model.summary()"
      ],
      "metadata": {
        "id": "k6QJV3qcdIEz"
      },
      "execution_count": null,
      "outputs": []
    },
    {
      "cell_type": "code",
      "source": [
        "dropout_model.compile(loss=\"sparse_categorical_crossentropy\", optimizer=\"adam\", metrics=[\"accuracy\"])"
      ],
      "metadata": {
        "id": "vLtzZrR4dLNk"
      },
      "execution_count": null,
      "outputs": []
    },
    {
      "cell_type": "code",
      "source": [
        "dropout_model_checkpoint_cb = keras.callbacks.ModelCheckpoint(\"dropout_model.h5\", save_best_only=True)\n",
        "history = dropout_model.fit(X_subset_train, y_subset_train, epochs=50, \n",
        "                                     validation_data=(X_subset_valid, y_subset_valid), callbacks=[early_stopping_cb, dropout_model_checkpoint_cb])"
      ],
      "metadata": {
        "id": "_hnZ2MmFdleJ"
      },
      "execution_count": null,
      "outputs": []
    },
    {
      "cell_type": "code",
      "source": [
        "dropout_model = keras.models.load_model(\"dropout_model.h5\")\n",
        "dropout_model.evaluate(X_subset_test, y_subset_test)"
      ],
      "metadata": {
        "id": "c5Xu2XkWd2o0"
      },
      "execution_count": null,
      "outputs": []
    },
    {
      "cell_type": "code",
      "source": [
        "cloned_model = keras.models.clone_model(model)\n",
        "cloned_model.set_weights(model.get_weights())"
      ],
      "metadata": {
        "id": "Q7PCrrYIe11p"
      },
      "execution_count": null,
      "outputs": []
    },
    {
      "cell_type": "code",
      "source": [
        "new_model = keras.models.Sequential(cloned_model.layers[:-1])\n",
        "new_model.add(keras.layers.Dense(5, activation=\"softmax\"))\n",
        "for layer in new_model.layers[:-1]:\n",
        "  layer.trainable = False\n",
        "new_model.compile(loss=\"sparse_categorical_crossentropy\", optimizer=\"adam\", metrics=[\"accuracy\"])"
      ],
      "metadata": {
        "id": "xvQrzixJfvCg"
      },
      "execution_count": null,
      "outputs": []
    },
    {
      "cell_type": "code",
      "source": [
        "new_model.summary()"
      ],
      "metadata": {
        "id": "_TTxdOdOhISO"
      },
      "execution_count": null,
      "outputs": []
    },
    {
      "cell_type": "code",
      "source": [
        "X_subset_train_full = X_train_full[y_train_full >= 5][:625]\n",
        "y_subset_train_full = y_train_full[y_train_full >= 5][:625] - 5\n",
        "X_subset_test = X_test[y_test >= 5]\n",
        "y_subset_test = y_test[y_test >= 5] - 5\n",
        "X_subset_train, X_subset_valid, y_subset_train, y_subset_valid = train_test_split(X_subset_train_full, y_subset_train_full, test_size=0.2)"
      ],
      "metadata": {
        "id": "KAvx40kPhZFj"
      },
      "execution_count": null,
      "outputs": []
    },
    {
      "cell_type": "code",
      "source": [
        "short_early_stopping = keras.callbacks.EarlyStopping(patience=5, restore_best_weights=True)\n",
        "new_model.fit(X_subset_train, y_subset_train, epochs=30, validation_data=(X_subset_valid, y_subset_valid), callbacks=[short_early_stopping])"
      ],
      "metadata": {
        "id": "ljZjFGjEhKet"
      },
      "execution_count": null,
      "outputs": []
    },
    {
      "cell_type": "code",
      "source": [
        "for layer in new_model.layers[:-1]:\n",
        "  layer.trainable = True\n",
        "new_model.fit(X_subset_train, y_subset_train, epochs=50, validation_data=(X_subset_valid, y_subset_valid), callbacks=[short_early_stopping])"
      ],
      "metadata": {
        "id": "yk59EpIS7gsl"
      },
      "execution_count": null,
      "outputs": []
    },
    {
      "cell_type": "code",
      "source": [
        "new_model.evaluate(X_subset_test, y_subset_test)"
      ],
      "metadata": {
        "id": "iei2Lv0g72bA"
      },
      "execution_count": null,
      "outputs": []
    },
    {
      "cell_type": "code",
      "source": [
        "input_a = keras.layers.Input(shape=[28, 28], name=\"input_a\")\n",
        "input_b = keras.layers.Input(shape=[28, 28], name=\"input_b\")\n",
        "flatten_a = keras.layers.Flatten()(input_a)\n",
        "flatten_b = keras.layers.Flatten()(input_b)\n",
        "hidden_1_a = keras.layers.Dense(100, activation=\"elu\", kernel_initializer=\"he_normal\")(flatten_a)\n",
        "hidden_2_a = keras.layers.Dense(100, activation=\"elu\", kernel_initializer=\"he_normal\")(hidden_1_a)\n",
        "hidden_3_a = keras.layers.Dense(100, activation=\"elu\", kernel_initializer=\"he_normal\")(hidden_2_a)\n",
        "hidden_4_a = keras.layers.Dense(100, activation=\"elu\", kernel_initializer=\"he_normal\")(hidden_3_a)\n",
        "hidden_5_a = keras.layers.Dense(100, activation=\"elu\", kernel_initializer=\"he_normal\")(hidden_4_a)\n",
        "hidden_1_b = keras.layers.Dense(100, activation=\"elu\", kernel_initializer=\"he_normal\")(flatten_b)\n",
        "hidden_2_b = keras.layers.Dense(100, activation=\"elu\", kernel_initializer=\"he_normal\")(hidden_1_b)\n",
        "hidden_3_b = keras.layers.Dense(100, activation=\"elu\", kernel_initializer=\"he_normal\")(hidden_2_b)\n",
        "hidden_4_b = keras.layers.Dense(100, activation=\"elu\", kernel_initializer=\"he_normal\")(hidden_3_b)\n",
        "hidden_5_b = keras.layers.Dense(100, activation=\"elu\", kernel_initializer=\"he_normal\")(hidden_4_b)\n",
        "concat = keras.layers.concatenate([hidden_5_a, hidden_5_b])\n",
        "dense = keras.layers.Dense(10, activation=\"elu\", kernel_initializer=\"he_normal\")(concat)\n",
        "output = keras.layers.Dense(1, activation=\"sigmoid\", kernel_initializer=\"he_normal\", name=\"output\")(dense)\n",
        "my_model = keras.models.Model(inputs=[input_a, input_b], outputs=[output])"
      ],
      "metadata": {
        "id": "a0yKxe84gU_h"
      },
      "execution_count": null,
      "outputs": []
    },
    {
      "cell_type": "code",
      "source": [
        "my_model.summary()"
      ],
      "metadata": {
        "id": "gOh31Ysri80n"
      },
      "execution_count": null,
      "outputs": []
    },
    {
      "cell_type": "code",
      "source": [
        "X_train, X_valid, y_train, y_valid = train_test_split(X_train_full, y_train_full, test_size=5000)"
      ],
      "metadata": {
        "id": "JFQXbwrTiqPZ"
      },
      "execution_count": null,
      "outputs": []
    },
    {
      "cell_type": "code",
      "source": [
        "digits_data = []\n",
        "for i in range(10):\n",
        "  digits_data.append(X_train[y_train == i])\n",
        "def generate_training_data(data_size=100000):\n",
        "  inputs_a = []\n",
        "  inputs_b = []\n",
        "  outputs = []\n",
        "  for _ in range(data_size):\n",
        "    rand = np.random.choice(np.arange(0, 10))\n",
        "    data = digits_data[rand]\n",
        "    idx_1, idx_2 = np.random.choice(np.arange(0, len(data)), size=2, replace=False)\n",
        "    inputs_a.append(data[idx_1])\n",
        "    inputs_b.append(data[idx_2])\n",
        "    outputs.append(0)\n",
        "    rnd1, rnd2 = np.random.choice(np.arange(0, 10), size=2, replace=False)\n",
        "    data1, data2 = digits_data[rnd1], digits_data[rnd2]\n",
        "    idx1 = np.random.choice(np.arange(0, len(data1)))\n",
        "    idx2 = np.random.choice(np.arange(0, len(data2)))\n",
        "    inputs_a.append(data1[idx1])\n",
        "    inputs_b.append(data2[idx2])\n",
        "    outputs.append(1)\n",
        "  return np.array(inputs_a), np.array(inputs_b), np.array(outputs).reshape(-1, 1)"
      ],
      "metadata": {
        "id": "rbRLQi5VlmjA"
      },
      "execution_count": null,
      "outputs": []
    },
    {
      "cell_type": "code",
      "source": [
        "from sklearn.utils import shuffle\n",
        "inputs_a, inputs_b, outputs = generate_training_data(60000)\n",
        "inputs_a, inputs_b, outputs = shuffle(inputs_a, inputs_b, outputs)"
      ],
      "metadata": {
        "id": "BD60e4czmnlU"
      },
      "execution_count": null,
      "outputs": []
    },
    {
      "cell_type": "code",
      "source": [
        "plt.imshow(inputs_a[2], cmap=\"binary\", interpolation=\"nearest\")\n",
        "plt.axis(\"off\")"
      ],
      "metadata": {
        "id": "xjh5eS8z6uum"
      },
      "execution_count": null,
      "outputs": []
    },
    {
      "cell_type": "code",
      "source": [
        "plt.imshow(inputs_b[2], cmap=\"binary\", interpolation=\"nearest\")\n",
        "plt.axis(\"off\")"
      ],
      "metadata": {
        "id": "dDw6b2E97Jbx"
      },
      "execution_count": null,
      "outputs": []
    },
    {
      "cell_type": "code",
      "source": [
        "outputs[2]"
      ],
      "metadata": {
        "id": "zLHBL6aJ7OfM"
      },
      "execution_count": null,
      "outputs": []
    },
    {
      "cell_type": "code",
      "source": [
        "my_model.compile(loss=keras.losses.BinaryCrossentropy(from_logits=False), optimizer=\"nadam\", metrics=[\"binary_accuracy\"])"
      ],
      "metadata": {
        "id": "lTd9Bn1FtHxq"
      },
      "execution_count": null,
      "outputs": []
    },
    {
      "cell_type": "code",
      "source": [
        "my_model.fit((inputs_a, inputs_b), outputs, batch_size=500, epochs=20)"
      ],
      "metadata": {
        "id": "L7lZhLi-u2a0"
      },
      "execution_count": null,
      "outputs": []
    },
    {
      "cell_type": "code",
      "source": [
        "clone_dnn = keras.models.clone_model(my_model)\n",
        "clone_dnn.set_weights(my_model.get_weights())"
      ],
      "metadata": {
        "id": "uyKOCBI5vGlj"
      },
      "execution_count": null,
      "outputs": []
    },
    {
      "cell_type": "code",
      "source": [
        "dnn = keras.models.Sequential(clone_dnn.layers[2:14:2])\n",
        "dnn.add(keras.layers.Dense(10, activation=\"softmax\"))\n",
        "for layer in dnn.layers[:-1]:\n",
        "  layer.trainable = False"
      ],
      "metadata": {
        "id": "pUJrrMmJ1KBz"
      },
      "execution_count": null,
      "outputs": []
    },
    {
      "cell_type": "code",
      "source": [
        "dnn.compile(loss=\"sparse_categorical_crossentropy\", optimizer=\"adam\", metrics=[\"accuracy\"])"
      ],
      "metadata": {
        "id": "eFCxqovQ2jBF"
      },
      "execution_count": null,
      "outputs": []
    },
    {
      "cell_type": "code",
      "source": [
        "dnn.fit(X_valid, y_valid, epochs=20)\n",
        "dnn.evaluate(X_valid, y_valid)"
      ],
      "metadata": {
        "id": "v05M_3Sc23cq"
      },
      "execution_count": null,
      "outputs": []
    },
    {
      "cell_type": "code",
      "source": [
        "for layer in dnn.layers[:-1]:\n",
        "  layer.trainable = True\n",
        "dnn.fit(X_valid, y_valid, epochs=20)\n",
        "dnn.evaluate(X_valid, y_valid)"
      ],
      "metadata": {
        "id": "l8DlsKMj5UeC"
      },
      "execution_count": null,
      "outputs": []
    },
    {
      "cell_type": "code",
      "source": [
        "dnn.evaluate(X_test, y_test)"
      ],
      "metadata": {
        "id": "kiYw-0zH5pnH"
      },
      "execution_count": null,
      "outputs": []
    }
  ]
}