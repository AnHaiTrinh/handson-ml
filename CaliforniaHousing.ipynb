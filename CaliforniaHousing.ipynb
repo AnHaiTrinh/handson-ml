{
  "cells": [
    {
      "cell_type": "markdown",
      "metadata": {
        "id": "view-in-github",
        "colab_type": "text"
      },
      "source": [
        "<a href=\"https://colab.research.google.com/github/AnHaiTrinh/handson-ml/blob/main/CaliforniaHousing.ipynb\" target=\"_parent\"><img src=\"https://colab.research.google.com/assets/colab-badge.svg\" alt=\"Open In Colab\"/></a>"
      ]
    },
    {
      "cell_type": "code",
      "execution_count": null,
      "id": "07c71bf5",
      "metadata": {
        "id": "07c71bf5"
      },
      "outputs": [],
      "source": [
        "import numpy as np\n",
        "\n",
        "import sklearn\n",
        "\n",
        "%matplotlib inline\n",
        "import matplotlib as mpl\n",
        "import matplotlib.pyplot as plt\n",
        "mpl.rc('axes', labelsize=14)\n",
        "mpl.rc('xtick', labelsize=12)\n",
        "mpl.rc('ytick', labelsize=12)"
      ]
    },
    {
      "cell_type": "code",
      "execution_count": null,
      "id": "1f9c6ae8",
      "metadata": {
        "id": "1f9c6ae8"
      },
      "outputs": [],
      "source": [
        "import os\n",
        "import tarfile\n",
        "from six.moves import urllib\n",
        "DOWNLOAD_ROOT = \"https://raw.githubusercontent.com/ageron/handson-ml2/master/\"\n",
        "HOUSING_PATH = os.path.join(\"datasets\", \"housing\")\n",
        "HOUSING_URL = DOWNLOAD_ROOT + \"datasets/housing/housing.tgz\"\n",
        "def fetch_housing_data(housing_url=HOUSING_URL, housing_path=HOUSING_PATH):\n",
        "    if not os.path.isdir(housing_path):\n",
        "        os.makedirs(housing_path)\n",
        "    tgz_path = os.path.join(housing_path, \"housing.tgz\")\n",
        "    urllib.request.urlretrieve(housing_url, tgz_path)\n",
        "    housing_tgz = tarfile.open(tgz_path)\n",
        "    housing_tgz.extractall(path=housing_path)\n",
        "    housing_tgz.close()"
      ]
    },
    {
      "cell_type": "code",
      "execution_count": null,
      "id": "a5d91f1c",
      "metadata": {
        "id": "a5d91f1c"
      },
      "outputs": [],
      "source": [
        "fetch_housing_data()"
      ]
    },
    {
      "cell_type": "code",
      "execution_count": null,
      "id": "cfddebd9",
      "metadata": {
        "id": "cfddebd9"
      },
      "outputs": [],
      "source": [
        "import pandas as pd\n",
        "def load_housing_data(housing_path=HOUSING_PATH):\n",
        "    csv_path = os.path.join(housing_path, \"housing.csv\")\n",
        "    return pd.read_csv(csv_path)"
      ]
    },
    {
      "cell_type": "code",
      "execution_count": null,
      "id": "ca77f0ce",
      "metadata": {
        "id": "ca77f0ce"
      },
      "outputs": [],
      "source": [
        "housing = load_housing_data()"
      ]
    },
    {
      "cell_type": "code",
      "execution_count": null,
      "id": "b47a879a",
      "metadata": {
        "id": "b47a879a"
      },
      "outputs": [],
      "source": [
        "from sklearn.model_selection import train_test_split\n",
        "train_set, test_set = train_test_split(housing, test_size=0.2)"
      ]
    },
    {
      "cell_type": "code",
      "execution_count": null,
      "id": "406b7e7e",
      "metadata": {
        "id": "406b7e7e"
      },
      "outputs": [],
      "source": [
        "housing = train_set.drop(\"median_house_value\", axis=1)\n",
        "housing_labels = train_set[\"median_house_value\"].copy()"
      ]
    },
    {
      "cell_type": "code",
      "execution_count": null,
      "id": "e595d881",
      "metadata": {
        "id": "e595d881"
      },
      "outputs": [],
      "source": [
        "housing_test = test_set.drop(\"median_house_value\", axis=1)\n",
        "housing_test_labels = test_set[\"median_house_value\"].copy()"
      ]
    },
    {
      "cell_type": "code",
      "execution_count": null,
      "id": "f31d3dd0",
      "metadata": {
        "id": "f31d3dd0"
      },
      "outputs": [],
      "source": [
        "housing_num = housing.drop(\"ocean_proximity\", axis=1)\n",
        "num_attribs = list(housing_num)\n",
        "cat_attribs = [\"ocean_proximity\"]"
      ]
    },
    {
      "cell_type": "code",
      "execution_count": null,
      "id": "86c8f4b2",
      "metadata": {
        "id": "86c8f4b2"
      },
      "outputs": [],
      "source": [
        "from sklearn.impute import SimpleImputer\n",
        "from sklearn.preprocessing import StandardScaler, OneHotEncoder\n",
        "from sklearn.pipeline import Pipeline\n",
        "from sklearn.compose import ColumnTransformer\n",
        "\n",
        "num_transformer = Pipeline([\n",
        "    (\"imputer\", SimpleImputer(strategy=\"median\")),\n",
        "    (\"scaler\", StandardScaler())\n",
        "])\n",
        "\n",
        "cat_transformer = OneHotEncoder()\n",
        "\n",
        "full_pipeline = ColumnTransformer([\n",
        "    (\"num\", num_transformer, num_attribs),\n",
        "    (\"cat\", cat_transformer, cat_attribs)\n",
        "])\n",
        "\n",
        "housing_prepared = full_pipeline.fit_transform(housing)"
      ]
    },
    {
      "cell_type": "code",
      "execution_count": null,
      "id": "1b7c44f3",
      "metadata": {
        "id": "1b7c44f3",
        "outputId": "f197a711-0230-4cc5-cec3-f86cc81af01b"
      },
      "outputs": [
        {
          "data": {
            "text/plain": [
              "13340823316.367018"
            ]
          },
          "execution_count": 12,
          "metadata": {},
          "output_type": "execute_result"
        }
      ],
      "source": [
        "from sklearn.svm import SVR\n",
        "from sklearn.metrics import mean_squared_error\n",
        "svm_reg = SVR(kernel=\"rbf\", C=2)\n",
        "svm_reg.fit(housing_prepared, housing_labels)\n",
        "housing_predict_labels = svm_reg.predict(full_pipeline.transform(housing_test))\n",
        "mean_squared_error(housing_test_labels, housing_predict_labels)"
      ]
    },
    {
      "cell_type": "code",
      "execution_count": null,
      "id": "e856da73",
      "metadata": {
        "id": "e856da73",
        "outputId": "f6ec8906-6de6-4516-e2ef-5f3f23d14527"
      },
      "outputs": [
        {
          "name": "stdout",
          "output_type": "stream",
          "text": [
            "Fitting 3 folds for each of 120 candidates, totalling 360 fits\n",
            "[CV] END ......................C=0, gamma=0.0, kernel=linear; total time=   0.0s\n",
            "[CV] END ......................C=0, gamma=0.0, kernel=linear; total time=   0.0s\n",
            "[CV] END ......................C=0, gamma=0.0, kernel=linear; total time=   0.0s\n",
            "[CV] END .........................C=0, gamma=0.0, kernel=rbf; total time=   0.0s\n",
            "[CV] END .........................C=0, gamma=0.0, kernel=rbf; total time=   0.0s\n",
            "[CV] END .........................C=0, gamma=0.0, kernel=rbf; total time=   0.0s\n",
            "[CV] END .......C=0, gamma=0.2222222222222222, kernel=linear; total time=   0.0s\n",
            "[CV] END .......C=0, gamma=0.2222222222222222, kernel=linear; total time=   0.0s\n",
            "[CV] END .......C=0, gamma=0.2222222222222222, kernel=linear; total time=   0.0s\n",
            "[CV] END ..........C=0, gamma=0.2222222222222222, kernel=rbf; total time=   0.0s\n",
            "[CV] END ..........C=0, gamma=0.2222222222222222, kernel=rbf; total time=   0.0s\n",
            "[CV] END ..........C=0, gamma=0.2222222222222222, kernel=rbf; total time=   0.0s\n",
            "[CV] END .......C=0, gamma=0.4444444444444444, kernel=linear; total time=   0.0s\n",
            "[CV] END .......C=0, gamma=0.4444444444444444, kernel=linear; total time=   0.0s\n",
            "[CV] END .......C=0, gamma=0.4444444444444444, kernel=linear; total time=   0.0s\n",
            "[CV] END ..........C=0, gamma=0.4444444444444444, kernel=rbf; total time=   0.0s\n",
            "[CV] END ..........C=0, gamma=0.4444444444444444, kernel=rbf; total time=   0.0s\n",
            "[CV] END ..........C=0, gamma=0.4444444444444444, kernel=rbf; total time=   0.0s\n",
            "[CV] END .......C=0, gamma=0.6666666666666666, kernel=linear; total time=   0.0s\n",
            "[CV] END .......C=0, gamma=0.6666666666666666, kernel=linear; total time=   0.0s\n",
            "[CV] END .......C=0, gamma=0.6666666666666666, kernel=linear; total time=   0.0s\n",
            "[CV] END ..........C=0, gamma=0.6666666666666666, kernel=rbf; total time=   0.0s\n",
            "[CV] END ..........C=0, gamma=0.6666666666666666, kernel=rbf; total time=   0.0s\n",
            "[CV] END ..........C=0, gamma=0.6666666666666666, kernel=rbf; total time=   0.0s\n",
            "[CV] END .......C=0, gamma=0.8888888888888888, kernel=linear; total time=   0.0s\n",
            "[CV] END .......C=0, gamma=0.8888888888888888, kernel=linear; total time=   0.0s\n",
            "[CV] END .......C=0, gamma=0.8888888888888888, kernel=linear; total time=   0.0s\n",
            "[CV] END ..........C=0, gamma=0.8888888888888888, kernel=rbf; total time=   0.0s\n",
            "[CV] END ..........C=0, gamma=0.8888888888888888, kernel=rbf; total time=   0.0s\n",
            "[CV] END ..........C=0, gamma=0.8888888888888888, kernel=rbf; total time=   0.0s\n",
            "[CV] END .......C=0, gamma=1.1111111111111112, kernel=linear; total time=   0.0s\n",
            "[CV] END .......C=0, gamma=1.1111111111111112, kernel=linear; total time=   0.0s\n",
            "[CV] END .......C=0, gamma=1.1111111111111112, kernel=linear; total time=   0.0s\n",
            "[CV] END ..........C=0, gamma=1.1111111111111112, kernel=rbf; total time=   0.0s\n",
            "[CV] END ..........C=0, gamma=1.1111111111111112, kernel=rbf; total time=   0.0s\n",
            "[CV] END ..........C=0, gamma=1.1111111111111112, kernel=rbf; total time=   0.0s\n",
            "[CV] END .......C=0, gamma=1.3333333333333333, kernel=linear; total time=   0.0s\n",
            "[CV] END .......C=0, gamma=1.3333333333333333, kernel=linear; total time=   0.0s\n",
            "[CV] END .......C=0, gamma=1.3333333333333333, kernel=linear; total time=   0.0s\n",
            "[CV] END ..........C=0, gamma=1.3333333333333333, kernel=rbf; total time=   0.0s\n",
            "[CV] END ..........C=0, gamma=1.3333333333333333, kernel=rbf; total time=   0.0s\n",
            "[CV] END ..........C=0, gamma=1.3333333333333333, kernel=rbf; total time=   0.0s\n",
            "[CV] END .......C=0, gamma=1.5555555555555554, kernel=linear; total time=   0.0s\n",
            "[CV] END .......C=0, gamma=1.5555555555555554, kernel=linear; total time=   0.0s\n",
            "[CV] END .......C=0, gamma=1.5555555555555554, kernel=linear; total time=   0.0s\n",
            "[CV] END ..........C=0, gamma=1.5555555555555554, kernel=rbf; total time=   0.0s\n",
            "[CV] END ..........C=0, gamma=1.5555555555555554, kernel=rbf; total time=   0.0s\n",
            "[CV] END ..........C=0, gamma=1.5555555555555554, kernel=rbf; total time=   0.0s\n",
            "[CV] END .......C=0, gamma=1.7777777777777777, kernel=linear; total time=   0.0s\n",
            "[CV] END .......C=0, gamma=1.7777777777777777, kernel=linear; total time=   0.0s\n",
            "[CV] END .......C=0, gamma=1.7777777777777777, kernel=linear; total time=   0.0s\n",
            "[CV] END ..........C=0, gamma=1.7777777777777777, kernel=rbf; total time=   0.0s\n",
            "[CV] END ..........C=0, gamma=1.7777777777777777, kernel=rbf; total time=   0.0s\n",
            "[CV] END ..........C=0, gamma=1.7777777777777777, kernel=rbf; total time=   0.0s\n",
            "[CV] END ......................C=0, gamma=2.0, kernel=linear; total time=   0.0s\n",
            "[CV] END ......................C=0, gamma=2.0, kernel=linear; total time=   0.0s\n",
            "[CV] END ......................C=0, gamma=2.0, kernel=linear; total time=   0.0s\n",
            "[CV] END .........................C=0, gamma=2.0, kernel=rbf; total time=   0.0s\n",
            "[CV] END .........................C=0, gamma=2.0, kernel=rbf; total time=   0.0s\n",
            "[CV] END .........................C=0, gamma=2.0, kernel=rbf; total time=   0.0s\n",
            "[CV] END ......................C=2, gamma=0.0, kernel=linear; total time=   0.0s\n",
            "[CV] END ......................C=2, gamma=0.0, kernel=linear; total time=   0.0s\n",
            "[CV] END ......................C=2, gamma=0.0, kernel=linear; total time=   0.0s\n",
            "[CV] END .........................C=2, gamma=0.0, kernel=rbf; total time=   0.0s\n",
            "[CV] END .........................C=2, gamma=0.0, kernel=rbf; total time=   0.0s\n",
            "[CV] END .........................C=2, gamma=0.0, kernel=rbf; total time=   0.0s\n",
            "[CV] END .......C=2, gamma=0.2222222222222222, kernel=linear; total time=  13.7s\n",
            "[CV] END .......C=2, gamma=0.2222222222222222, kernel=linear; total time=  13.6s\n",
            "[CV] END .......C=2, gamma=0.2222222222222222, kernel=linear; total time=  13.6s\n",
            "[CV] END ..........C=2, gamma=0.2222222222222222, kernel=rbf; total time=  28.7s\n",
            "[CV] END ..........C=2, gamma=0.2222222222222222, kernel=rbf; total time=  28.5s\n",
            "[CV] END ..........C=2, gamma=0.2222222222222222, kernel=rbf; total time=  28.7s\n",
            "[CV] END .......C=2, gamma=0.4444444444444444, kernel=linear; total time=  13.4s\n",
            "[CV] END .......C=2, gamma=0.4444444444444444, kernel=linear; total time=  13.5s\n",
            "[CV] END .......C=2, gamma=0.4444444444444444, kernel=linear; total time=  13.7s\n",
            "[CV] END ..........C=2, gamma=0.4444444444444444, kernel=rbf; total time=  29.0s\n",
            "[CV] END ..........C=2, gamma=0.4444444444444444, kernel=rbf; total time=  29.8s\n",
            "[CV] END ..........C=2, gamma=0.4444444444444444, kernel=rbf; total time=  30.3s\n",
            "[CV] END .......C=2, gamma=0.6666666666666666, kernel=linear; total time=  14.0s\n",
            "[CV] END .......C=2, gamma=0.6666666666666666, kernel=linear; total time=  13.9s\n",
            "[CV] END .......C=2, gamma=0.6666666666666666, kernel=linear; total time=  13.7s\n",
            "[CV] END ..........C=2, gamma=0.6666666666666666, kernel=rbf; total time=  28.7s\n",
            "[CV] END ..........C=2, gamma=0.6666666666666666, kernel=rbf; total time=  28.3s\n",
            "[CV] END ..........C=2, gamma=0.6666666666666666, kernel=rbf; total time=  27.9s\n",
            "[CV] END .......C=2, gamma=0.8888888888888888, kernel=linear; total time=  13.6s\n",
            "[CV] END .......C=2, gamma=0.8888888888888888, kernel=linear; total time=  13.7s\n",
            "[CV] END .......C=2, gamma=0.8888888888888888, kernel=linear; total time=  13.5s\n",
            "[CV] END ..........C=2, gamma=0.8888888888888888, kernel=rbf; total time=  27.9s\n",
            "[CV] END ..........C=2, gamma=0.8888888888888888, kernel=rbf; total time=  27.7s\n",
            "[CV] END ..........C=2, gamma=0.8888888888888888, kernel=rbf; total time=  28.1s\n",
            "[CV] END .......C=2, gamma=1.1111111111111112, kernel=linear; total time=  13.3s\n",
            "[CV] END .......C=2, gamma=1.1111111111111112, kernel=linear; total time=  13.4s\n",
            "[CV] END .......C=2, gamma=1.1111111111111112, kernel=linear; total time=  13.4s\n",
            "[CV] END ..........C=2, gamma=1.1111111111111112, kernel=rbf; total time=  27.6s\n",
            "[CV] END ..........C=2, gamma=1.1111111111111112, kernel=rbf; total time=  27.7s\n",
            "[CV] END ..........C=2, gamma=1.1111111111111112, kernel=rbf; total time=  28.0s\n",
            "[CV] END .......C=2, gamma=1.3333333333333333, kernel=linear; total time=  13.3s\n",
            "[CV] END .......C=2, gamma=1.3333333333333333, kernel=linear; total time=  13.4s\n",
            "[CV] END .......C=2, gamma=1.3333333333333333, kernel=linear; total time=  13.4s\n",
            "[CV] END ..........C=2, gamma=1.3333333333333333, kernel=rbf; total time=  27.8s\n",
            "[CV] END ..........C=2, gamma=1.3333333333333333, kernel=rbf; total time=  27.8s\n"
          ]
        },
        {
          "name": "stdout",
          "output_type": "stream",
          "text": [
            "[CV] END ..........C=2, gamma=1.3333333333333333, kernel=rbf; total time=  27.5s\n",
            "[CV] END .......C=2, gamma=1.5555555555555554, kernel=linear; total time=  13.5s\n",
            "[CV] END .......C=2, gamma=1.5555555555555554, kernel=linear; total time=33.1min\n",
            "[CV] END .......C=2, gamma=1.5555555555555554, kernel=linear; total time=  13.4s\n",
            "[CV] END ..........C=2, gamma=1.5555555555555554, kernel=rbf; total time=  27.9s\n",
            "[CV] END ..........C=2, gamma=1.5555555555555554, kernel=rbf; total time=  27.9s\n",
            "[CV] END ..........C=2, gamma=1.5555555555555554, kernel=rbf; total time=  28.4s\n",
            "[CV] END .......C=2, gamma=1.7777777777777777, kernel=linear; total time=  13.3s\n",
            "[CV] END .......C=2, gamma=1.7777777777777777, kernel=linear; total time=  13.5s\n",
            "[CV] END .......C=2, gamma=1.7777777777777777, kernel=linear; total time=  13.6s\n",
            "[CV] END ..........C=2, gamma=1.7777777777777777, kernel=rbf; total time=  27.1s\n",
            "[CV] END ..........C=2, gamma=1.7777777777777777, kernel=rbf; total time=  29.5s\n",
            "[CV] END ..........C=2, gamma=1.7777777777777777, kernel=rbf; total time=  28.4s\n",
            "[CV] END ......................C=2, gamma=2.0, kernel=linear; total time=  13.7s\n",
            "[CV] END ......................C=2, gamma=2.0, kernel=linear; total time=  13.6s\n",
            "[CV] END ......................C=2, gamma=2.0, kernel=linear; total time=  13.5s\n",
            "[CV] END .........................C=2, gamma=2.0, kernel=rbf; total time=  28.0s\n",
            "[CV] END .........................C=2, gamma=2.0, kernel=rbf; total time=  28.0s\n",
            "[CV] END .........................C=2, gamma=2.0, kernel=rbf; total time=  28.0s\n",
            "[CV] END ......................C=4, gamma=0.0, kernel=linear; total time=   0.0s\n",
            "[CV] END ......................C=4, gamma=0.0, kernel=linear; total time=   0.0s\n",
            "[CV] END ......................C=4, gamma=0.0, kernel=linear; total time=   0.0s\n",
            "[CV] END .........................C=4, gamma=0.0, kernel=rbf; total time=   0.0s\n",
            "[CV] END .........................C=4, gamma=0.0, kernel=rbf; total time=   0.0s\n",
            "[CV] END .........................C=4, gamma=0.0, kernel=rbf; total time=   0.0s\n",
            "[CV] END .......C=4, gamma=0.2222222222222222, kernel=linear; total time=  13.4s\n",
            "[CV] END .......C=4, gamma=0.2222222222222222, kernel=linear; total time=  13.3s\n",
            "[CV] END .......C=4, gamma=0.2222222222222222, kernel=linear; total time=  13.6s\n",
            "[CV] END ..........C=4, gamma=0.2222222222222222, kernel=rbf; total time=  28.4s\n",
            "[CV] END ..........C=4, gamma=0.2222222222222222, kernel=rbf; total time=  28.5s\n",
            "[CV] END ..........C=4, gamma=0.2222222222222222, kernel=rbf; total time=  28.4s\n",
            "[CV] END .......C=4, gamma=0.4444444444444444, kernel=linear; total time=  13.6s\n",
            "[CV] END .......C=4, gamma=0.4444444444444444, kernel=linear; total time=  13.5s\n",
            "[CV] END .......C=4, gamma=0.4444444444444444, kernel=linear; total time=  13.4s\n",
            "[CV] END ..........C=4, gamma=0.4444444444444444, kernel=rbf; total time=  28.0s\n",
            "[CV] END ..........C=4, gamma=0.4444444444444444, kernel=rbf; total time=  29.4s\n",
            "[CV] END ..........C=4, gamma=0.4444444444444444, kernel=rbf; total time=  28.1s\n",
            "[CV] END .......C=4, gamma=0.6666666666666666, kernel=linear; total time=  13.4s\n",
            "[CV] END .......C=4, gamma=0.6666666666666666, kernel=linear; total time=  13.7s\n",
            "[CV] END .......C=4, gamma=0.6666666666666666, kernel=linear; total time=  13.5s\n",
            "[CV] END ..........C=4, gamma=0.6666666666666666, kernel=rbf; total time=  28.0s\n",
            "[CV] END ..........C=4, gamma=0.6666666666666666, kernel=rbf; total time=  27.8s\n",
            "[CV] END ..........C=4, gamma=0.6666666666666666, kernel=rbf; total time=  29.4s\n",
            "[CV] END .......C=4, gamma=0.8888888888888888, kernel=linear; total time=  13.3s\n",
            "[CV] END .......C=4, gamma=0.8888888888888888, kernel=linear; total time=  13.3s\n",
            "[CV] END .......C=4, gamma=0.8888888888888888, kernel=linear; total time=  13.5s\n",
            "[CV] END ..........C=4, gamma=0.8888888888888888, kernel=rbf; total time=  28.6s\n",
            "[CV] END ..........C=4, gamma=0.8888888888888888, kernel=rbf; total time=  28.2s\n",
            "[CV] END ..........C=4, gamma=0.8888888888888888, kernel=rbf; total time=  28.2s\n",
            "[CV] END .......C=4, gamma=1.1111111111111112, kernel=linear; total time=  14.1s\n",
            "[CV] END .......C=4, gamma=1.1111111111111112, kernel=linear; total time=  14.0s\n",
            "[CV] END .......C=4, gamma=1.1111111111111112, kernel=linear; total time=  13.9s\n",
            "[CV] END ..........C=4, gamma=1.1111111111111112, kernel=rbf; total time=  28.0s\n",
            "[CV] END ..........C=4, gamma=1.1111111111111112, kernel=rbf; total time=  28.3s\n",
            "[CV] END ..........C=4, gamma=1.1111111111111112, kernel=rbf; total time=  28.4s\n",
            "[CV] END .......C=4, gamma=1.3333333333333333, kernel=linear; total time=  13.9s\n",
            "[CV] END .......C=4, gamma=1.3333333333333333, kernel=linear; total time=  13.8s\n",
            "[CV] END .......C=4, gamma=1.3333333333333333, kernel=linear; total time=  14.5s\n",
            "[CV] END ..........C=4, gamma=1.3333333333333333, kernel=rbf; total time=  33.1s\n",
            "[CV] END ..........C=4, gamma=1.3333333333333333, kernel=rbf; total time=  32.8s\n",
            "[CV] END ..........C=4, gamma=1.3333333333333333, kernel=rbf; total time=  33.5s\n",
            "[CV] END .......C=4, gamma=1.5555555555555554, kernel=linear; total time=  14.2s\n",
            "[CV] END .......C=4, gamma=1.5555555555555554, kernel=linear; total time=  13.8s\n",
            "[CV] END .......C=4, gamma=1.5555555555555554, kernel=linear; total time=  13.6s\n",
            "[CV] END ..........C=4, gamma=1.5555555555555554, kernel=rbf; total time=  28.6s\n",
            "[CV] END ..........C=4, gamma=1.5555555555555554, kernel=rbf; total time=  28.9s\n",
            "[CV] END ..........C=4, gamma=1.5555555555555554, kernel=rbf; total time=  29.3s\n",
            "[CV] END .......C=4, gamma=1.7777777777777777, kernel=linear; total time=  13.9s\n",
            "[CV] END .......C=4, gamma=1.7777777777777777, kernel=linear; total time=  13.6s\n",
            "[CV] END .......C=4, gamma=1.7777777777777777, kernel=linear; total time=  14.0s\n",
            "[CV] END ..........C=4, gamma=1.7777777777777777, kernel=rbf; total time=  20.0s\n",
            "[CV] END ..........C=4, gamma=1.7777777777777777, kernel=rbf; total time=  11.2s\n",
            "[CV] END ..........C=4, gamma=1.7777777777777777, kernel=rbf; total time=  10.4s\n",
            "[CV] END ......................C=4, gamma=2.0, kernel=linear; total time=   4.9s\n",
            "[CV] END ......................C=4, gamma=2.0, kernel=linear; total time=   5.2s\n",
            "[CV] END ......................C=4, gamma=2.0, kernel=linear; total time=   4.8s\n",
            "[CV] END .........................C=4, gamma=2.0, kernel=rbf; total time=  10.0s\n",
            "[CV] END .........................C=4, gamma=2.0, kernel=rbf; total time=  10.2s\n",
            "[CV] END .........................C=4, gamma=2.0, kernel=rbf; total time=  10.9s\n",
            "[CV] END ......................C=6, gamma=0.0, kernel=linear; total time=   0.0s\n",
            "[CV] END ......................C=6, gamma=0.0, kernel=linear; total time=   0.0s\n",
            "[CV] END ......................C=6, gamma=0.0, kernel=linear; total time=   0.0s\n",
            "[CV] END .........................C=6, gamma=0.0, kernel=rbf; total time=   0.0s\n",
            "[CV] END .........................C=6, gamma=0.0, kernel=rbf; total time=   0.0s\n",
            "[CV] END .........................C=6, gamma=0.0, kernel=rbf; total time=   0.0s\n",
            "[CV] END .......C=6, gamma=0.2222222222222222, kernel=linear; total time=   4.9s\n",
            "[CV] END .......C=6, gamma=0.2222222222222222, kernel=linear; total time=   4.8s\n",
            "[CV] END .......C=6, gamma=0.2222222222222222, kernel=linear; total time=   4.7s\n",
            "[CV] END ..........C=6, gamma=0.2222222222222222, kernel=rbf; total time=  10.0s\n",
            "[CV] END ..........C=6, gamma=0.2222222222222222, kernel=rbf; total time=  10.2s\n",
            "[CV] END ..........C=6, gamma=0.2222222222222222, kernel=rbf; total time=  10.1s\n",
            "[CV] END .......C=6, gamma=0.4444444444444444, kernel=linear; total time=   4.7s\n",
            "[CV] END .......C=6, gamma=0.4444444444444444, kernel=linear; total time=   5.0s\n",
            "[CV] END .......C=6, gamma=0.4444444444444444, kernel=linear; total time=   5.0s\n",
            "[CV] END ..........C=6, gamma=0.4444444444444444, kernel=rbf; total time=  10.8s\n",
            "[CV] END ..........C=6, gamma=0.4444444444444444, kernel=rbf; total time=  10.1s\n",
            "[CV] END ..........C=6, gamma=0.4444444444444444, kernel=rbf; total time=   9.9s\n",
            "[CV] END .......C=6, gamma=0.6666666666666666, kernel=linear; total time=   5.1s\n",
            "[CV] END .......C=6, gamma=0.6666666666666666, kernel=linear; total time=   4.9s\n",
            "[CV] END .......C=6, gamma=0.6666666666666666, kernel=linear; total time=   3.6s\n",
            "[CV] END ..........C=6, gamma=0.6666666666666666, kernel=rbf; total time=   7.5s\n",
            "[CV] END ..........C=6, gamma=0.6666666666666666, kernel=rbf; total time=   7.7s\n"
          ]
        },
        {
          "name": "stdout",
          "output_type": "stream",
          "text": [
            "[CV] END ..........C=6, gamma=0.6666666666666666, kernel=rbf; total time=   7.6s\n",
            "[CV] END .......C=6, gamma=0.8888888888888888, kernel=linear; total time=   3.5s\n",
            "[CV] END .......C=6, gamma=0.8888888888888888, kernel=linear; total time=   3.6s\n",
            "[CV] END .......C=6, gamma=0.8888888888888888, kernel=linear; total time=   3.7s\n",
            "[CV] END ..........C=6, gamma=0.8888888888888888, kernel=rbf; total time=   7.5s\n",
            "[CV] END ..........C=6, gamma=0.8888888888888888, kernel=rbf; total time=   7.5s\n",
            "[CV] END ..........C=6, gamma=0.8888888888888888, kernel=rbf; total time=   7.4s\n",
            "[CV] END .......C=6, gamma=1.1111111111111112, kernel=linear; total time=   3.5s\n",
            "[CV] END .......C=6, gamma=1.1111111111111112, kernel=linear; total time=   3.4s\n",
            "[CV] END .......C=6, gamma=1.1111111111111112, kernel=linear; total time=   3.5s\n",
            "[CV] END ..........C=6, gamma=1.1111111111111112, kernel=rbf; total time=  12.7s\n",
            "[CV] END ..........C=6, gamma=1.1111111111111112, kernel=rbf; total time=   8.0s\n",
            "[CV] END ..........C=6, gamma=1.1111111111111112, kernel=rbf; total time=   7.4s\n",
            "[CV] END .......C=6, gamma=1.3333333333333333, kernel=linear; total time=   3.6s\n",
            "[CV] END .......C=6, gamma=1.3333333333333333, kernel=linear; total time=   3.5s\n",
            "[CV] END .......C=6, gamma=1.3333333333333333, kernel=linear; total time=   3.8s\n",
            "[CV] END ..........C=6, gamma=1.3333333333333333, kernel=rbf; total time=   7.6s\n",
            "[CV] END ..........C=6, gamma=1.3333333333333333, kernel=rbf; total time=   7.6s\n",
            "[CV] END ..........C=6, gamma=1.3333333333333333, kernel=rbf; total time=   7.4s\n",
            "[CV] END .......C=6, gamma=1.5555555555555554, kernel=linear; total time=   3.6s\n",
            "[CV] END .......C=6, gamma=1.5555555555555554, kernel=linear; total time=   4.0s\n",
            "[CV] END .......C=6, gamma=1.5555555555555554, kernel=linear; total time=   3.9s\n",
            "[CV] END ..........C=6, gamma=1.5555555555555554, kernel=rbf; total time=   7.5s\n",
            "[CV] END ..........C=6, gamma=1.5555555555555554, kernel=rbf; total time=   7.8s\n",
            "[CV] END ..........C=6, gamma=1.5555555555555554, kernel=rbf; total time=   7.5s\n",
            "[CV] END .......C=6, gamma=1.7777777777777777, kernel=linear; total time=   3.5s\n",
            "[CV] END .......C=6, gamma=1.7777777777777777, kernel=linear; total time=   3.5s\n",
            "[CV] END .......C=6, gamma=1.7777777777777777, kernel=linear; total time=   5.4s\n",
            "[CV] END ..........C=6, gamma=1.7777777777777777, kernel=rbf; total time=  20.6s\n",
            "[CV] END ..........C=6, gamma=1.7777777777777777, kernel=rbf; total time=   7.3s\n",
            "[CV] END ..........C=6, gamma=1.7777777777777777, kernel=rbf; total time=   8.5s\n",
            "[CV] END ......................C=6, gamma=2.0, kernel=linear; total time=   3.5s\n",
            "[CV] END ......................C=6, gamma=2.0, kernel=linear; total time=   3.6s\n",
            "[CV] END ......................C=6, gamma=2.0, kernel=linear; total time=   3.6s\n",
            "[CV] END .........................C=6, gamma=2.0, kernel=rbf; total time=   7.9s\n",
            "[CV] END .........................C=6, gamma=2.0, kernel=rbf; total time=   7.4s\n",
            "[CV] END .........................C=6, gamma=2.0, kernel=rbf; total time=   7.6s\n",
            "[CV] END ......................C=8, gamma=0.0, kernel=linear; total time=   0.0s\n",
            "[CV] END ......................C=8, gamma=0.0, kernel=linear; total time=   0.0s\n",
            "[CV] END ......................C=8, gamma=0.0, kernel=linear; total time=   0.0s\n",
            "[CV] END .........................C=8, gamma=0.0, kernel=rbf; total time=   0.0s\n",
            "[CV] END .........................C=8, gamma=0.0, kernel=rbf; total time=   0.0s\n",
            "[CV] END .........................C=8, gamma=0.0, kernel=rbf; total time=   0.0s\n",
            "[CV] END .......C=8, gamma=0.2222222222222222, kernel=linear; total time=   3.5s\n",
            "[CV] END .......C=8, gamma=0.2222222222222222, kernel=linear; total time=   3.7s\n",
            "[CV] END .......C=8, gamma=0.2222222222222222, kernel=linear; total time=   3.5s\n",
            "[CV] END ..........C=8, gamma=0.2222222222222222, kernel=rbf; total time=   7.5s\n",
            "[CV] END ..........C=8, gamma=0.2222222222222222, kernel=rbf; total time=   7.7s\n",
            "[CV] END ..........C=8, gamma=0.2222222222222222, kernel=rbf; total time=   7.5s\n",
            "[CV] END .......C=8, gamma=0.4444444444444444, kernel=linear; total time=   4.0s\n",
            "[CV] END .......C=8, gamma=0.4444444444444444, kernel=linear; total time=   3.5s\n",
            "[CV] END .......C=8, gamma=0.4444444444444444, kernel=linear; total time=   3.5s\n",
            "[CV] END ..........C=8, gamma=0.4444444444444444, kernel=rbf; total time=   7.4s\n",
            "[CV] END ..........C=8, gamma=0.4444444444444444, kernel=rbf; total time=   7.8s\n",
            "[CV] END ..........C=8, gamma=0.4444444444444444, kernel=rbf; total time=   7.4s\n",
            "[CV] END .......C=8, gamma=0.6666666666666666, kernel=linear; total time=   3.4s\n",
            "[CV] END .......C=8, gamma=0.6666666666666666, kernel=linear; total time=   3.5s\n",
            "[CV] END .......C=8, gamma=0.6666666666666666, kernel=linear; total time=   3.5s\n",
            "[CV] END ..........C=8, gamma=0.6666666666666666, kernel=rbf; total time=   7.7s\n",
            "[CV] END ..........C=8, gamma=0.6666666666666666, kernel=rbf; total time=   7.3s\n",
            "[CV] END ..........C=8, gamma=0.6666666666666666, kernel=rbf; total time=   7.3s\n",
            "[CV] END .......C=8, gamma=0.8888888888888888, kernel=linear; total time=   3.5s\n",
            "[CV] END .......C=8, gamma=0.8888888888888888, kernel=linear; total time=   3.5s\n",
            "[CV] END .......C=8, gamma=0.8888888888888888, kernel=linear; total time=   3.5s\n",
            "[CV] END ..........C=8, gamma=0.8888888888888888, kernel=rbf; total time=   7.4s\n",
            "[CV] END ..........C=8, gamma=0.8888888888888888, kernel=rbf; total time=   7.3s\n",
            "[CV] END ..........C=8, gamma=0.8888888888888888, kernel=rbf; total time=   7.3s\n",
            "[CV] END .......C=8, gamma=1.1111111111111112, kernel=linear; total time=   3.5s\n",
            "[CV] END .......C=8, gamma=1.1111111111111112, kernel=linear; total time=   3.6s\n",
            "[CV] END .......C=8, gamma=1.1111111111111112, kernel=linear; total time=   3.5s\n",
            "[CV] END ..........C=8, gamma=1.1111111111111112, kernel=rbf; total time=   7.3s\n",
            "[CV] END ..........C=8, gamma=1.1111111111111112, kernel=rbf; total time=   7.6s\n",
            "[CV] END ..........C=8, gamma=1.1111111111111112, kernel=rbf; total time=   7.4s\n",
            "[CV] END .......C=8, gamma=1.3333333333333333, kernel=linear; total time=   3.6s\n",
            "[CV] END .......C=8, gamma=1.3333333333333333, kernel=linear; total time=   3.6s\n",
            "[CV] END .......C=8, gamma=1.3333333333333333, kernel=linear; total time=   3.5s\n",
            "[CV] END ..........C=8, gamma=1.3333333333333333, kernel=rbf; total time=   7.5s\n",
            "[CV] END ..........C=8, gamma=1.3333333333333333, kernel=rbf; total time=   7.5s\n",
            "[CV] END ..........C=8, gamma=1.3333333333333333, kernel=rbf; total time=   7.7s\n",
            "[CV] END .......C=8, gamma=1.5555555555555554, kernel=linear; total time=   3.6s\n",
            "[CV] END .......C=8, gamma=1.5555555555555554, kernel=linear; total time=   3.5s\n",
            "[CV] END .......C=8, gamma=1.5555555555555554, kernel=linear; total time=   3.6s\n",
            "[CV] END ..........C=8, gamma=1.5555555555555554, kernel=rbf; total time=   7.8s\n",
            "[CV] END ..........C=8, gamma=1.5555555555555554, kernel=rbf; total time=   7.5s\n",
            "[CV] END ..........C=8, gamma=1.5555555555555554, kernel=rbf; total time=   7.8s\n",
            "[CV] END .......C=8, gamma=1.7777777777777777, kernel=linear; total time=   3.6s\n",
            "[CV] END .......C=8, gamma=1.7777777777777777, kernel=linear; total time=   3.5s\n",
            "[CV] END .......C=8, gamma=1.7777777777777777, kernel=linear; total time=   3.6s\n",
            "[CV] END ..........C=8, gamma=1.7777777777777777, kernel=rbf; total time=   7.5s\n",
            "[CV] END ..........C=8, gamma=1.7777777777777777, kernel=rbf; total time=   7.5s\n",
            "[CV] END ..........C=8, gamma=1.7777777777777777, kernel=rbf; total time=   7.8s\n",
            "[CV] END ......................C=8, gamma=2.0, kernel=linear; total time=   3.5s\n",
            "[CV] END ......................C=8, gamma=2.0, kernel=linear; total time=   3.5s\n",
            "[CV] END ......................C=8, gamma=2.0, kernel=linear; total time=   3.5s\n",
            "[CV] END .........................C=8, gamma=2.0, kernel=rbf; total time=   7.6s\n",
            "[CV] END .........................C=8, gamma=2.0, kernel=rbf; total time=   7.6s\n",
            "[CV] END .........................C=8, gamma=2.0, kernel=rbf; total time=   7.6s\n",
            "[CV] END .....................C=10, gamma=0.0, kernel=linear; total time=   0.0s\n",
            "[CV] END .....................C=10, gamma=0.0, kernel=linear; total time=   0.0s\n",
            "[CV] END .....................C=10, gamma=0.0, kernel=linear; total time=   0.0s\n",
            "[CV] END ........................C=10, gamma=0.0, kernel=rbf; total time=   0.0s\n",
            "[CV] END ........................C=10, gamma=0.0, kernel=rbf; total time=   0.0s\n",
            "[CV] END ........................C=10, gamma=0.0, kernel=rbf; total time=   0.0s\n"
          ]
        },
        {
          "name": "stdout",
          "output_type": "stream",
          "text": [
            "[CV] END ......C=10, gamma=0.2222222222222222, kernel=linear; total time=   3.5s\n",
            "[CV] END ......C=10, gamma=0.2222222222222222, kernel=linear; total time=   3.6s\n",
            "[CV] END ......C=10, gamma=0.2222222222222222, kernel=linear; total time=   3.6s\n",
            "[CV] END .........C=10, gamma=0.2222222222222222, kernel=rbf; total time=   7.7s\n",
            "[CV] END .........C=10, gamma=0.2222222222222222, kernel=rbf; total time=   7.7s\n",
            "[CV] END .........C=10, gamma=0.2222222222222222, kernel=rbf; total time=   7.8s\n",
            "[CV] END ......C=10, gamma=0.4444444444444444, kernel=linear; total time=   3.5s\n",
            "[CV] END ......C=10, gamma=0.4444444444444444, kernel=linear; total time=   3.5s\n",
            "[CV] END ......C=10, gamma=0.4444444444444444, kernel=linear; total time=   3.5s\n",
            "[CV] END .........C=10, gamma=0.4444444444444444, kernel=rbf; total time=   7.9s\n",
            "[CV] END .........C=10, gamma=0.4444444444444444, kernel=rbf; total time=   7.7s\n",
            "[CV] END .........C=10, gamma=0.4444444444444444, kernel=rbf; total time=   7.7s\n",
            "[CV] END ......C=10, gamma=0.6666666666666666, kernel=linear; total time=   3.6s\n",
            "[CV] END ......C=10, gamma=0.6666666666666666, kernel=linear; total time=   3.5s\n",
            "[CV] END ......C=10, gamma=0.6666666666666666, kernel=linear; total time=   3.6s\n",
            "[CV] END .........C=10, gamma=0.6666666666666666, kernel=rbf; total time=   7.7s\n",
            "[CV] END .........C=10, gamma=0.6666666666666666, kernel=rbf; total time=   7.6s\n",
            "[CV] END .........C=10, gamma=0.6666666666666666, kernel=rbf; total time=   7.6s\n",
            "[CV] END ......C=10, gamma=0.8888888888888888, kernel=linear; total time=   3.5s\n",
            "[CV] END ......C=10, gamma=0.8888888888888888, kernel=linear; total time=   3.5s\n",
            "[CV] END ......C=10, gamma=0.8888888888888888, kernel=linear; total time=   3.5s\n",
            "[CV] END .........C=10, gamma=0.8888888888888888, kernel=rbf; total time=   7.6s\n",
            "[CV] END .........C=10, gamma=0.8888888888888888, kernel=rbf; total time=   7.5s\n",
            "[CV] END .........C=10, gamma=0.8888888888888888, kernel=rbf; total time=   7.5s\n",
            "[CV] END ......C=10, gamma=1.1111111111111112, kernel=linear; total time=   3.8s\n",
            "[CV] END ......C=10, gamma=1.1111111111111112, kernel=linear; total time=   4.1s\n",
            "[CV] END ......C=10, gamma=1.1111111111111112, kernel=linear; total time=   4.0s\n",
            "[CV] END .........C=10, gamma=1.1111111111111112, kernel=rbf; total time=   7.6s\n",
            "[CV] END .........C=10, gamma=1.1111111111111112, kernel=rbf; total time=   8.0s\n",
            "[CV] END .........C=10, gamma=1.1111111111111112, kernel=rbf; total time=   7.5s\n",
            "[CV] END ......C=10, gamma=1.3333333333333333, kernel=linear; total time=   3.6s\n",
            "[CV] END ......C=10, gamma=1.3333333333333333, kernel=linear; total time=   3.6s\n",
            "[CV] END ......C=10, gamma=1.3333333333333333, kernel=linear; total time=   3.6s\n",
            "[CV] END .........C=10, gamma=1.3333333333333333, kernel=rbf; total time=   7.7s\n",
            "[CV] END .........C=10, gamma=1.3333333333333333, kernel=rbf; total time=   7.6s\n",
            "[CV] END .........C=10, gamma=1.3333333333333333, kernel=rbf; total time=   7.5s\n",
            "[CV] END ......C=10, gamma=1.5555555555555554, kernel=linear; total time=   3.6s\n",
            "[CV] END ......C=10, gamma=1.5555555555555554, kernel=linear; total time=   3.5s\n",
            "[CV] END ......C=10, gamma=1.5555555555555554, kernel=linear; total time=   3.7s\n",
            "[CV] END .........C=10, gamma=1.5555555555555554, kernel=rbf; total time=   7.5s\n",
            "[CV] END .........C=10, gamma=1.5555555555555554, kernel=rbf; total time=   7.7s\n",
            "[CV] END .........C=10, gamma=1.5555555555555554, kernel=rbf; total time=   7.6s\n",
            "[CV] END ......C=10, gamma=1.7777777777777777, kernel=linear; total time=   3.6s\n",
            "[CV] END ......C=10, gamma=1.7777777777777777, kernel=linear; total time=   3.6s\n",
            "[CV] END ......C=10, gamma=1.7777777777777777, kernel=linear; total time=   3.7s\n",
            "[CV] END .........C=10, gamma=1.7777777777777777, kernel=rbf; total time=   7.6s\n",
            "[CV] END .........C=10, gamma=1.7777777777777777, kernel=rbf; total time=   7.9s\n",
            "[CV] END .........C=10, gamma=1.7777777777777777, kernel=rbf; total time=   7.5s\n",
            "[CV] END .....................C=10, gamma=2.0, kernel=linear; total time=   3.5s\n",
            "[CV] END .....................C=10, gamma=2.0, kernel=linear; total time=   3.6s\n",
            "[CV] END .....................C=10, gamma=2.0, kernel=linear; total time=   3.6s\n",
            "[CV] END ........................C=10, gamma=2.0, kernel=rbf; total time=   7.6s\n",
            "[CV] END ........................C=10, gamma=2.0, kernel=rbf; total time=   7.6s\n",
            "[CV] END ........................C=10, gamma=2.0, kernel=rbf; total time=   7.7s\n"
          ]
        },
        {
          "name": "stderr",
          "output_type": "stream",
          "text": [
            "C:\\Users\\Thinkpad\\jupyter\\handson_ML\\env\\lib\\site-packages\\sklearn\\model_selection\\_validation.py:378: FitFailedWarning: \n",
            "90 fits failed out of a total of 360.\n",
            "The score on these train-test partitions for these parameters will be set to nan.\n",
            "If these failures are not expected, you can try to debug them by setting error_score='raise'.\n",
            "\n",
            "Below are more details about the failures:\n",
            "--------------------------------------------------------------------------------\n",
            "36 fits failed with the following error:\n",
            "Traceback (most recent call last):\n",
            "  File \"C:\\Users\\Thinkpad\\jupyter\\handson_ML\\env\\lib\\site-packages\\sklearn\\model_selection\\_validation.py\", line 686, in _fit_and_score\n",
            "    estimator.fit(X_train, y_train, **fit_params)\n",
            "  File \"C:\\Users\\Thinkpad\\jupyter\\handson_ML\\env\\lib\\site-packages\\sklearn\\svm\\_base.py\", line 237, in fit\n",
            "    raise ValueError(msg)\n",
            "ValueError: gamma value must be > 0; 0.0 is invalid. Use a positive number or use 'auto' to set gamma to a value of 1 / n_features.\n",
            "\n",
            "--------------------------------------------------------------------------------\n",
            "54 fits failed with the following error:\n",
            "Traceback (most recent call last):\n",
            "  File \"C:\\Users\\Thinkpad\\jupyter\\handson_ML\\env\\lib\\site-packages\\sklearn\\model_selection\\_validation.py\", line 686, in _fit_and_score\n",
            "    estimator.fit(X_train, y_train, **fit_params)\n",
            "  File \"C:\\Users\\Thinkpad\\jupyter\\handson_ML\\env\\lib\\site-packages\\sklearn\\svm\\_base.py\", line 251, in fit\n",
            "    fit(X, y, sample_weight, solver_type, kernel, random_seed=seed)\n",
            "  File \"C:\\Users\\Thinkpad\\jupyter\\handson_ML\\env\\lib\\site-packages\\sklearn\\svm\\_base.py\", line 333, in _dense_fit\n",
            "    ) = libsvm.fit(\n",
            "  File \"sklearn\\svm\\_libsvm.pyx\", line 192, in sklearn.svm._libsvm.fit\n",
            "ValueError: C <= 0\n",
            "\n",
            "  warnings.warn(some_fits_failed_message, FitFailedWarning)\n",
            "C:\\Users\\Thinkpad\\jupyter\\handson_ML\\env\\lib\\site-packages\\sklearn\\model_selection\\_search.py:953: UserWarning: One or more of the test scores are non-finite: [            nan             nan             nan             nan\n",
            "             nan             nan             nan             nan\n",
            "             nan             nan             nan             nan\n",
            "             nan             nan             nan             nan\n",
            "             nan             nan             nan             nan\n",
            "             nan             nan -1.20165403e+10 -1.40653949e+10\n",
            " -1.20165403e+10 -1.41052651e+10 -1.20165403e+10 -1.41271944e+10\n",
            " -1.20165403e+10 -1.41378586e+10 -1.20165403e+10 -1.41448241e+10\n",
            " -1.20165403e+10 -1.41487383e+10 -1.20165403e+10 -1.41512422e+10\n",
            " -1.20165403e+10 -1.41527196e+10 -1.20165403e+10 -1.41539179e+10\n",
            "             nan             nan -1.03591113e+10 -1.39699751e+10\n",
            " -1.03591113e+10 -1.40457638e+10 -1.03591113e+10 -1.40874073e+10\n",
            " -1.03591113e+10 -1.41098221e+10 -1.03591113e+10 -1.41242310e+10\n",
            " -1.03591113e+10 -1.41332860e+10 -1.03591113e+10 -1.41397206e+10\n",
            " -1.03591113e+10 -1.41439421e+10 -1.03591113e+10 -1.41472997e+10\n",
            "             nan             nan -9.12814970e+09 -1.38770104e+10\n",
            " -9.12814970e+09 -1.39933246e+10 -9.12814970e+09 -1.40499663e+10\n",
            " -9.12814970e+09 -1.40815276e+10 -9.12814970e+09 -1.41036030e+10\n",
            " -9.12814970e+09 -1.41166605e+10 -9.12814970e+09 -1.41260514e+10\n",
            " -9.12814970e+09 -1.41324622e+10 -9.12814970e+09 -1.41374241e+10\n",
            "             nan             nan -8.26297114e+09 -1.37912397e+10\n",
            " -8.26297114e+09 -1.39377292e+10 -8.26297114e+09 -1.40162443e+10\n",
            " -8.26297114e+09 -1.40592184e+10 -8.26297114e+09 -1.40819655e+10\n",
            " -8.26297114e+09 -1.40994389e+10 -8.26297114e+09 -1.41124236e+10\n",
            " -8.26297114e+09 -1.41230109e+10 -8.26297114e+09 -1.41285772e+10\n",
            "             nan             nan -7.60872765e+09 -1.37058054e+10\n",
            " -7.60872765e+09 -1.38862387e+10 -7.60872765e+09 -1.39808146e+10\n",
            " -7.60872765e+09 -1.40343594e+10 -7.60872765e+09 -1.40665292e+10\n",
            " -7.60872765e+09 -1.40865178e+10 -7.60872765e+09 -1.40992466e+10\n",
            " -7.60872765e+09 -1.41107361e+10 -7.60872765e+09 -1.41204540e+10]\n",
            "  warnings.warn(\n",
            "C:\\Users\\Thinkpad\\jupyter\\handson_ML\\env\\lib\\site-packages\\sklearn\\model_selection\\_search.py:953: UserWarning: One or more of the train scores are non-finite: [            nan             nan             nan             nan\n",
            "             nan             nan             nan             nan\n",
            "             nan             nan             nan             nan\n",
            "             nan             nan             nan             nan\n",
            "             nan             nan             nan             nan\n",
            "             nan             nan -1.20124368e+10 -1.40606464e+10\n",
            " -1.20124368e+10 -1.41006265e+10 -1.20124368e+10 -1.41226790e+10\n",
            " -1.20124368e+10 -1.41333532e+10 -1.20124368e+10 -1.41402132e+10\n",
            " -1.20124368e+10 -1.41441000e+10 -1.20124368e+10 -1.41465299e+10\n",
            " -1.20124368e+10 -1.41479924e+10 -1.20124368e+10 -1.41491755e+10\n",
            "             nan             nan -1.03548196e+10 -1.39650911e+10\n",
            " -1.03548196e+10 -1.40407629e+10 -1.03548196e+10 -1.40825302e+10\n",
            " -1.03548196e+10 -1.41049908e+10 -1.03548196e+10 -1.41193917e+10\n",
            " -1.03548196e+10 -1.41284183e+10 -1.03548196e+10 -1.41348526e+10\n",
            " -1.03548196e+10 -1.41390456e+10 -1.03548196e+10 -1.41423282e+10\n",
            "             nan             nan -9.12420137e+09 -1.38718304e+10\n",
            " -9.12420137e+09 -1.39882550e+10 -9.12420137e+09 -1.40446706e+10\n",
            " -9.12420137e+09 -1.40764099e+10 -9.12420137e+09 -1.40985016e+10\n",
            " -9.12420137e+09 -1.41115334e+10 -9.12420137e+09 -1.41209219e+10\n",
            " -9.12420137e+09 -1.41272491e+10 -9.12420137e+09 -1.41321848e+10\n",
            "             nan             nan -8.25890711e+09 -1.37860014e+10\n",
            " -8.25890711e+09 -1.39322064e+10 -8.25890711e+09 -1.40107969e+10\n",
            " -8.25890711e+09 -1.40537315e+10 -8.25890711e+09 -1.40765281e+10\n",
            " -8.25890711e+09 -1.40940401e+10 -8.25890711e+09 -1.41070414e+10\n",
            " -8.25890711e+09 -1.41176229e+10 -8.25890711e+09 -1.41230999e+10\n",
            "             nan             nan -7.60417058e+09 -1.37003566e+10\n",
            " -7.60417058e+09 -1.38805689e+10 -7.60417058e+09 -1.39750457e+10\n",
            " -7.60417058e+09 -1.40284787e+10 -7.60417058e+09 -1.40606966e+10\n",
            " -7.60417058e+09 -1.40807152e+10 -7.60417058e+09 -1.40934754e+10\n",
            " -7.60417058e+09 -1.41050188e+10 -7.60417058e+09 -1.41147356e+10]\n",
            "  warnings.warn(\n"
          ]
        },
        {
          "data": {
            "text/html": [
              "<style>#sk-container-id-1 {color: black;background-color: white;}#sk-container-id-1 pre{padding: 0;}#sk-container-id-1 div.sk-toggleable {background-color: white;}#sk-container-id-1 label.sk-toggleable__label {cursor: pointer;display: block;width: 100%;margin-bottom: 0;padding: 0.3em;box-sizing: border-box;text-align: center;}#sk-container-id-1 label.sk-toggleable__label-arrow:before {content: \"▸\";float: left;margin-right: 0.25em;color: #696969;}#sk-container-id-1 label.sk-toggleable__label-arrow:hover:before {color: black;}#sk-container-id-1 div.sk-estimator:hover label.sk-toggleable__label-arrow:before {color: black;}#sk-container-id-1 div.sk-toggleable__content {max-height: 0;max-width: 0;overflow: hidden;text-align: left;background-color: #f0f8ff;}#sk-container-id-1 div.sk-toggleable__content pre {margin: 0.2em;color: black;border-radius: 0.25em;background-color: #f0f8ff;}#sk-container-id-1 input.sk-toggleable__control:checked~div.sk-toggleable__content {max-height: 200px;max-width: 100%;overflow: auto;}#sk-container-id-1 input.sk-toggleable__control:checked~label.sk-toggleable__label-arrow:before {content: \"▾\";}#sk-container-id-1 div.sk-estimator input.sk-toggleable__control:checked~label.sk-toggleable__label {background-color: #d4ebff;}#sk-container-id-1 div.sk-label input.sk-toggleable__control:checked~label.sk-toggleable__label {background-color: #d4ebff;}#sk-container-id-1 input.sk-hidden--visually {border: 0;clip: rect(1px 1px 1px 1px);clip: rect(1px, 1px, 1px, 1px);height: 1px;margin: -1px;overflow: hidden;padding: 0;position: absolute;width: 1px;}#sk-container-id-1 div.sk-estimator {font-family: monospace;background-color: #f0f8ff;border: 1px dotted black;border-radius: 0.25em;box-sizing: border-box;margin-bottom: 0.5em;}#sk-container-id-1 div.sk-estimator:hover {background-color: #d4ebff;}#sk-container-id-1 div.sk-parallel-item::after {content: \"\";width: 100%;border-bottom: 1px solid gray;flex-grow: 1;}#sk-container-id-1 div.sk-label:hover label.sk-toggleable__label {background-color: #d4ebff;}#sk-container-id-1 div.sk-serial::before {content: \"\";position: absolute;border-left: 1px solid gray;box-sizing: border-box;top: 0;bottom: 0;left: 50%;z-index: 0;}#sk-container-id-1 div.sk-serial {display: flex;flex-direction: column;align-items: center;background-color: white;padding-right: 0.2em;padding-left: 0.2em;position: relative;}#sk-container-id-1 div.sk-item {position: relative;z-index: 1;}#sk-container-id-1 div.sk-parallel {display: flex;align-items: stretch;justify-content: center;background-color: white;position: relative;}#sk-container-id-1 div.sk-item::before, #sk-container-id-1 div.sk-parallel-item::before {content: \"\";position: absolute;border-left: 1px solid gray;box-sizing: border-box;top: 0;bottom: 0;left: 50%;z-index: -1;}#sk-container-id-1 div.sk-parallel-item {display: flex;flex-direction: column;z-index: 1;position: relative;background-color: white;}#sk-container-id-1 div.sk-parallel-item:first-child::after {align-self: flex-end;width: 50%;}#sk-container-id-1 div.sk-parallel-item:last-child::after {align-self: flex-start;width: 50%;}#sk-container-id-1 div.sk-parallel-item:only-child::after {width: 0;}#sk-container-id-1 div.sk-dashed-wrapped {border: 1px dashed gray;margin: 0 0.4em 0.5em 0.4em;box-sizing: border-box;padding-bottom: 0.4em;background-color: white;}#sk-container-id-1 div.sk-label label {font-family: monospace;font-weight: bold;display: inline-block;line-height: 1.2em;}#sk-container-id-1 div.sk-label-container {text-align: center;}#sk-container-id-1 div.sk-container {/* jupyter's `normalize.less` sets `[hidden] { display: none; }` but bootstrap.min.css set `[hidden] { display: none !important; }` so we also need the `!important` here to be able to override the default hidden behavior on the sphinx rendered scikit-learn.org. See: https://github.com/scikit-learn/scikit-learn/issues/21755 */display: inline-block !important;position: relative;}#sk-container-id-1 div.sk-text-repr-fallback {display: none;}</style><div id=\"sk-container-id-1\" class=\"sk-top-container\"><div class=\"sk-text-repr-fallback\"><pre>GridSearchCV(cv=3, estimator=SVR(),\n",
              "             param_grid={&#x27;C&#x27;: array([ 0,  2,  4,  6,  8, 10]),\n",
              "                         &#x27;gamma&#x27;: array([0.        , 0.22222222, 0.44444444, 0.66666667, 0.88888889,\n",
              "       1.11111111, 1.33333333, 1.55555556, 1.77777778, 2.        ]),\n",
              "                         &#x27;kernel&#x27;: [&#x27;linear&#x27;, &#x27;rbf&#x27;]},\n",
              "             return_train_score=True, scoring=&#x27;neg_mean_squared_error&#x27;,\n",
              "             verbose=2)</pre><b>In a Jupyter environment, please rerun this cell to show the HTML representation or trust the notebook. <br />On GitHub, the HTML representation is unable to render, please try loading this page with nbviewer.org.</b></div><div class=\"sk-container\" hidden><div class=\"sk-item sk-dashed-wrapped\"><div class=\"sk-label-container\"><div class=\"sk-label sk-toggleable\"><input class=\"sk-toggleable__control sk-hidden--visually\" id=\"sk-estimator-id-1\" type=\"checkbox\" ><label for=\"sk-estimator-id-1\" class=\"sk-toggleable__label sk-toggleable__label-arrow\">GridSearchCV</label><div class=\"sk-toggleable__content\"><pre>GridSearchCV(cv=3, estimator=SVR(),\n",
              "             param_grid={&#x27;C&#x27;: array([ 0,  2,  4,  6,  8, 10]),\n",
              "                         &#x27;gamma&#x27;: array([0.        , 0.22222222, 0.44444444, 0.66666667, 0.88888889,\n",
              "       1.11111111, 1.33333333, 1.55555556, 1.77777778, 2.        ]),\n",
              "                         &#x27;kernel&#x27;: [&#x27;linear&#x27;, &#x27;rbf&#x27;]},\n",
              "             return_train_score=True, scoring=&#x27;neg_mean_squared_error&#x27;,\n",
              "             verbose=2)</pre></div></div></div><div class=\"sk-parallel\"><div class=\"sk-parallel-item\"><div class=\"sk-item\"><div class=\"sk-label-container\"><div class=\"sk-label sk-toggleable\"><input class=\"sk-toggleable__control sk-hidden--visually\" id=\"sk-estimator-id-2\" type=\"checkbox\" ><label for=\"sk-estimator-id-2\" class=\"sk-toggleable__label sk-toggleable__label-arrow\">estimator: SVR</label><div class=\"sk-toggleable__content\"><pre>SVR()</pre></div></div></div><div class=\"sk-serial\"><div class=\"sk-item\"><div class=\"sk-estimator sk-toggleable\"><input class=\"sk-toggleable__control sk-hidden--visually\" id=\"sk-estimator-id-3\" type=\"checkbox\" ><label for=\"sk-estimator-id-3\" class=\"sk-toggleable__label sk-toggleable__label-arrow\">SVR</label><div class=\"sk-toggleable__content\"><pre>SVR()</pre></div></div></div></div></div></div></div></div></div></div>"
            ],
            "text/plain": [
              "GridSearchCV(cv=3, estimator=SVR(),\n",
              "             param_grid={'C': array([ 0,  2,  4,  6,  8, 10]),\n",
              "                         'gamma': array([0.        , 0.22222222, 0.44444444, 0.66666667, 0.88888889,\n",
              "       1.11111111, 1.33333333, 1.55555556, 1.77777778, 2.        ]),\n",
              "                         'kernel': ['linear', 'rbf']},\n",
              "             return_train_score=True, scoring='neg_mean_squared_error',\n",
              "             verbose=2)"
            ]
          },
          "execution_count": 14,
          "metadata": {},
          "output_type": "execute_result"
        }
      ],
      "source": [
        "from sklearn.model_selection import GridSearchCV\n",
        "params_grid = {\"kernel\":[\"linear\", \"rbf\"],\n",
        "               \"C\": np.arange(0, 12, 2),\n",
        "               \"gamma\":np.linspace(0, 2, 10)}\n",
        "svm = SVR()\n",
        "grid_search = GridSearchCV(svm, params_grid, cv=3, scoring=\"neg_mean_squared_error\", \n",
        "                           return_train_score=True, n_jobs=-1, verbose=2)\n",
        "grid_search.fit(housing_prepared, housing_labels)"
      ]
    },
    {
      "cell_type": "code",
      "execution_count": null,
      "id": "9f7eb41a",
      "metadata": {
        "id": "9f7eb41a",
        "outputId": "c85347be-a222-4b20-e090-78548c173010"
      },
      "outputs": [
        {
          "data": {
            "text/plain": [
              "{'C': 10, 'gamma': 0.2222222222222222, 'kernel': 'linear'}"
            ]
          },
          "execution_count": 17,
          "metadata": {},
          "output_type": "execute_result"
        }
      ],
      "source": [
        "grid_search.best_params_"
      ]
    },
    {
      "cell_type": "code",
      "execution_count": null,
      "id": "9fb2b115",
      "metadata": {
        "id": "9fb2b115",
        "outputId": "ab59b790-79df-4fd0-fa74-dea209c5af21"
      },
      "outputs": [
        {
          "data": {
            "text/plain": [
              "6488048900.022727"
            ]
          },
          "execution_count": 19,
          "metadata": {},
          "output_type": "execute_result"
        }
      ],
      "source": [
        "housing_pred = grid_search.best_estimator_.predict(full_pipeline.transform(housing_test))\n",
        "mean_squared_error(housing_pred, housing_test_labels)"
      ]
    },
    {
      "cell_type": "code",
      "execution_count": null,
      "id": "0e6c1fba",
      "metadata": {
        "id": "0e6c1fba",
        "outputId": "e53bd053-7929-4c3b-c724-7bd4f671e118"
      },
      "outputs": [
        {
          "data": {
            "text/html": [
              "<style>#sk-container-id-2 {color: black;background-color: white;}#sk-container-id-2 pre{padding: 0;}#sk-container-id-2 div.sk-toggleable {background-color: white;}#sk-container-id-2 label.sk-toggleable__label {cursor: pointer;display: block;width: 100%;margin-bottom: 0;padding: 0.3em;box-sizing: border-box;text-align: center;}#sk-container-id-2 label.sk-toggleable__label-arrow:before {content: \"▸\";float: left;margin-right: 0.25em;color: #696969;}#sk-container-id-2 label.sk-toggleable__label-arrow:hover:before {color: black;}#sk-container-id-2 div.sk-estimator:hover label.sk-toggleable__label-arrow:before {color: black;}#sk-container-id-2 div.sk-toggleable__content {max-height: 0;max-width: 0;overflow: hidden;text-align: left;background-color: #f0f8ff;}#sk-container-id-2 div.sk-toggleable__content pre {margin: 0.2em;color: black;border-radius: 0.25em;background-color: #f0f8ff;}#sk-container-id-2 input.sk-toggleable__control:checked~div.sk-toggleable__content {max-height: 200px;max-width: 100%;overflow: auto;}#sk-container-id-2 input.sk-toggleable__control:checked~label.sk-toggleable__label-arrow:before {content: \"▾\";}#sk-container-id-2 div.sk-estimator input.sk-toggleable__control:checked~label.sk-toggleable__label {background-color: #d4ebff;}#sk-container-id-2 div.sk-label input.sk-toggleable__control:checked~label.sk-toggleable__label {background-color: #d4ebff;}#sk-container-id-2 input.sk-hidden--visually {border: 0;clip: rect(1px 1px 1px 1px);clip: rect(1px, 1px, 1px, 1px);height: 1px;margin: -1px;overflow: hidden;padding: 0;position: absolute;width: 1px;}#sk-container-id-2 div.sk-estimator {font-family: monospace;background-color: #f0f8ff;border: 1px dotted black;border-radius: 0.25em;box-sizing: border-box;margin-bottom: 0.5em;}#sk-container-id-2 div.sk-estimator:hover {background-color: #d4ebff;}#sk-container-id-2 div.sk-parallel-item::after {content: \"\";width: 100%;border-bottom: 1px solid gray;flex-grow: 1;}#sk-container-id-2 div.sk-label:hover label.sk-toggleable__label {background-color: #d4ebff;}#sk-container-id-2 div.sk-serial::before {content: \"\";position: absolute;border-left: 1px solid gray;box-sizing: border-box;top: 0;bottom: 0;left: 50%;z-index: 0;}#sk-container-id-2 div.sk-serial {display: flex;flex-direction: column;align-items: center;background-color: white;padding-right: 0.2em;padding-left: 0.2em;position: relative;}#sk-container-id-2 div.sk-item {position: relative;z-index: 1;}#sk-container-id-2 div.sk-parallel {display: flex;align-items: stretch;justify-content: center;background-color: white;position: relative;}#sk-container-id-2 div.sk-item::before, #sk-container-id-2 div.sk-parallel-item::before {content: \"\";position: absolute;border-left: 1px solid gray;box-sizing: border-box;top: 0;bottom: 0;left: 50%;z-index: -1;}#sk-container-id-2 div.sk-parallel-item {display: flex;flex-direction: column;z-index: 1;position: relative;background-color: white;}#sk-container-id-2 div.sk-parallel-item:first-child::after {align-self: flex-end;width: 50%;}#sk-container-id-2 div.sk-parallel-item:last-child::after {align-self: flex-start;width: 50%;}#sk-container-id-2 div.sk-parallel-item:only-child::after {width: 0;}#sk-container-id-2 div.sk-dashed-wrapped {border: 1px dashed gray;margin: 0 0.4em 0.5em 0.4em;box-sizing: border-box;padding-bottom: 0.4em;background-color: white;}#sk-container-id-2 div.sk-label label {font-family: monospace;font-weight: bold;display: inline-block;line-height: 1.2em;}#sk-container-id-2 div.sk-label-container {text-align: center;}#sk-container-id-2 div.sk-container {/* jupyter's `normalize.less` sets `[hidden] { display: none; }` but bootstrap.min.css set `[hidden] { display: none !important; }` so we also need the `!important` here to be able to override the default hidden behavior on the sphinx rendered scikit-learn.org. See: https://github.com/scikit-learn/scikit-learn/issues/21755 */display: inline-block !important;position: relative;}#sk-container-id-2 div.sk-text-repr-fallback {display: none;}</style><div id=\"sk-container-id-2\" class=\"sk-top-container\"><div class=\"sk-text-repr-fallback\"><pre>RandomizedSearchCV(cv=5, estimator=SVR(), n_iter=50, n_jobs=-1,\n",
              "                   param_distributions={&#x27;C&#x27;: &lt;scipy.stats._distn_infrastructure.rv_frozen object at 0x00000213D6C089D0&gt;,\n",
              "                                        &#x27;gamma&#x27;: &lt;scipy.stats._distn_infrastructure.rv_frozen object at 0x00000213D6965F40&gt;,\n",
              "                                        &#x27;kernel&#x27;: [&#x27;linear&#x27;, &#x27;rbf&#x27;]},\n",
              "                   return_train_score=True, scoring=&#x27;neg_mean_squared_error&#x27;)</pre><b>In a Jupyter environment, please rerun this cell to show the HTML representation or trust the notebook. <br />On GitHub, the HTML representation is unable to render, please try loading this page with nbviewer.org.</b></div><div class=\"sk-container\" hidden><div class=\"sk-item sk-dashed-wrapped\"><div class=\"sk-label-container\"><div class=\"sk-label sk-toggleable\"><input class=\"sk-toggleable__control sk-hidden--visually\" id=\"sk-estimator-id-4\" type=\"checkbox\" ><label for=\"sk-estimator-id-4\" class=\"sk-toggleable__label sk-toggleable__label-arrow\">RandomizedSearchCV</label><div class=\"sk-toggleable__content\"><pre>RandomizedSearchCV(cv=5, estimator=SVR(), n_iter=50, n_jobs=-1,\n",
              "                   param_distributions={&#x27;C&#x27;: &lt;scipy.stats._distn_infrastructure.rv_frozen object at 0x00000213D6C089D0&gt;,\n",
              "                                        &#x27;gamma&#x27;: &lt;scipy.stats._distn_infrastructure.rv_frozen object at 0x00000213D6965F40&gt;,\n",
              "                                        &#x27;kernel&#x27;: [&#x27;linear&#x27;, &#x27;rbf&#x27;]},\n",
              "                   return_train_score=True, scoring=&#x27;neg_mean_squared_error&#x27;)</pre></div></div></div><div class=\"sk-parallel\"><div class=\"sk-parallel-item\"><div class=\"sk-item\"><div class=\"sk-label-container\"><div class=\"sk-label sk-toggleable\"><input class=\"sk-toggleable__control sk-hidden--visually\" id=\"sk-estimator-id-5\" type=\"checkbox\" ><label for=\"sk-estimator-id-5\" class=\"sk-toggleable__label sk-toggleable__label-arrow\">estimator: SVR</label><div class=\"sk-toggleable__content\"><pre>SVR()</pre></div></div></div><div class=\"sk-serial\"><div class=\"sk-item\"><div class=\"sk-estimator sk-toggleable\"><input class=\"sk-toggleable__control sk-hidden--visually\" id=\"sk-estimator-id-6\" type=\"checkbox\" ><label for=\"sk-estimator-id-6\" class=\"sk-toggleable__label sk-toggleable__label-arrow\">SVR</label><div class=\"sk-toggleable__content\"><pre>SVR()</pre></div></div></div></div></div></div></div></div></div></div>"
            ],
            "text/plain": [
              "RandomizedSearchCV(cv=5, estimator=SVR(), n_iter=50, n_jobs=-1,\n",
              "                   param_distributions={'C': <scipy.stats._distn_infrastructure.rv_frozen object at 0x00000213D6C089D0>,\n",
              "                                        'gamma': <scipy.stats._distn_infrastructure.rv_frozen object at 0x00000213D6965F40>,\n",
              "                                        'kernel': ['linear', 'rbf']},\n",
              "                   return_train_score=True, scoring='neg_mean_squared_error')"
            ]
          },
          "execution_count": 20,
          "metadata": {},
          "output_type": "execute_result"
        }
      ],
      "source": [
        "from sklearn.model_selection import RandomizedSearchCV\n",
        "from scipy.stats import expon, reciprocal\n",
        "params_dists = {\"kernel\":[\"linear\", \"rbf\"],\n",
        "               \"C\": reciprocal(0.5, 10),\n",
        "               \"gamma\": expon(scale=1.0)\n",
        "              }\n",
        "rnd_search = RandomizedSearchCV(svm, params_dists, n_iter=50, cv=5, \n",
        "                                scoring=\"neg_mean_squared_error\", n_jobs=-1, return_train_score=True)\n",
        "rnd_search.fit(housing_prepared, housing_labels)"
      ]
    },
    {
      "cell_type": "code",
      "execution_count": null,
      "id": "bc3dd0c0",
      "metadata": {
        "id": "bc3dd0c0",
        "outputId": "62409b56-e06f-4d7c-e387-fdba038ca3da"
      },
      "outputs": [
        {
          "data": {
            "text/plain": [
              "{'C': 9.230035192340598, 'gamma': 2.150822659390505, 'kernel': 'linear'}"
            ]
          },
          "execution_count": 21,
          "metadata": {},
          "output_type": "execute_result"
        }
      ],
      "source": [
        "rnd_search.best_params_"
      ]
    },
    {
      "cell_type": "code",
      "execution_count": null,
      "id": "50cbfa88",
      "metadata": {
        "id": "50cbfa88",
        "outputId": "d4beb5d3-86bc-45ed-b8ab-b67b3ed66a0c"
      },
      "outputs": [
        {
          "data": {
            "text/plain": [
              "6614528672.586175"
            ]
          },
          "execution_count": 22,
          "metadata": {},
          "output_type": "execute_result"
        }
      ],
      "source": [
        "housing_pred = rnd_search.best_estimator_.predict(full_pipeline.transform(housing_test))\n",
        "mean_squared_error(housing_pred, housing_test_labels)"
      ]
    }
  ],
  "metadata": {
    "kernelspec": {
      "display_name": "Python 3 (ipykernel)",
      "language": "python",
      "name": "python3"
    },
    "language_info": {
      "codemirror_mode": {
        "name": "ipython",
        "version": 3
      },
      "file_extension": ".py",
      "mimetype": "text/x-python",
      "name": "python",
      "nbconvert_exporter": "python",
      "pygments_lexer": "ipython3",
      "version": "3.9.6"
    },
    "colab": {
      "provenance": [],
      "include_colab_link": true
    }
  },
  "nbformat": 4,
  "nbformat_minor": 5
}